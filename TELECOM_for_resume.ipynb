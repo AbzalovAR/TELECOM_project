{
 "cells": [
  {
   "cell_type": "markdown",
   "metadata": {},
   "source": [
    "<a id='nachalo'></a>\n",
    "\n",
    "<div style=\"border-radius: 40px; box-shadow: 4px 4px 4px; border: solid blue 10px; padding: 10px\">\n",
    "\n",
    "\n",
    "<h1 align=\"right\"> ПРОЕКТ ТЕЛЕКОМ </h1>\n",
    "\n",
    "<font color='crimson'>\n",
    "\n",
    "<h1 align=\"center\"> ОПРЕДЕЛЕНИЕ НЕЭФФЕКТИВНЫХ ОПЕРАТОРОВ </h1>\n",
    "</font>\n",
    "<h3 align=\"right\"> Выполнил: Абзалов Артур</h3>\n",
    "<h3 align=\"right\"> Телефон: +7(932)422-34-33</h3>\n",
    "\n",
    "<h3 align=\"right\"> 23.09.2023</h3>"
   ]
  },
  {
   "cell_type": "markdown",
   "metadata": {},
   "source": [
    "Ссылка на презентацию: https://yadi.sk/i/kXAu71bVo08xvA"
   ]
  },
  {
   "cell_type": "markdown",
   "metadata": {},
   "source": [
    "Ссылка на дашборд: https://public.tableau.com/app/profile/artur6529/viz/Telecom_1_16964128666420/Dashboard1"
   ]
  },
  {
   "cell_type": "markdown",
   "metadata": {},
   "source": [
    "<a id='0'></a>\n",
    "<font color='crimson'>  \n",
    "<h2 align=\"center\"> Описание проекта</h2>\n",
    "</font>"
   ]
  },
  {
   "cell_type": "markdown",
   "metadata": {},
   "source": [
    "Наш заказчик - Телеком провайдер «Нупозвони». Клиенты заказчика − колл-центры, которые:\n",
    "* распределяют входящие вызовы на операторов,\n",
    "* совершают исходящие вызовы силами операторов.<br>\n",
    "Также операторы могут делать внутренние вызовы — вызовы друг между другом внутри сети виртуальной телефонии. <br>\n",
    "Наша задача разработать методику, по которой можно будет определять неэффективных\n",
    "операторов автоматически, чтобы заказчик смог предлогать своим клиентам новый сервис для регулярного мониторинга «Нупозвони мне, нупозвони!»\n",
    "\n",
    "**Задача:**\n",
    "**разработать методику, по которой можно будет определять неэффективных\n",
    "операторов автоматически.** <br>\n",
    "Признаки низкой эффективности:\n",
    "* много пропущенных входящих вызовов,\n",
    "* долгое ожидания ответа при входящих внешних вызовах,\n",
    "* мало исходящих вывозов — в случае тех колл-центров, что специализируются на обзвонах, а не обработке входящих звонков."
   ]
  },
  {
   "cell_type": "markdown",
   "metadata": {},
   "source": [
    "<a id='0'></a>\n",
    "<font color='crimson'>\n",
    "    <h2 align=\"center\"> Содержание</h2>\n",
    "</font>"
   ]
  },
  {
   "cell_type": "markdown",
   "metadata": {},
   "source": [
    "0. [Описание проекта](#1)<br>\n",
    "1. [Содержание](#0)<br>\n",
    "2. [Обзор данных](#2)<br>\n",
    "3. [Подготовка данных](#3)<br>\n",
    "    3.1. [Объединим датафреймы](#3-1)<br>\n",
    "    3.2. [Удалим дубликаты](#3-2)<br>\n",
    "    3.3. [Обработаем пропуски](#3-3)<br>\n",
    "    &ensp; 3.3.1. [пропуски в столбце `operator_id`](#3-3-1)<br>\n",
    "    &ensp; 3.3.2. [пропуски в столбце `internal`](#3-3-2)<br>\n",
    "    &ensp; 3.3.3. [приведем в соответствие данные столбца `is_missed_call`](#3-3-3)<br>\n",
    "    3.4. [Преобразуем типы данных](#3-4)<br>\n",
    "    3.5. [Найдем и уберем отклонения(выбросы)](#3-5)<br>\n",
    "    3.6. [Проверим категориальные столбцы](#3-6)<br>\n",
    "    3.7. [Добавим дополнительный столбец](#3-7)<br>\n",
    "    3.8. [Отобразим корреляцию](#3-8)<br>\n",
    "    3.9. [Создадим дополнительные столбцы](#3-9)<br>\n",
    "\n",
    "4. [Исследоваиельский анализ](#4)<br>\n",
    "    4.1. [Разделим колл-центры по специализации](#4-1)<br>\n",
    "    4.2. [Проверим связь специализации с тарифным планом](#4-2)<br>\n",
    "    4.3. [Оперелим границы эффективности операторов в колл-центрах,<br>\n",
    "которые **специализируются на обработке входящих звонков**](#4-3)<br>\n",
    "    &ensp; 4.3.1. [по пропущенным внешним вызовам](#4-3-1)<br>\n",
    "    &ensp; 4.3.2. [по длительности ожидания ответа](#4-3-2)<br>\n",
    "    &ensp; 4.3.3. [по длительности самого ответа](#4-3-3)<br>\n",
    "    4.4. [Опереление границ эффективности операторов в колл-центрах,<br>\n",
    "которые **специализируются на обзвонах**](#4-4)<br>\n",
    "    &ensp; 4.4.1. [по количеству исходящих внешних звонков](#4-4-1)<br>\n",
    "    &ensp; 4.4.2. [по продолжительности самого звонка](#4-4-2)<br>\n",
    "\n",
    "5. [Определим неэффективных операторов](#5)<br>\n",
    "    5.1. [Определим неэффективных операторов в колл-центрах, которые **специализируются на обработке входящих звонков**](#5-1)<br>\n",
    "    &ensp; 5.1.1. [по пропущенным внешним вызовам](#5-1-1)<br>\n",
    "    &ensp; 5.1.2. [по длительности ожидания ответа](#5-1-2)<br>\n",
    "    &ensp; 5.1.3. [по длительности ответа](#5-1-3)<br>\n",
    "    5.2. [Определим неэффективных операторов в колл-центрах, которые **специализируются на обзвонах**](#5-2)<br>\n",
    "    &ensp; 5.2.1. [по количеству исходящих внешних звонков](#5-2-1)<br>\n",
    "    &ensp; 5.2.2. [по продолжительности звонка](#5-2-2)<br>\n",
    " \n",
    "6. [Проверим гипотезы](#5)<br>\n",
    "    6.1. [Эффективность работы оперторов в выходные дни и в будни отличается](#6-1)<br>\n",
    "    6.2. [В выходные дни и в будни относительное количество пропущенных звонков одинаковое](#6-2)<br>\n",
    "    \n",
    "7. [Выводы](#itog)"
   ]
  },
  {
   "cell_type": "markdown",
   "metadata": {},
   "source": [
    "<a id='2'></a>\n",
    "<font color='crimson'>\n",
    "<h2 align=\"center\"> Обзор данных</h2>\n",
    "</font>"
   ]
  },
  {
   "cell_type": "markdown",
   "metadata": {},
   "source": [
    "Импортируем необходимые библиотеки"
   ]
  },
  {
   "cell_type": "code",
   "execution_count": 1,
   "metadata": {},
   "outputs": [],
   "source": [
    "import pandas as pd\n",
    "import matplotlib.pyplot as plt\n",
    "import seaborn as sns\n",
    "import numpy as np\n",
    "from datetime import datetime, timedelta,date\n",
    "\n",
    "#from scipy import stats as st\n",
    "import scipy"
   ]
  },
  {
   "cell_type": "markdown",
   "metadata": {},
   "source": [
    " Расширим ячейки для удобства"
   ]
  },
  {
   "cell_type": "code",
   "execution_count": 2,
   "metadata": {},
   "outputs": [
    {
     "data": {
      "text/html": [
       "<style>.container { width:80% !important; }</style>"
      ],
      "text/plain": [
       "<IPython.core.display.HTML object>"
      ]
     },
     "metadata": {},
     "output_type": "display_data"
    }
   ],
   "source": [
    "# Расширим ячейки до 90% ширины\n",
    "from IPython.core.display import display, HTML \n",
    "display(HTML(\"<style>.container { width:80% !important; }</style>\")) # Можно выставить и другую ширину изменив проценты<a id='1'></a>"
   ]
  },
  {
   "cell_type": "markdown",
   "metadata": {},
   "source": [
    "Загрузим датасеты:"
   ]
  },
  {
   "cell_type": "code",
   "execution_count": 3,
   "metadata": {},
   "outputs": [],
   "source": [
    "# Загрузим первый датасет\n",
    "try:\n",
    "    telecom_dataset = pd.read_csv('telecom_dataset.csv', parse_dates=['date'],infer_datetime_format=True) \n",
    "except:\n",
    "    telecom_dataset = pd.read_csv('https://code.s3.yandex.net/datasets/telecom_dataset.csv', parse_dates=['date'],infer_datetime_format=True)"
   ]
  },
  {
   "cell_type": "code",
   "execution_count": 4,
   "metadata": {},
   "outputs": [],
   "source": [
    "# Загрузим второй датасет    \n",
    "try:\n",
    "    telecom_clients = pd.read_csv('telecom_clients.csv', parse_dates=['date_start'],infer_datetime_format=True)\n",
    "except:\n",
    "    telecom_clients = pd.read_csv('https://code.s3.yandex.net/datasets/telecom_clients.csv', parse_dates=['date_start'],infer_datetime_format=True)    "
   ]
  },
  {
   "cell_type": "markdown",
   "metadata": {},
   "source": [
    "Напишем функцию для разведывательного анализа датафреймов"
   ]
  },
  {
   "cell_type": "code",
   "execution_count": 5,
   "metadata": {},
   "outputs": [],
   "source": [
    "def analiz_nachalo(data):\n",
    "    \"\"\"\n",
    "        Эта функция для первичного анализа данных.\n",
    "        \n",
    "    \"\"\"    \n",
    "    print('\\b'+'\\033[1m'+'\\033[91m'+' Датафрейм содержит \\n столбцов ', data.shape[1], \n",
    "          ' шт. и строк ', data.shape[0], ' шт.'+'\\033[0m \\n') \n",
    "\n",
    "    print('\\b'+'\\033[1m'+'\\033[91m'+' Первые 5 строк:'+'\\033[0m')\n",
    "    pd.set_option('display.max_columns', None) # чтобы отобразить все столбцы\n",
    "    display(data.head())\n",
    "    \n",
    "    print('\\033[1m'+'\\033[91m'+' Последние 5 строк:'+'\\033[0m')\n",
    "    pd.set_option('display.max_columns', None) # чтобы отобразить все столбцы\n",
    "    display(data.tail())\n",
    "    \n",
    "    \n",
    "    print('\\n\\b'+'\\033[1m'+'\\033[91m'+' Выведем общую информацию о датафрейме:'+'\\033[0m \\n')        \n",
    "    data.info(show_counts=True) # show_counts=True - отобразить количество заполненых колонок\n",
    "    \n",
    "    # Проверим есть ли пропуски\n",
    "    n = 0\n",
    "    for i in data.columns:\n",
    "        n += data[i].isna().sum() \n",
    "    if n > 0:\n",
    "        print('\\n\\b'+'\\033[1m'+'\\033[91m'+' Как видим в датафрейме имеются пропуски в следующих столбцах:'+'\\033[0m')\n",
    "        for i in data:\n",
    "            if data[i].isna().sum() > 0:\n",
    "                print('    в столбце '+'\\033[94m'+f'{i}'+'\\033[0m'+' = ', data[i].isna().sum(), 'шт.'+'\\033[0m')\n",
    "        print('    в остальных столбцах пропусков нет')\n",
    "\n",
    "        #print ('\\033[1m'+'\\033[91m'+'\\n Отобразим пропуски визуально'+'\\033[0m')\n",
    "        #plt.figure(figsize=(15,10))\n",
    "        #sns.heatmap(data.isna(), yticklabels=False, cbar=False, cmap=\"YlGnBu\") # не забудь импортнуть библиотеку seaborn  import seaborn as sns\n",
    "        #plt.show()\n",
    "    else: print('\\n\\b'+'\\033[1m'+'\\033[91m'+' Пропусков в данных нет - прекрасно!'+'\\033[0m')\n",
    "        \n",
    "    print('\\n\\b'+'\\033[1m'+'\\033[91m'+' Количество явных дубликатов:'+'\\033[0m', data.duplicated().sum())  \n",
    "    \n",
    "    try:\n",
    "        print(' \\n\\b'+'\\033[1m'+'\\033[91m'+' Выведем информацию о числовых столбцах\\n (показатели описательной статистики):'+'\\033[0m')\n",
    "        display(data.describe()) #  вычисление показателей описательной статистики\n",
    "\n",
    "        print('\\b'+'\\033[1m'+'\\033[91m'+' Построим гистограммы для всех числовых столбцов датасета:'+'\\033[0m')          \n",
    "        data.hist(figsize=(15,5), bins=50); \n",
    "        plt.suptitle('Гистограммы распределения признаков') # Должна быть импортированна библиотека матплотлиб  import matplotlib.pyplot as plt\n",
    "        plt.show()\n",
    "    except: print('    гистограммы не возможно вывести')\n",
    "            \n",
    "    print('\\n\\b'+'\\033[1m'+'\\033[91m'+' Проверим категориальные столбцы:\\n'+\n",
    "          '(за категориальные столбцы программа принимает столбцы, \\n'+\n",
    "          'в которых уникальных значений меньше \"50\") \\033[0m')  \n",
    "    for i in data:\n",
    "        if data[i].nunique() < 50: # Если уникальных значений столбца больше условно 50 - будем считать его числовым, \n",
    "                                # в некоторых случаях 50 нужно уменьшить/увеличить\n",
    "            print('    Уникальные значения столбца'+'\\033[94m'+f' {i}:'+'\\033[0m'+'')\n",
    "            print(data[i].sort_values().unique())\n",
    "            print('    Статистика распределения уникальных значений:')\n",
    "            print(data[i].sort_values().value_counts(normalize=True), '% \\n')\n",
    "    \n",
    "    print('\\n \\033[94m \\033[01m'+'*'*99)"
   ]
  },
  {
   "cell_type": "code",
   "execution_count": 145,
   "metadata": {},
   "outputs": [],
   "source": [
    "datetime_is_numeric=True"
   ]
  },
  {
   "cell_type": "markdown",
   "metadata": {},
   "source": [
    "Посмотри оба датафрейма:"
   ]
  },
  {
   "cell_type": "markdown",
   "metadata": {},
   "source": [
    "**Датасет `telecom_dataset`:**<br>\n",
    "`user_id` — идентификатор клиента;<br>\n",
    "`date` — дата статистики;<br>\n",
    "`direction` — направление вызовов: `out` — исходящий вызов, `in` — входящий;<br>\n",
    "`internal` — маркер внутренних (**True**) и внешних (**False**) вызовов;<br>\n",
    "`operator_id` — идентификатор оператора;<br>\n",
    "`is_missed_call` — маркер пропущенных вызовов;<br>\n",
    "`calls_count` — количество звонков;<br>\n",
    "`call_duration` — длительность звонка без учёта времени ожидания (**в секундах**);<br>\n",
    "`total_call_duration` — длительность звонка с учётом времени ожидания (**в секундах**).<br>"
   ]
  },
  {
   "cell_type": "code",
   "execution_count": 6,
   "metadata": {
    "scrolled": false
   },
   "outputs": [
    {
     "name": "stdout",
     "output_type": "stream",
     "text": [
      "\b\u001b[1m\u001b[91m Датафрейм содержит \n",
      " столбцов  9  шт. и строк  53902  шт.\u001b[0m \n",
      "\n",
      "\b\u001b[1m\u001b[91m Первые 5 строк:\u001b[0m\n"
     ]
    },
    {
     "data": {
      "text/html": [
       "<div>\n",
       "<style scoped>\n",
       "    .dataframe tbody tr th:only-of-type {\n",
       "        vertical-align: middle;\n",
       "    }\n",
       "\n",
       "    .dataframe tbody tr th {\n",
       "        vertical-align: top;\n",
       "    }\n",
       "\n",
       "    .dataframe thead th {\n",
       "        text-align: right;\n",
       "    }\n",
       "</style>\n",
       "<table border=\"1\" class=\"dataframe\">\n",
       "  <thead>\n",
       "    <tr style=\"text-align: right;\">\n",
       "      <th></th>\n",
       "      <th>user_id</th>\n",
       "      <th>date</th>\n",
       "      <th>direction</th>\n",
       "      <th>internal</th>\n",
       "      <th>operator_id</th>\n",
       "      <th>is_missed_call</th>\n",
       "      <th>calls_count</th>\n",
       "      <th>call_duration</th>\n",
       "      <th>total_call_duration</th>\n",
       "    </tr>\n",
       "  </thead>\n",
       "  <tbody>\n",
       "    <tr>\n",
       "      <th>0</th>\n",
       "      <td>166377</td>\n",
       "      <td>2019-08-04 00:00:00+03:00</td>\n",
       "      <td>in</td>\n",
       "      <td>False</td>\n",
       "      <td>NaN</td>\n",
       "      <td>True</td>\n",
       "      <td>2</td>\n",
       "      <td>0</td>\n",
       "      <td>4</td>\n",
       "    </tr>\n",
       "    <tr>\n",
       "      <th>1</th>\n",
       "      <td>166377</td>\n",
       "      <td>2019-08-05 00:00:00+03:00</td>\n",
       "      <td>out</td>\n",
       "      <td>True</td>\n",
       "      <td>880022.0</td>\n",
       "      <td>True</td>\n",
       "      <td>3</td>\n",
       "      <td>0</td>\n",
       "      <td>5</td>\n",
       "    </tr>\n",
       "    <tr>\n",
       "      <th>2</th>\n",
       "      <td>166377</td>\n",
       "      <td>2019-08-05 00:00:00+03:00</td>\n",
       "      <td>out</td>\n",
       "      <td>True</td>\n",
       "      <td>880020.0</td>\n",
       "      <td>True</td>\n",
       "      <td>1</td>\n",
       "      <td>0</td>\n",
       "      <td>1</td>\n",
       "    </tr>\n",
       "    <tr>\n",
       "      <th>3</th>\n",
       "      <td>166377</td>\n",
       "      <td>2019-08-05 00:00:00+03:00</td>\n",
       "      <td>out</td>\n",
       "      <td>True</td>\n",
       "      <td>880020.0</td>\n",
       "      <td>False</td>\n",
       "      <td>1</td>\n",
       "      <td>10</td>\n",
       "      <td>18</td>\n",
       "    </tr>\n",
       "    <tr>\n",
       "      <th>4</th>\n",
       "      <td>166377</td>\n",
       "      <td>2019-08-05 00:00:00+03:00</td>\n",
       "      <td>out</td>\n",
       "      <td>False</td>\n",
       "      <td>880022.0</td>\n",
       "      <td>True</td>\n",
       "      <td>3</td>\n",
       "      <td>0</td>\n",
       "      <td>25</td>\n",
       "    </tr>\n",
       "  </tbody>\n",
       "</table>\n",
       "</div>"
      ],
      "text/plain": [
       "   user_id                      date direction internal  operator_id  \\\n",
       "0   166377 2019-08-04 00:00:00+03:00        in    False          NaN   \n",
       "1   166377 2019-08-05 00:00:00+03:00       out     True     880022.0   \n",
       "2   166377 2019-08-05 00:00:00+03:00       out     True     880020.0   \n",
       "3   166377 2019-08-05 00:00:00+03:00       out     True     880020.0   \n",
       "4   166377 2019-08-05 00:00:00+03:00       out    False     880022.0   \n",
       "\n",
       "   is_missed_call  calls_count  call_duration  total_call_duration  \n",
       "0            True            2              0                    4  \n",
       "1            True            3              0                    5  \n",
       "2            True            1              0                    1  \n",
       "3           False            1             10                   18  \n",
       "4            True            3              0                   25  "
      ]
     },
     "metadata": {},
     "output_type": "display_data"
    },
    {
     "name": "stdout",
     "output_type": "stream",
     "text": [
      "\u001b[1m\u001b[91m Последние 5 строк:\u001b[0m\n"
     ]
    },
    {
     "data": {
      "text/html": [
       "<div>\n",
       "<style scoped>\n",
       "    .dataframe tbody tr th:only-of-type {\n",
       "        vertical-align: middle;\n",
       "    }\n",
       "\n",
       "    .dataframe tbody tr th {\n",
       "        vertical-align: top;\n",
       "    }\n",
       "\n",
       "    .dataframe thead th {\n",
       "        text-align: right;\n",
       "    }\n",
       "</style>\n",
       "<table border=\"1\" class=\"dataframe\">\n",
       "  <thead>\n",
       "    <tr style=\"text-align: right;\">\n",
       "      <th></th>\n",
       "      <th>user_id</th>\n",
       "      <th>date</th>\n",
       "      <th>direction</th>\n",
       "      <th>internal</th>\n",
       "      <th>operator_id</th>\n",
       "      <th>is_missed_call</th>\n",
       "      <th>calls_count</th>\n",
       "      <th>call_duration</th>\n",
       "      <th>total_call_duration</th>\n",
       "    </tr>\n",
       "  </thead>\n",
       "  <tbody>\n",
       "    <tr>\n",
       "      <th>53897</th>\n",
       "      <td>168606</td>\n",
       "      <td>2019-11-10 00:00:00+03:00</td>\n",
       "      <td>out</td>\n",
       "      <td>True</td>\n",
       "      <td>957922.0</td>\n",
       "      <td>True</td>\n",
       "      <td>1</td>\n",
       "      <td>0</td>\n",
       "      <td>38</td>\n",
       "    </tr>\n",
       "    <tr>\n",
       "      <th>53898</th>\n",
       "      <td>168606</td>\n",
       "      <td>2019-11-11 00:00:00+03:00</td>\n",
       "      <td>out</td>\n",
       "      <td>True</td>\n",
       "      <td>957922.0</td>\n",
       "      <td>False</td>\n",
       "      <td>2</td>\n",
       "      <td>479</td>\n",
       "      <td>501</td>\n",
       "    </tr>\n",
       "    <tr>\n",
       "      <th>53899</th>\n",
       "      <td>168606</td>\n",
       "      <td>2019-11-15 00:00:00+03:00</td>\n",
       "      <td>out</td>\n",
       "      <td>True</td>\n",
       "      <td>957922.0</td>\n",
       "      <td>False</td>\n",
       "      <td>4</td>\n",
       "      <td>3130</td>\n",
       "      <td>3190</td>\n",
       "    </tr>\n",
       "    <tr>\n",
       "      <th>53900</th>\n",
       "      <td>168606</td>\n",
       "      <td>2019-11-15 00:00:00+03:00</td>\n",
       "      <td>out</td>\n",
       "      <td>True</td>\n",
       "      <td>957922.0</td>\n",
       "      <td>False</td>\n",
       "      <td>4</td>\n",
       "      <td>3130</td>\n",
       "      <td>3190</td>\n",
       "    </tr>\n",
       "    <tr>\n",
       "      <th>53901</th>\n",
       "      <td>168606</td>\n",
       "      <td>2019-11-19 00:00:00+03:00</td>\n",
       "      <td>in</td>\n",
       "      <td>False</td>\n",
       "      <td>NaN</td>\n",
       "      <td>True</td>\n",
       "      <td>2</td>\n",
       "      <td>0</td>\n",
       "      <td>64</td>\n",
       "    </tr>\n",
       "  </tbody>\n",
       "</table>\n",
       "</div>"
      ],
      "text/plain": [
       "       user_id                      date direction internal  operator_id  \\\n",
       "53897   168606 2019-11-10 00:00:00+03:00       out     True     957922.0   \n",
       "53898   168606 2019-11-11 00:00:00+03:00       out     True     957922.0   \n",
       "53899   168606 2019-11-15 00:00:00+03:00       out     True     957922.0   \n",
       "53900   168606 2019-11-15 00:00:00+03:00       out     True     957922.0   \n",
       "53901   168606 2019-11-19 00:00:00+03:00        in    False          NaN   \n",
       "\n",
       "       is_missed_call  calls_count  call_duration  total_call_duration  \n",
       "53897            True            1              0                   38  \n",
       "53898           False            2            479                  501  \n",
       "53899           False            4           3130                 3190  \n",
       "53900           False            4           3130                 3190  \n",
       "53901            True            2              0                   64  "
      ]
     },
     "metadata": {},
     "output_type": "display_data"
    },
    {
     "name": "stdout",
     "output_type": "stream",
     "text": [
      "\n",
      "\b\u001b[1m\u001b[91m Выведем общую информацию о датафрейме:\u001b[0m \n",
      "\n",
      "<class 'pandas.core.frame.DataFrame'>\n",
      "RangeIndex: 53902 entries, 0 to 53901\n",
      "Data columns (total 9 columns):\n",
      " #   Column               Non-Null Count  Dtype                                \n",
      "---  ------               --------------  -----                                \n",
      " 0   user_id              53902 non-null  int64                                \n",
      " 1   date                 53902 non-null  datetime64[ns, pytz.FixedOffset(180)]\n",
      " 2   direction            53902 non-null  object                               \n",
      " 3   internal             53785 non-null  object                               \n",
      " 4   operator_id          45730 non-null  float64                              \n",
      " 5   is_missed_call       53902 non-null  bool                                 \n",
      " 6   calls_count          53902 non-null  int64                                \n",
      " 7   call_duration        53902 non-null  int64                                \n",
      " 8   total_call_duration  53902 non-null  int64                                \n",
      "dtypes: bool(1), datetime64[ns, pytz.FixedOffset(180)](1), float64(1), int64(4), object(2)\n",
      "memory usage: 3.3+ MB\n",
      "\n",
      "\b\u001b[1m\u001b[91m Как видим в датафрейме имеются пропуски в следующих столбцах:\u001b[0m\n",
      "    в столбце \u001b[94minternal\u001b[0m =  117 шт.\u001b[0m\n",
      "    в столбце \u001b[94moperator_id\u001b[0m =  8172 шт.\u001b[0m\n",
      "    в остальных столбцах пропусков нет\n",
      "\n",
      "\b\u001b[1m\u001b[91m Количество явных дубликатов:\u001b[0m 4900\n",
      " \n",
      "\b\u001b[1m\u001b[91m Выведем информацию о числовых столбцах\n",
      " (показатели описательной статистики):\u001b[0m\n"
     ]
    },
    {
     "data": {
      "text/html": [
       "<div>\n",
       "<style scoped>\n",
       "    .dataframe tbody tr th:only-of-type {\n",
       "        vertical-align: middle;\n",
       "    }\n",
       "\n",
       "    .dataframe tbody tr th {\n",
       "        vertical-align: top;\n",
       "    }\n",
       "\n",
       "    .dataframe thead th {\n",
       "        text-align: right;\n",
       "    }\n",
       "</style>\n",
       "<table border=\"1\" class=\"dataframe\">\n",
       "  <thead>\n",
       "    <tr style=\"text-align: right;\">\n",
       "      <th></th>\n",
       "      <th>user_id</th>\n",
       "      <th>operator_id</th>\n",
       "      <th>calls_count</th>\n",
       "      <th>call_duration</th>\n",
       "      <th>total_call_duration</th>\n",
       "    </tr>\n",
       "  </thead>\n",
       "  <tbody>\n",
       "    <tr>\n",
       "      <th>count</th>\n",
       "      <td>53902.000000</td>\n",
       "      <td>45730.000000</td>\n",
       "      <td>53902.000000</td>\n",
       "      <td>53902.000000</td>\n",
       "      <td>53902.000000</td>\n",
       "    </tr>\n",
       "    <tr>\n",
       "      <th>mean</th>\n",
       "      <td>167295.344477</td>\n",
       "      <td>916535.993002</td>\n",
       "      <td>16.451245</td>\n",
       "      <td>866.684427</td>\n",
       "      <td>1157.133297</td>\n",
       "    </tr>\n",
       "    <tr>\n",
       "      <th>std</th>\n",
       "      <td>598.883775</td>\n",
       "      <td>21254.123136</td>\n",
       "      <td>62.917170</td>\n",
       "      <td>3731.791202</td>\n",
       "      <td>4403.468763</td>\n",
       "    </tr>\n",
       "    <tr>\n",
       "      <th>min</th>\n",
       "      <td>166377.000000</td>\n",
       "      <td>879896.000000</td>\n",
       "      <td>1.000000</td>\n",
       "      <td>0.000000</td>\n",
       "      <td>0.000000</td>\n",
       "    </tr>\n",
       "    <tr>\n",
       "      <th>25%</th>\n",
       "      <td>166782.000000</td>\n",
       "      <td>900788.000000</td>\n",
       "      <td>1.000000</td>\n",
       "      <td>0.000000</td>\n",
       "      <td>47.000000</td>\n",
       "    </tr>\n",
       "    <tr>\n",
       "      <th>50%</th>\n",
       "      <td>167162.000000</td>\n",
       "      <td>913938.000000</td>\n",
       "      <td>4.000000</td>\n",
       "      <td>38.000000</td>\n",
       "      <td>210.000000</td>\n",
       "    </tr>\n",
       "    <tr>\n",
       "      <th>75%</th>\n",
       "      <td>167819.000000</td>\n",
       "      <td>937708.000000</td>\n",
       "      <td>12.000000</td>\n",
       "      <td>572.000000</td>\n",
       "      <td>902.000000</td>\n",
       "    </tr>\n",
       "    <tr>\n",
       "      <th>max</th>\n",
       "      <td>168606.000000</td>\n",
       "      <td>973286.000000</td>\n",
       "      <td>4817.000000</td>\n",
       "      <td>144395.000000</td>\n",
       "      <td>166155.000000</td>\n",
       "    </tr>\n",
       "  </tbody>\n",
       "</table>\n",
       "</div>"
      ],
      "text/plain": [
       "             user_id    operator_id   calls_count  call_duration  \\\n",
       "count   53902.000000   45730.000000  53902.000000   53902.000000   \n",
       "mean   167295.344477  916535.993002     16.451245     866.684427   \n",
       "std       598.883775   21254.123136     62.917170    3731.791202   \n",
       "min    166377.000000  879896.000000      1.000000       0.000000   \n",
       "25%    166782.000000  900788.000000      1.000000       0.000000   \n",
       "50%    167162.000000  913938.000000      4.000000      38.000000   \n",
       "75%    167819.000000  937708.000000     12.000000     572.000000   \n",
       "max    168606.000000  973286.000000   4817.000000  144395.000000   \n",
       "\n",
       "       total_call_duration  \n",
       "count         53902.000000  \n",
       "mean           1157.133297  \n",
       "std            4403.468763  \n",
       "min               0.000000  \n",
       "25%              47.000000  \n",
       "50%             210.000000  \n",
       "75%             902.000000  \n",
       "max          166155.000000  "
      ]
     },
     "metadata": {},
     "output_type": "display_data"
    },
    {
     "name": "stdout",
     "output_type": "stream",
     "text": [
      "\b\u001b[1m\u001b[91m Построим гистограммы для всех числовых столбцов датасета:\u001b[0m\n"
     ]
    },
    {
     "data": {
      "image/png": "[encoded data removed]",
      "text/plain": [
       "<Figure size 1080x360 with 6 Axes>"
      ]
     },
     "metadata": {
      "needs_background": "light"
     },
     "output_type": "display_data"
    },
    {
     "name": "stdout",
     "output_type": "stream",
     "text": [
      "\n",
      "\b\u001b[1m\u001b[91m Проверим категориальные столбцы:\n",
      "(за категориальные столбцы программа принимает столбцы, \n",
      "в которых уникальных значений меньше \"50\") \u001b[0m\n",
      "    Уникальные значения столбца\u001b[94m direction:\u001b[0m\n",
      "['in' 'out']\n",
      "    Статистика распределения уникальных значений:\n",
      "out    0.59213\n",
      "in     0.40787\n",
      "Name: direction, dtype: float64 % \n",
      "\n",
      "    Уникальные значения столбца\u001b[94m internal:\u001b[0m\n",
      "[False True nan]\n",
      "    Статистика распределения уникальных значений:\n",
      "False    0.885396\n",
      "True     0.114604\n",
      "Name: internal, dtype: float64 % \n",
      "\n",
      "    Уникальные значения столбца\u001b[94m is_missed_call:\u001b[0m\n",
      "[False  True]\n",
      "    Статистика распределения уникальных значений:\n",
      "False    0.562762\n",
      "True     0.437238\n",
      "Name: is_missed_call, dtype: float64 % \n",
      "\n",
      "\n",
      " \u001b[94m \u001b[01m***************************************************************************************************\n"
     ]
    }
   ],
   "source": [
    "analiz_nachalo(telecom_dataset)"
   ]
  },
  {
   "cell_type": "markdown",
   "metadata": {},
   "source": [
    "<div style=\"border-radius: 22px; box-shadow: 4px 4px 4px; border: solid green 2px; padding: 16px\">\n",
    "\n",
    "\n",
    "**Выводы**\n",
    "* датасет содержит 9 столбцов и 53902 записи о звонках,\n",
    "* стиль названий столбцов корректен,\n",
    "* имеются явные дубликаты - удалим,\n",
    "* треюуется исправить типы столбцов:<br>\n",
    " тип столбца `date` переделаем на datetime,<br>\n",
    " тип столбца `internal` переделаем в bool,<br>\n",
    " тип столбца `operator_id` - привести к типу int,\n",
    "* требуется обработать пропуски в столбцах `operator_id` и `internal`."
   ]
  },
  {
   "cell_type": "markdown",
   "metadata": {},
   "source": [
    "**Датасет `telecom_clients`:**<br>\n",
    "`user_id` — идентификатор клиента;<br>\n",
    "`tariff_plan` — тарифный план клиента;<br>\n",
    "`date_start` — дата регистрации клиента в сервисе.<br>"
   ]
  },
  {
   "cell_type": "code",
   "execution_count": 7,
   "metadata": {
    "scrolled": false
   },
   "outputs": [
    {
     "name": "stdout",
     "output_type": "stream",
     "text": [
      "\b\u001b[1m\u001b[91m Датафрейм содержит \n",
      " столбцов  3  шт. и строк  732  шт.\u001b[0m \n",
      "\n",
      "\b\u001b[1m\u001b[91m Первые 5 строк:\u001b[0m\n"
     ]
    },
    {
     "data": {
      "text/html": [
       "<div>\n",
       "<style scoped>\n",
       "    .dataframe tbody tr th:only-of-type {\n",
       "        vertical-align: middle;\n",
       "    }\n",
       "\n",
       "    .dataframe tbody tr th {\n",
       "        vertical-align: top;\n",
       "    }\n",
       "\n",
       "    .dataframe thead th {\n",
       "        text-align: right;\n",
       "    }\n",
       "</style>\n",
       "<table border=\"1\" class=\"dataframe\">\n",
       "  <thead>\n",
       "    <tr style=\"text-align: right;\">\n",
       "      <th></th>\n",
       "      <th>user_id</th>\n",
       "      <th>tariff_plan</th>\n",
       "      <th>date_start</th>\n",
       "    </tr>\n",
       "  </thead>\n",
       "  <tbody>\n",
       "    <tr>\n",
       "      <th>0</th>\n",
       "      <td>166713</td>\n",
       "      <td>A</td>\n",
       "      <td>2019-08-15</td>\n",
       "    </tr>\n",
       "    <tr>\n",
       "      <th>1</th>\n",
       "      <td>166901</td>\n",
       "      <td>A</td>\n",
       "      <td>2019-08-23</td>\n",
       "    </tr>\n",
       "    <tr>\n",
       "      <th>2</th>\n",
       "      <td>168527</td>\n",
       "      <td>A</td>\n",
       "      <td>2019-10-29</td>\n",
       "    </tr>\n",
       "    <tr>\n",
       "      <th>3</th>\n",
       "      <td>167097</td>\n",
       "      <td>A</td>\n",
       "      <td>2019-09-01</td>\n",
       "    </tr>\n",
       "    <tr>\n",
       "      <th>4</th>\n",
       "      <td>168193</td>\n",
       "      <td>A</td>\n",
       "      <td>2019-10-16</td>\n",
       "    </tr>\n",
       "  </tbody>\n",
       "</table>\n",
       "</div>"
      ],
      "text/plain": [
       "   user_id tariff_plan date_start\n",
       "0   166713           A 2019-08-15\n",
       "1   166901           A 2019-08-23\n",
       "2   168527           A 2019-10-29\n",
       "3   167097           A 2019-09-01\n",
       "4   168193           A 2019-10-16"
      ]
     },
     "metadata": {},
     "output_type": "display_data"
    },
    {
     "name": "stdout",
     "output_type": "stream",
     "text": [
      "\u001b[1m\u001b[91m Последние 5 строк:\u001b[0m\n"
     ]
    },
    {
     "data": {
      "text/html": [
       "<div>\n",
       "<style scoped>\n",
       "    .dataframe tbody tr th:only-of-type {\n",
       "        vertical-align: middle;\n",
       "    }\n",
       "\n",
       "    .dataframe tbody tr th {\n",
       "        vertical-align: top;\n",
       "    }\n",
       "\n",
       "    .dataframe thead th {\n",
       "        text-align: right;\n",
       "    }\n",
       "</style>\n",
       "<table border=\"1\" class=\"dataframe\">\n",
       "  <thead>\n",
       "    <tr style=\"text-align: right;\">\n",
       "      <th></th>\n",
       "      <th>user_id</th>\n",
       "      <th>tariff_plan</th>\n",
       "      <th>date_start</th>\n",
       "    </tr>\n",
       "  </thead>\n",
       "  <tbody>\n",
       "    <tr>\n",
       "      <th>727</th>\n",
       "      <td>166554</td>\n",
       "      <td>B</td>\n",
       "      <td>2019-08-08</td>\n",
       "    </tr>\n",
       "    <tr>\n",
       "      <th>728</th>\n",
       "      <td>166911</td>\n",
       "      <td>B</td>\n",
       "      <td>2019-08-23</td>\n",
       "    </tr>\n",
       "    <tr>\n",
       "      <th>729</th>\n",
       "      <td>167012</td>\n",
       "      <td>B</td>\n",
       "      <td>2019-08-28</td>\n",
       "    </tr>\n",
       "    <tr>\n",
       "      <th>730</th>\n",
       "      <td>166867</td>\n",
       "      <td>B</td>\n",
       "      <td>2019-08-22</td>\n",
       "    </tr>\n",
       "    <tr>\n",
       "      <th>731</th>\n",
       "      <td>166565</td>\n",
       "      <td>B</td>\n",
       "      <td>2019-08-08</td>\n",
       "    </tr>\n",
       "  </tbody>\n",
       "</table>\n",
       "</div>"
      ],
      "text/plain": [
       "     user_id tariff_plan date_start\n",
       "727   166554           B 2019-08-08\n",
       "728   166911           B 2019-08-23\n",
       "729   167012           B 2019-08-28\n",
       "730   166867           B 2019-08-22\n",
       "731   166565           B 2019-08-08"
      ]
     },
     "metadata": {},
     "output_type": "display_data"
    },
    {
     "name": "stdout",
     "output_type": "stream",
     "text": [
      "\n",
      "\b\u001b[1m\u001b[91m Выведем общую информацию о датафрейме:\u001b[0m \n",
      "\n",
      "<class 'pandas.core.frame.DataFrame'>\n",
      "RangeIndex: 732 entries, 0 to 731\n",
      "Data columns (total 3 columns):\n",
      " #   Column       Non-Null Count  Dtype         \n",
      "---  ------       --------------  -----         \n",
      " 0   user_id      732 non-null    int64         \n",
      " 1   tariff_plan  732 non-null    object        \n",
      " 2   date_start   732 non-null    datetime64[ns]\n",
      "dtypes: datetime64[ns](1), int64(1), object(1)\n",
      "memory usage: 17.3+ KB\n",
      "\n",
      "\b\u001b[1m\u001b[91m Пропусков в данных нет - прекрасно!\u001b[0m\n",
      "\n",
      "\b\u001b[1m\u001b[91m Количество явных дубликатов:\u001b[0m 0\n",
      " \n",
      "\b\u001b[1m\u001b[91m Выведем информацию о числовых столбцах\n",
      " (показатели описательной статистики):\u001b[0m\n"
     ]
    },
    {
     "data": {
      "text/html": [
       "<div>\n",
       "<style scoped>\n",
       "    .dataframe tbody tr th:only-of-type {\n",
       "        vertical-align: middle;\n",
       "    }\n",
       "\n",
       "    .dataframe tbody tr th {\n",
       "        vertical-align: top;\n",
       "    }\n",
       "\n",
       "    .dataframe thead th {\n",
       "        text-align: right;\n",
       "    }\n",
       "</style>\n",
       "<table border=\"1\" class=\"dataframe\">\n",
       "  <thead>\n",
       "    <tr style=\"text-align: right;\">\n",
       "      <th></th>\n",
       "      <th>user_id</th>\n",
       "    </tr>\n",
       "  </thead>\n",
       "  <tbody>\n",
       "    <tr>\n",
       "      <th>count</th>\n",
       "      <td>732.000000</td>\n",
       "    </tr>\n",
       "    <tr>\n",
       "      <th>mean</th>\n",
       "      <td>167431.927596</td>\n",
       "    </tr>\n",
       "    <tr>\n",
       "      <th>std</th>\n",
       "      <td>633.810383</td>\n",
       "    </tr>\n",
       "    <tr>\n",
       "      <th>min</th>\n",
       "      <td>166373.000000</td>\n",
       "    </tr>\n",
       "    <tr>\n",
       "      <th>25%</th>\n",
       "      <td>166900.750000</td>\n",
       "    </tr>\n",
       "    <tr>\n",
       "      <th>50%</th>\n",
       "      <td>167432.000000</td>\n",
       "    </tr>\n",
       "    <tr>\n",
       "      <th>75%</th>\n",
       "      <td>167973.000000</td>\n",
       "    </tr>\n",
       "    <tr>\n",
       "      <th>max</th>\n",
       "      <td>168606.000000</td>\n",
       "    </tr>\n",
       "  </tbody>\n",
       "</table>\n",
       "</div>"
      ],
      "text/plain": [
       "             user_id\n",
       "count     732.000000\n",
       "mean   167431.927596\n",
       "std       633.810383\n",
       "min    166373.000000\n",
       "25%    166900.750000\n",
       "50%    167432.000000\n",
       "75%    167973.000000\n",
       "max    168606.000000"
      ]
     },
     "metadata": {},
     "output_type": "display_data"
    },
    {
     "name": "stdout",
     "output_type": "stream",
     "text": [
      "\b\u001b[1m\u001b[91m Построим гистограммы для всех числовых столбцов датасета:\u001b[0m\n"
     ]
    },
    {
     "data": {
      "image/png": "[encoded data removed]",
      "text/plain": [
       "<Figure size 1080x360 with 2 Axes>"
      ]
     },
     "metadata": {
      "needs_background": "light"
     },
     "output_type": "display_data"
    },
    {
     "name": "stdout",
     "output_type": "stream",
     "text": [
      "\n",
      "\b\u001b[1m\u001b[91m Проверим категориальные столбцы:\n",
      "(за категориальные столбцы программа принимает столбцы, \n",
      "в которых уникальных значений меньше \"50\") \u001b[0m\n",
      "    Уникальные значения столбца\u001b[94m tariff_plan:\u001b[0m\n",
      "['A' 'B' 'C']\n",
      "    Статистика распределения уникальных значений:\n",
      "C    0.539617\n",
      "B    0.356557\n",
      "A    0.103825\n",
      "Name: tariff_plan, dtype: float64 % \n",
      "\n",
      "\n",
      " \u001b[94m \u001b[01m***************************************************************************************************\n"
     ]
    }
   ],
   "source": [
    "analiz_nachalo(telecom_clients)"
   ]
  },
  {
   "cell_type": "markdown",
   "metadata": {},
   "source": [
    "Псомотрим у всех ли датасетов период данных совпадает"
   ]
  },
  {
   "cell_type": "code",
   "execution_count": 8,
   "metadata": {},
   "outputs": [],
   "source": [
    "def time_min_max(data):\n",
    "    print('столбец', data.name)\n",
    "    print('минимальное время', data.min())\n",
    "    print('максимальное время', data.max())\n",
    "    print();"
   ]
  },
  {
   "cell_type": "code",
   "execution_count": 9,
   "metadata": {
    "scrolled": true
   },
   "outputs": [
    {
     "name": "stdout",
     "output_type": "stream",
     "text": [
      "столбец date\n",
      "минимальное время 2019-08-02 00:00:00+03:00\n",
      "максимальное время 2019-11-28 00:00:00+03:00\n",
      "\n",
      "столбец date_start\n",
      "минимальное время 2019-08-01 00:00:00\n",
      "максимальное время 2019-10-31 00:00:00\n",
      "\n"
     ]
    }
   ],
   "source": [
    "time_min_max(telecom_dataset['date'])\n",
    "time_min_max(telecom_clients['date_start'])"
   ]
  },
  {
   "cell_type": "markdown",
   "metadata": {},
   "source": [
    "Период времени не совпадает. <br>Скоре всего потому, что в столбце `date_start` дата регистрации клиента, а в столбце `date` - даты взаимодействия с клиентом."
   ]
  },
  {
   "cell_type": "code",
   "execution_count": 10,
   "metadata": {},
   "outputs": [
    {
     "name": "stdout",
     "output_type": "stream",
     "text": [
      "Уникальных клиентов в telecom_dataset:  307\n",
      "Уникальных клиентов в telecom_clients:  732\n"
     ]
    }
   ],
   "source": [
    "print('Уникальных клиентов в telecom_dataset: ', telecom_dataset['user_id'].nunique())\n",
    "print('Уникальных клиентов в telecom_clients: ', telecom_clients['user_id'].nunique())\n"
   ]
  },
  {
   "cell_type": "markdown",
   "metadata": {},
   "source": [
    "Из 732 клиентов улугами телеком провайдера воспользовались только 307."
   ]
  },
  {
   "cell_type": "markdown",
   "metadata": {},
   "source": [
    "<div style=\"border-radius: 22px; box-shadow: 4px 4px 4px; border: solid green 2px; padding: 16px\">\n",
    "\n",
    "\n",
    "**Выводы:**\n",
    "* названия столбцов корректны,\n",
    "* тип столбца `date_start` привести к datetime,\n",
    "* пропусков нет,\n",
    "* дубликатов нет, \n",
    "* периоды времени адекватны,\n",
    "* из 732 зарегестрированных клиента, взаимодействие происходило только с 307 клиентами."
   ]
  },
  {
   "cell_type": "markdown",
   "metadata": {},
   "source": [
    "<a id='3'></a>\n",
    "<font color='crimson'>\n",
    "\n",
    "<h2 align=\"center\"> Подготовка данных</h2>\n",
    "</font>"
   ]
  },
  {
   "cell_type": "markdown",
   "metadata": {},
   "source": [
    "<a id='3-1'></a>\n",
    "\n",
    "<font color='crimson'>\n",
    "\n",
    "### Объединим датафреймы\n",
    "</font>\n",
    "\n",
    "[К началу раздела](#3)<br>\n",
    "[К соддержанию](#0)"
   ]
  },
  {
   "cell_type": "markdown",
   "metadata": {},
   "source": [
    "Чтобы определить стаж работы операторов, а так же проверить взаимосвязь с тарифными планами нам следует объединить датафреймы:"
   ]
  },
  {
   "cell_type": "code",
   "execution_count": 11,
   "metadata": {},
   "outputs": [
    {
     "data": {
      "text/html": [
       "<div>\n",
       "<style scoped>\n",
       "    .dataframe tbody tr th:only-of-type {\n",
       "        vertical-align: middle;\n",
       "    }\n",
       "\n",
       "    .dataframe tbody tr th {\n",
       "        vertical-align: top;\n",
       "    }\n",
       "\n",
       "    .dataframe thead th {\n",
       "        text-align: right;\n",
       "    }\n",
       "</style>\n",
       "<table border=\"1\" class=\"dataframe\">\n",
       "  <thead>\n",
       "    <tr style=\"text-align: right;\">\n",
       "      <th></th>\n",
       "      <th>user_id</th>\n",
       "      <th>date</th>\n",
       "      <th>direction</th>\n",
       "      <th>internal</th>\n",
       "      <th>operator_id</th>\n",
       "      <th>is_missed_call</th>\n",
       "      <th>calls_count</th>\n",
       "      <th>call_duration</th>\n",
       "      <th>total_call_duration</th>\n",
       "      <th>tariff_plan</th>\n",
       "      <th>date_start</th>\n",
       "    </tr>\n",
       "  </thead>\n",
       "  <tbody>\n",
       "    <tr>\n",
       "      <th>0</th>\n",
       "      <td>166377</td>\n",
       "      <td>2019-08-04 00:00:00+03:00</td>\n",
       "      <td>in</td>\n",
       "      <td>False</td>\n",
       "      <td>NaN</td>\n",
       "      <td>True</td>\n",
       "      <td>2</td>\n",
       "      <td>0</td>\n",
       "      <td>4</td>\n",
       "      <td>B</td>\n",
       "      <td>2019-08-01</td>\n",
       "    </tr>\n",
       "    <tr>\n",
       "      <th>1</th>\n",
       "      <td>166377</td>\n",
       "      <td>2019-08-05 00:00:00+03:00</td>\n",
       "      <td>out</td>\n",
       "      <td>True</td>\n",
       "      <td>880022.0</td>\n",
       "      <td>True</td>\n",
       "      <td>3</td>\n",
       "      <td>0</td>\n",
       "      <td>5</td>\n",
       "      <td>B</td>\n",
       "      <td>2019-08-01</td>\n",
       "    </tr>\n",
       "    <tr>\n",
       "      <th>2</th>\n",
       "      <td>166377</td>\n",
       "      <td>2019-08-05 00:00:00+03:00</td>\n",
       "      <td>out</td>\n",
       "      <td>True</td>\n",
       "      <td>880020.0</td>\n",
       "      <td>True</td>\n",
       "      <td>1</td>\n",
       "      <td>0</td>\n",
       "      <td>1</td>\n",
       "      <td>B</td>\n",
       "      <td>2019-08-01</td>\n",
       "    </tr>\n",
       "    <tr>\n",
       "      <th>3</th>\n",
       "      <td>166377</td>\n",
       "      <td>2019-08-05 00:00:00+03:00</td>\n",
       "      <td>out</td>\n",
       "      <td>True</td>\n",
       "      <td>880020.0</td>\n",
       "      <td>False</td>\n",
       "      <td>1</td>\n",
       "      <td>10</td>\n",
       "      <td>18</td>\n",
       "      <td>B</td>\n",
       "      <td>2019-08-01</td>\n",
       "    </tr>\n",
       "    <tr>\n",
       "      <th>4</th>\n",
       "      <td>166377</td>\n",
       "      <td>2019-08-05 00:00:00+03:00</td>\n",
       "      <td>out</td>\n",
       "      <td>False</td>\n",
       "      <td>880022.0</td>\n",
       "      <td>True</td>\n",
       "      <td>3</td>\n",
       "      <td>0</td>\n",
       "      <td>25</td>\n",
       "      <td>B</td>\n",
       "      <td>2019-08-01</td>\n",
       "    </tr>\n",
       "  </tbody>\n",
       "</table>\n",
       "</div>"
      ],
      "text/plain": [
       "   user_id                      date direction internal  operator_id  \\\n",
       "0   166377 2019-08-04 00:00:00+03:00        in    False          NaN   \n",
       "1   166377 2019-08-05 00:00:00+03:00       out     True     880022.0   \n",
       "2   166377 2019-08-05 00:00:00+03:00       out     True     880020.0   \n",
       "3   166377 2019-08-05 00:00:00+03:00       out     True     880020.0   \n",
       "4   166377 2019-08-05 00:00:00+03:00       out    False     880022.0   \n",
       "\n",
       "   is_missed_call  calls_count  call_duration  total_call_duration  \\\n",
       "0            True            2              0                    4   \n",
       "1            True            3              0                    5   \n",
       "2            True            1              0                    1   \n",
       "3           False            1             10                   18   \n",
       "4            True            3              0                   25   \n",
       "\n",
       "  tariff_plan date_start  \n",
       "0           B 2019-08-01  \n",
       "1           B 2019-08-01  \n",
       "2           B 2019-08-01  \n",
       "3           B 2019-08-01  \n",
       "4           B 2019-08-01  "
      ]
     },
     "execution_count": 11,
     "metadata": {},
     "output_type": "execute_result"
    }
   ],
   "source": [
    "df = telecom_dataset.merge(telecom_clients, on='user_id', how='left')\n",
    "df.head()"
   ]
  },
  {
   "cell_type": "code",
   "execution_count": 12,
   "metadata": {},
   "outputs": [
    {
     "name": "stdout",
     "output_type": "stream",
     "text": [
      "<class 'pandas.core.frame.DataFrame'>\n",
      "Int64Index: 53902 entries, 0 to 53901\n",
      "Data columns (total 11 columns):\n",
      " #   Column               Non-Null Count  Dtype                                \n",
      "---  ------               --------------  -----                                \n",
      " 0   user_id              53902 non-null  int64                                \n",
      " 1   date                 53902 non-null  datetime64[ns, pytz.FixedOffset(180)]\n",
      " 2   direction            53902 non-null  object                               \n",
      " 3   internal             53785 non-null  object                               \n",
      " 4   operator_id          45730 non-null  float64                              \n",
      " 5   is_missed_call       53902 non-null  bool                                 \n",
      " 6   calls_count          53902 non-null  int64                                \n",
      " 7   call_duration        53902 non-null  int64                                \n",
      " 8   total_call_duration  53902 non-null  int64                                \n",
      " 9   tariff_plan          53902 non-null  object                               \n",
      " 10  date_start           53902 non-null  datetime64[ns]                       \n",
      "dtypes: bool(1), datetime64[ns, pytz.FixedOffset(180)](1), datetime64[ns](1), float64(1), int64(4), object(3)\n",
      "memory usage: 4.6+ MB\n"
     ]
    }
   ],
   "source": [
    "df.info()"
   ]
  },
  {
   "cell_type": "markdown",
   "metadata": {},
   "source": [
    "<div style=\"border-radius: 22px; box-shadow: 4px 4px 4px; border: solid green 2px; padding: 16px\">\n",
    "\n",
    "Датафреймы объединили"
   ]
  },
  {
   "cell_type": "markdown",
   "metadata": {},
   "source": [
    "<a id='3-2'></a>\n",
    "\n",
    "<font color='crimson'>\n",
    "\n",
    "### Удалим дубликаты\n",
    "</font>\n",
    "\n",
    "[К началу раздела](#3)<br>\n",
    "[К соддержанию](#0)"
   ]
  },
  {
   "cell_type": "markdown",
   "metadata": {},
   "source": [
    "Удалим явные дубликаты:"
   ]
  },
  {
   "cell_type": "code",
   "execution_count": 13,
   "metadata": {},
   "outputs": [
    {
     "name": "stdout",
     "output_type": "stream",
     "text": [
      "\u001b[1mЯвных дубликатов до:\u001b[22m 4900\n",
      "\u001b[1mЯвных дубликатов после:\u001b[22m 0\n"
     ]
    }
   ],
   "source": [
    "print('\\033[1m'+'Явных дубликатов до:'+'\\033[22m', df.duplicated().sum())\n",
    "df = df.drop_duplicates()\n",
    "print('\\033[1m'+'Явных дубликатов после:'+'\\033[22m', df.duplicated().sum())"
   ]
  },
  {
   "cell_type": "markdown",
   "metadata": {},
   "source": [
    "Проверим на неявные дубликаты:\n",
    "Так как данные в датасете агрегированные, здесь так же не должно быть дубликатов по одинаковым критериям: <br>\n",
    "**user_id + дата + operator_id + direction + internal + is_missed_call**."
   ]
  },
  {
   "cell_type": "code",
   "execution_count": 14,
   "metadata": {
    "scrolled": true
   },
   "outputs": [
    {
     "data": {
      "text/plain": [
       "0"
      ]
     },
     "execution_count": 14,
     "metadata": {},
     "output_type": "execute_result"
    }
   ],
   "source": [
    "# проверяем неявные дубликаты:\n",
    "df[['user_id', 'date', 'direction', 'internal', 'operator_id',\n",
    "       'is_missed_call']].duplicated().sum()"
   ]
  },
  {
   "cell_type": "markdown",
   "metadata": {},
   "source": [
    "Не явных дубликатов нет.\n",
    "\n",
    "Теперь проверим нет ли дубликатов среди **user_id** клиентов в таблице `telecom_clients`:"
   ]
  },
  {
   "cell_type": "code",
   "execution_count": 15,
   "metadata": {},
   "outputs": [
    {
     "data": {
      "text/plain": [
       "0"
      ]
     },
     "execution_count": 15,
     "metadata": {},
     "output_type": "execute_result"
    }
   ],
   "source": [
    "telecom_clients['user_id'].duplicated().sum()"
   ]
  },
  {
   "cell_type": "markdown",
   "metadata": {},
   "source": [
    "<div style=\"border-radius: 22px; box-shadow: 4px 4px 4px; border: solid green 2px; padding: 16px\">\n",
    "\n",
    "**Выводы:**<br> \n",
    "В датасетах удалены янвые дубликаты.<br> \n",
    "Произведена проверка на неявные дубликаты - неявные дубликаты не обнаружены. <br> "
   ]
  },
  {
   "cell_type": "markdown",
   "metadata": {},
   "source": [
    "<a id='3-3'></a>\n",
    "\n",
    "<font color='crimson'>\n",
    "\n",
    "### Обработаем пропуски\n",
    "</font>\n",
    "\n",
    "[К началу раздела](#3)<br>\n",
    "[К соддержанию](#0)"
   ]
  },
  {
   "cell_type": "markdown",
   "metadata": {},
   "source": [
    "<a id='3-3-1'></a>\n",
    "\n",
    "<font color='crimson'>\n",
    "\n",
    "#### Пропуски в столбце <font color='blue'> operator_id</font>\n",
    "\n",
    "</font>"
   ]
  },
  {
   "cell_type": "markdown",
   "metadata": {},
   "source": [
    "Попробуем разобраться в причинах возникновения пропусков в столбце `operator_id`.\n",
    "Посмотрим на некоторые строки с пропусками:"
   ]
  },
  {
   "cell_type": "code",
   "execution_count": 16,
   "metadata": {},
   "outputs": [
    {
     "data": {
      "text/html": [
       "<div>\n",
       "<style scoped>\n",
       "    .dataframe tbody tr th:only-of-type {\n",
       "        vertical-align: middle;\n",
       "    }\n",
       "\n",
       "    .dataframe tbody tr th {\n",
       "        vertical-align: top;\n",
       "    }\n",
       "\n",
       "    .dataframe thead th {\n",
       "        text-align: right;\n",
       "    }\n",
       "</style>\n",
       "<table border=\"1\" class=\"dataframe\">\n",
       "  <thead>\n",
       "    <tr style=\"text-align: right;\">\n",
       "      <th></th>\n",
       "      <th>user_id</th>\n",
       "      <th>date</th>\n",
       "      <th>direction</th>\n",
       "      <th>internal</th>\n",
       "      <th>operator_id</th>\n",
       "      <th>is_missed_call</th>\n",
       "      <th>calls_count</th>\n",
       "      <th>call_duration</th>\n",
       "      <th>total_call_duration</th>\n",
       "      <th>tariff_plan</th>\n",
       "      <th>date_start</th>\n",
       "    </tr>\n",
       "  </thead>\n",
       "  <tbody>\n",
       "    <tr>\n",
       "      <th>0</th>\n",
       "      <td>166377</td>\n",
       "      <td>2019-08-04 00:00:00+03:00</td>\n",
       "      <td>in</td>\n",
       "      <td>False</td>\n",
       "      <td>NaN</td>\n",
       "      <td>True</td>\n",
       "      <td>2</td>\n",
       "      <td>0</td>\n",
       "      <td>4</td>\n",
       "      <td>B</td>\n",
       "      <td>2019-08-01</td>\n",
       "    </tr>\n",
       "    <tr>\n",
       "      <th>7</th>\n",
       "      <td>166377</td>\n",
       "      <td>2019-08-05 00:00:00+03:00</td>\n",
       "      <td>in</td>\n",
       "      <td>False</td>\n",
       "      <td>NaN</td>\n",
       "      <td>True</td>\n",
       "      <td>6</td>\n",
       "      <td>0</td>\n",
       "      <td>35</td>\n",
       "      <td>B</td>\n",
       "      <td>2019-08-01</td>\n",
       "    </tr>\n",
       "    <tr>\n",
       "      <th>9</th>\n",
       "      <td>166377</td>\n",
       "      <td>2019-08-06 00:00:00+03:00</td>\n",
       "      <td>in</td>\n",
       "      <td>False</td>\n",
       "      <td>NaN</td>\n",
       "      <td>True</td>\n",
       "      <td>4</td>\n",
       "      <td>0</td>\n",
       "      <td>62</td>\n",
       "      <td>B</td>\n",
       "      <td>2019-08-01</td>\n",
       "    </tr>\n",
       "    <tr>\n",
       "      <th>17</th>\n",
       "      <td>166377</td>\n",
       "      <td>2019-08-07 00:00:00+03:00</td>\n",
       "      <td>in</td>\n",
       "      <td>False</td>\n",
       "      <td>NaN</td>\n",
       "      <td>True</td>\n",
       "      <td>2</td>\n",
       "      <td>0</td>\n",
       "      <td>24</td>\n",
       "      <td>B</td>\n",
       "      <td>2019-08-01</td>\n",
       "    </tr>\n",
       "    <tr>\n",
       "      <th>27</th>\n",
       "      <td>166377</td>\n",
       "      <td>2019-08-12 00:00:00+03:00</td>\n",
       "      <td>in</td>\n",
       "      <td>False</td>\n",
       "      <td>NaN</td>\n",
       "      <td>True</td>\n",
       "      <td>2</td>\n",
       "      <td>0</td>\n",
       "      <td>34</td>\n",
       "      <td>B</td>\n",
       "      <td>2019-08-01</td>\n",
       "    </tr>\n",
       "    <tr>\n",
       "      <th>30</th>\n",
       "      <td>166377</td>\n",
       "      <td>2019-08-13 00:00:00+03:00</td>\n",
       "      <td>in</td>\n",
       "      <td>False</td>\n",
       "      <td>NaN</td>\n",
       "      <td>True</td>\n",
       "      <td>7</td>\n",
       "      <td>0</td>\n",
       "      <td>128</td>\n",
       "      <td>B</td>\n",
       "      <td>2019-08-01</td>\n",
       "    </tr>\n",
       "    <tr>\n",
       "      <th>38</th>\n",
       "      <td>166377</td>\n",
       "      <td>2019-08-14 00:00:00+03:00</td>\n",
       "      <td>in</td>\n",
       "      <td>False</td>\n",
       "      <td>NaN</td>\n",
       "      <td>True</td>\n",
       "      <td>1</td>\n",
       "      <td>0</td>\n",
       "      <td>3</td>\n",
       "      <td>B</td>\n",
       "      <td>2019-08-01</td>\n",
       "    </tr>\n",
       "    <tr>\n",
       "      <th>77</th>\n",
       "      <td>166377</td>\n",
       "      <td>2019-08-22 00:00:00+03:00</td>\n",
       "      <td>in</td>\n",
       "      <td>False</td>\n",
       "      <td>NaN</td>\n",
       "      <td>True</td>\n",
       "      <td>1</td>\n",
       "      <td>0</td>\n",
       "      <td>1</td>\n",
       "      <td>B</td>\n",
       "      <td>2019-08-01</td>\n",
       "    </tr>\n",
       "    <tr>\n",
       "      <th>81</th>\n",
       "      <td>166377</td>\n",
       "      <td>2019-08-23 00:00:00+03:00</td>\n",
       "      <td>in</td>\n",
       "      <td>False</td>\n",
       "      <td>NaN</td>\n",
       "      <td>True</td>\n",
       "      <td>2</td>\n",
       "      <td>0</td>\n",
       "      <td>47</td>\n",
       "      <td>B</td>\n",
       "      <td>2019-08-01</td>\n",
       "    </tr>\n",
       "    <tr>\n",
       "      <th>88</th>\n",
       "      <td>166377</td>\n",
       "      <td>2019-08-24 00:00:00+03:00</td>\n",
       "      <td>in</td>\n",
       "      <td>False</td>\n",
       "      <td>NaN</td>\n",
       "      <td>True</td>\n",
       "      <td>2</td>\n",
       "      <td>0</td>\n",
       "      <td>35</td>\n",
       "      <td>B</td>\n",
       "      <td>2019-08-01</td>\n",
       "    </tr>\n",
       "  </tbody>\n",
       "</table>\n",
       "</div>"
      ],
      "text/plain": [
       "    user_id                      date direction internal  operator_id  \\\n",
       "0    166377 2019-08-04 00:00:00+03:00        in    False          NaN   \n",
       "7    166377 2019-08-05 00:00:00+03:00        in    False          NaN   \n",
       "9    166377 2019-08-06 00:00:00+03:00        in    False          NaN   \n",
       "17   166377 2019-08-07 00:00:00+03:00        in    False          NaN   \n",
       "27   166377 2019-08-12 00:00:00+03:00        in    False          NaN   \n",
       "30   166377 2019-08-13 00:00:00+03:00        in    False          NaN   \n",
       "38   166377 2019-08-14 00:00:00+03:00        in    False          NaN   \n",
       "77   166377 2019-08-22 00:00:00+03:00        in    False          NaN   \n",
       "81   166377 2019-08-23 00:00:00+03:00        in    False          NaN   \n",
       "88   166377 2019-08-24 00:00:00+03:00        in    False          NaN   \n",
       "\n",
       "    is_missed_call  calls_count  call_duration  total_call_duration  \\\n",
       "0             True            2              0                    4   \n",
       "7             True            6              0                   35   \n",
       "9             True            4              0                   62   \n",
       "17            True            2              0                   24   \n",
       "27            True            2              0                   34   \n",
       "30            True            7              0                  128   \n",
       "38            True            1              0                    3   \n",
       "77            True            1              0                    1   \n",
       "81            True            2              0                   47   \n",
       "88            True            2              0                   35   \n",
       "\n",
       "   tariff_plan date_start  \n",
       "0            B 2019-08-01  \n",
       "7            B 2019-08-01  \n",
       "9            B 2019-08-01  \n",
       "17           B 2019-08-01  \n",
       "27           B 2019-08-01  \n",
       "30           B 2019-08-01  \n",
       "38           B 2019-08-01  \n",
       "77           B 2019-08-01  \n",
       "81           B 2019-08-01  \n",
       "88           B 2019-08-01  "
      ]
     },
     "execution_count": 16,
     "metadata": {},
     "output_type": "execute_result"
    }
   ],
   "source": [
    "df_nan = df.loc[df['operator_id'].isna()]\n",
    "df_nan.head(10)"
   ]
  },
  {
   "cell_type": "markdown",
   "metadata": {},
   "source": [
    "Сразу в глаза бросаются одинаковый алгоритм возникновения NaN - все вызовы входящие, внешние и пропущенные. \n",
    "Проверим количество уникальных значений в столбцах `direction`, `internal` и `is_missed_call`:"
   ]
  },
  {
   "cell_type": "code",
   "execution_count": 17,
   "metadata": {},
   "outputs": [
    {
     "data": {
      "text/plain": [
       "'Количество строк относительно уникальных значений в столбце direction:'"
      ]
     },
     "metadata": {},
     "output_type": "display_data"
    },
    {
     "data": {
      "text/html": [
       "<div>\n",
       "<style scoped>\n",
       "    .dataframe tbody tr th:only-of-type {\n",
       "        vertical-align: middle;\n",
       "    }\n",
       "\n",
       "    .dataframe tbody tr th {\n",
       "        vertical-align: top;\n",
       "    }\n",
       "\n",
       "    .dataframe thead th {\n",
       "        text-align: right;\n",
       "    }\n",
       "</style>\n",
       "<table border=\"1\" class=\"dataframe\">\n",
       "  <thead>\n",
       "    <tr style=\"text-align: right;\">\n",
       "      <th></th>\n",
       "      <th>user_id</th>\n",
       "      <th>internal</th>\n",
       "      <th>is_missed_call</th>\n",
       "    </tr>\n",
       "    <tr>\n",
       "      <th>direction</th>\n",
       "      <th></th>\n",
       "      <th></th>\n",
       "      <th></th>\n",
       "    </tr>\n",
       "  </thead>\n",
       "  <tbody>\n",
       "    <tr>\n",
       "      <th>in</th>\n",
       "      <td>7270</td>\n",
       "      <td>7217</td>\n",
       "      <td>7270</td>\n",
       "    </tr>\n",
       "    <tr>\n",
       "      <th>out</th>\n",
       "      <td>186</td>\n",
       "      <td>184</td>\n",
       "      <td>186</td>\n",
       "    </tr>\n",
       "  </tbody>\n",
       "</table>\n",
       "</div>"
      ],
      "text/plain": [
       "           user_id  internal  is_missed_call\n",
       "direction                                   \n",
       "in            7270      7217            7270\n",
       "out            186       184             186"
      ]
     },
     "metadata": {},
     "output_type": "display_data"
    },
    {
     "data": {
      "text/plain": [
       "'Количество строк относительно уникальных значений в столбце internal:'"
      ]
     },
     "metadata": {},
     "output_type": "display_data"
    },
    {
     "data": {
      "text/html": [
       "<div>\n",
       "<style scoped>\n",
       "    .dataframe tbody tr th:only-of-type {\n",
       "        vertical-align: middle;\n",
       "    }\n",
       "\n",
       "    .dataframe tbody tr th {\n",
       "        vertical-align: top;\n",
       "    }\n",
       "\n",
       "    .dataframe thead th {\n",
       "        text-align: right;\n",
       "    }\n",
       "</style>\n",
       "<table border=\"1\" class=\"dataframe\">\n",
       "  <thead>\n",
       "    <tr style=\"text-align: right;\">\n",
       "      <th></th>\n",
       "      <th>user_id</th>\n",
       "      <th>direction</th>\n",
       "      <th>is_missed_call</th>\n",
       "    </tr>\n",
       "    <tr>\n",
       "      <th>internal</th>\n",
       "      <th></th>\n",
       "      <th></th>\n",
       "      <th></th>\n",
       "    </tr>\n",
       "  </thead>\n",
       "  <tbody>\n",
       "    <tr>\n",
       "      <th>False</th>\n",
       "      <td>7078</td>\n",
       "      <td>7078</td>\n",
       "      <td>7078</td>\n",
       "    </tr>\n",
       "    <tr>\n",
       "      <th>True</th>\n",
       "      <td>323</td>\n",
       "      <td>323</td>\n",
       "      <td>323</td>\n",
       "    </tr>\n",
       "  </tbody>\n",
       "</table>\n",
       "</div>"
      ],
      "text/plain": [
       "          user_id  direction  is_missed_call\n",
       "internal                                    \n",
       "False        7078       7078            7078\n",
       "True          323        323             323"
      ]
     },
     "metadata": {},
     "output_type": "display_data"
    },
    {
     "data": {
      "text/plain": [
       "'Количество строк относительно уникальных значений в столбце is_missed_call:'"
      ]
     },
     "metadata": {},
     "output_type": "display_data"
    },
    {
     "data": {
      "text/html": [
       "<div>\n",
       "<style scoped>\n",
       "    .dataframe tbody tr th:only-of-type {\n",
       "        vertical-align: middle;\n",
       "    }\n",
       "\n",
       "    .dataframe tbody tr th {\n",
       "        vertical-align: top;\n",
       "    }\n",
       "\n",
       "    .dataframe thead th {\n",
       "        text-align: right;\n",
       "    }\n",
       "</style>\n",
       "<table border=\"1\" class=\"dataframe\">\n",
       "  <thead>\n",
       "    <tr style=\"text-align: right;\">\n",
       "      <th></th>\n",
       "      <th>user_id</th>\n",
       "      <th>direction</th>\n",
       "      <th>internal</th>\n",
       "    </tr>\n",
       "    <tr>\n",
       "      <th>is_missed_call</th>\n",
       "      <th></th>\n",
       "      <th></th>\n",
       "      <th></th>\n",
       "    </tr>\n",
       "  </thead>\n",
       "  <tbody>\n",
       "    <tr>\n",
       "      <th>False</th>\n",
       "      <td>113</td>\n",
       "      <td>113</td>\n",
       "      <td>113</td>\n",
       "    </tr>\n",
       "    <tr>\n",
       "      <th>True</th>\n",
       "      <td>7343</td>\n",
       "      <td>7343</td>\n",
       "      <td>7288</td>\n",
       "    </tr>\n",
       "  </tbody>\n",
       "</table>\n",
       "</div>"
      ],
      "text/plain": [
       "                user_id  direction  internal\n",
       "is_missed_call                              \n",
       "False               113        113       113\n",
       "True               7343       7343      7288"
      ]
     },
     "metadata": {},
     "output_type": "display_data"
    }
   ],
   "source": [
    "display('Количество строк относительно уникальных значений в столбце direction:', \n",
    "        df_nan.groupby('direction')[['user_id', 'internal', 'is_missed_call']].count())\n",
    "display('Количество строк относительно уникальных значений в столбце internal:', \n",
    "        df_nan.groupby('internal')[['user_id', 'direction', 'is_missed_call']].count())\n",
    "display('Количество строк относительно уникальных значений в столбце is_missed_call:', \n",
    "        df_nan.groupby('is_missed_call')[['user_id', 'direction', 'internal']].count())"
   ]
  },
  {
   "cell_type": "markdown",
   "metadata": {},
   "source": [
    "Как видим, основная масса - это пропущенные внешние входящие звонки. \n",
    "Будем считать, что эти пропуски возникли из-за того, что программа не успела назначить оператора, либо звонок происходил в нерабочее время. <br>\n",
    "Но есть не малое колчество других вариаций возникновения пропусков в столбце операторов.\n",
    "\n",
    "Так как мы исследуем работу операторов, а за пропусками в разных колл_центрах могут скрываться либо один оператор либо десять,<br>\n",
    "пропуски в столбце `operator_id` являются критическими. \n",
    "Так же, чтобы случайно не ошибиться при фильтрации оперпторов с наличием ID и без,<br>\n",
    "**далее будем анализировать датасет без пропусков  **\n"
   ]
  },
  {
   "cell_type": "markdown",
   "metadata": {},
   "source": [
    "Создадим копию основного датасета c пропусками операторов, для сохранения исходных данных, \n",
    "но продолжим работу с очищенными данными:"
   ]
  },
  {
   "cell_type": "code",
   "execution_count": 18,
   "metadata": {},
   "outputs": [],
   "source": [
    "# Создадим копию основного датасета, чтобы не потерять данные\n",
    "data_reserv = df.copy()"
   ]
  },
  {
   "cell_type": "code",
   "execution_count": 19,
   "metadata": {},
   "outputs": [],
   "source": [
    "# Удалим пропуски в столбце operator_id \n",
    "df = df.loc[df['operator_id'].isna() == False]"
   ]
  },
  {
   "cell_type": "code",
   "execution_count": 20,
   "metadata": {
    "scrolled": true
   },
   "outputs": [
    {
     "data": {
      "text/plain": [
       "operator_id     0\n",
       "internal       55\n",
       "dtype: int64"
      ]
     },
     "metadata": {},
     "output_type": "display_data"
    }
   ],
   "source": [
    "# Сколько пропусков осталось\n",
    "display(df[['operator_id','internal']].isna().sum())"
   ]
  },
  {
   "cell_type": "markdown",
   "metadata": {},
   "source": [
    "Малая часть звонков имеют категории исходящих, внутренних, отвеченных.<br>\n",
    "Исходящие без назначения оператора могли возникнуть при внутреннем звонке одного оператора другому (например, с целью консультации). В таком случае все исходящие должны быть внутренними. \n",
    "Но проверка этого момента не подтвердила данное предположение. Код:\n",
    "        \n",
    "        df.loc[(operator_id_nan['direction'] == 'out') & (df['internal'] == False)& (df['total_call_duration']>10)].head(15)\n",
    "        \n",
    "Другое предположение, о том что пропущенные значения в operator_id появлялись из-за, того что программа не успевала назначить оператора, так же не нашла подтверждения. Код:\n",
    "        \n",
    "        df.loc[df['operator_id'] < 2, 'avg_wait_time'].max()      \n",
    "        df.loc[(df['operator_id'] < 2)& (df['avg_wait_time']>50)]        \n",
    "Получилось слишком много случаев, когда времени было достаточно для нащначения оператора.\n",
    "\n",
    "\n",
    "Поэтому, **вывод**: природа появления остальных пропусков в столбце `operator_id` точно не ясна, и относительно слишком мала, чтобы уделять разбору причин слишком много времени, поэтому пока заполним заглушками \"1\", и вернемся при необходимости.\n",
    "В реальной работе, можно было бы обсудить с менеджментом о возможных причинах возникновения и заполнить пропуски иным способом."
   ]
  },
  {
   "cell_type": "markdown",
   "metadata": {},
   "source": [
    "<a id='3-3-2'></a>\n",
    "\n",
    "<font color='crimson'>\n",
    "\n",
    "#### Пропуски в столбце <font color='blue'> internal</font>\n",
    "\n",
    "</font>"
   ]
  },
  {
   "cell_type": "markdown",
   "metadata": {},
   "source": [
    "Поробуем выяснить причины возникновения пропусков в столбце `internal`. Взглянем на пропуски и униакльные значения:"
   ]
  },
  {
   "cell_type": "code",
   "execution_count": 21,
   "metadata": {
    "scrolled": true
   },
   "outputs": [
    {
     "data": {
      "text/html": [
       "<div>\n",
       "<style scoped>\n",
       "    .dataframe tbody tr th:only-of-type {\n",
       "        vertical-align: middle;\n",
       "    }\n",
       "\n",
       "    .dataframe tbody tr th {\n",
       "        vertical-align: top;\n",
       "    }\n",
       "\n",
       "    .dataframe thead th {\n",
       "        text-align: right;\n",
       "    }\n",
       "</style>\n",
       "<table border=\"1\" class=\"dataframe\">\n",
       "  <thead>\n",
       "    <tr style=\"text-align: right;\">\n",
       "      <th></th>\n",
       "      <th>user_id</th>\n",
       "      <th>date</th>\n",
       "      <th>direction</th>\n",
       "      <th>internal</th>\n",
       "      <th>operator_id</th>\n",
       "      <th>is_missed_call</th>\n",
       "      <th>calls_count</th>\n",
       "      <th>call_duration</th>\n",
       "      <th>total_call_duration</th>\n",
       "      <th>tariff_plan</th>\n",
       "      <th>date_start</th>\n",
       "    </tr>\n",
       "  </thead>\n",
       "  <tbody>\n",
       "    <tr>\n",
       "      <th>46012</th>\n",
       "      <td>168091</td>\n",
       "      <td>2019-11-13 00:00:00+03:00</td>\n",
       "      <td>in</td>\n",
       "      <td>NaN</td>\n",
       "      <td>958460.0</td>\n",
       "      <td>True</td>\n",
       "      <td>1</td>\n",
       "      <td>85</td>\n",
       "      <td>136</td>\n",
       "      <td>B</td>\n",
       "      <td>2019-10-14</td>\n",
       "    </tr>\n",
       "    <tr>\n",
       "      <th>50718</th>\n",
       "      <td>168252</td>\n",
       "      <td>2019-11-22 00:00:00+03:00</td>\n",
       "      <td>in</td>\n",
       "      <td>NaN</td>\n",
       "      <td>940658.0</td>\n",
       "      <td>False</td>\n",
       "      <td>1</td>\n",
       "      <td>20</td>\n",
       "      <td>27</td>\n",
       "      <td>A</td>\n",
       "      <td>2019-10-17</td>\n",
       "    </tr>\n",
       "    <tr>\n",
       "      <th>51021</th>\n",
       "      <td>168253</td>\n",
       "      <td>2019-11-15 00:00:00+03:00</td>\n",
       "      <td>in</td>\n",
       "      <td>NaN</td>\n",
       "      <td>952948.0</td>\n",
       "      <td>False</td>\n",
       "      <td>2</td>\n",
       "      <td>61</td>\n",
       "      <td>63</td>\n",
       "      <td>A</td>\n",
       "      <td>2019-10-18</td>\n",
       "    </tr>\n",
       "    <tr>\n",
       "      <th>51505</th>\n",
       "      <td>168307</td>\n",
       "      <td>2019-11-01 00:00:00+03:00</td>\n",
       "      <td>in</td>\n",
       "      <td>NaN</td>\n",
       "      <td>945046.0</td>\n",
       "      <td>False</td>\n",
       "      <td>1</td>\n",
       "      <td>745</td>\n",
       "      <td>748</td>\n",
       "      <td>B</td>\n",
       "      <td>2019-10-21</td>\n",
       "    </tr>\n",
       "    <tr>\n",
       "      <th>53799</th>\n",
       "      <td>168598</td>\n",
       "      <td>2019-11-22 00:00:00+03:00</td>\n",
       "      <td>in</td>\n",
       "      <td>NaN</td>\n",
       "      <td>958394.0</td>\n",
       "      <td>False</td>\n",
       "      <td>1</td>\n",
       "      <td>11</td>\n",
       "      <td>17</td>\n",
       "      <td>C</td>\n",
       "      <td>2019-10-31</td>\n",
       "    </tr>\n",
       "  </tbody>\n",
       "</table>\n",
       "</div>"
      ],
      "text/plain": [
       "       user_id                      date direction internal  operator_id  \\\n",
       "46012   168091 2019-11-13 00:00:00+03:00        in      NaN     958460.0   \n",
       "50718   168252 2019-11-22 00:00:00+03:00        in      NaN     940658.0   \n",
       "51021   168253 2019-11-15 00:00:00+03:00        in      NaN     952948.0   \n",
       "51505   168307 2019-11-01 00:00:00+03:00        in      NaN     945046.0   \n",
       "53799   168598 2019-11-22 00:00:00+03:00        in      NaN     958394.0   \n",
       "\n",
       "       is_missed_call  calls_count  call_duration  total_call_duration  \\\n",
       "46012            True            1             85                  136   \n",
       "50718           False            1             20                   27   \n",
       "51021           False            2             61                   63   \n",
       "51505           False            1            745                  748   \n",
       "53799           False            1             11                   17   \n",
       "\n",
       "      tariff_plan date_start  \n",
       "46012           B 2019-10-14  \n",
       "50718           A 2019-10-17  \n",
       "51021           A 2019-10-18  \n",
       "51505           B 2019-10-21  \n",
       "53799           C 2019-10-31  "
      ]
     },
     "execution_count": 21,
     "metadata": {},
     "output_type": "execute_result"
    }
   ],
   "source": [
    "df.loc[df['internal'].isna()].tail() # Но можно взглянуть и на все строки целиком их осталось 55 - не так уж и много"
   ]
  },
  {
   "cell_type": "markdown",
   "metadata": {},
   "source": [
    "Общий алгоритм не прослеживается.\n",
    "\n",
    "Посмотрим количество уникальных значений"
   ]
  },
  {
   "cell_type": "code",
   "execution_count": 22,
   "metadata": {},
   "outputs": [
    {
     "data": {
      "text/plain": [
       "'Количество строк уникальных значений столбца direction, где пропущены значения в internal: '"
      ]
     },
     "metadata": {},
     "output_type": "display_data"
    },
    {
     "data": {
      "text/html": [
       "<div>\n",
       "<style scoped>\n",
       "    .dataframe tbody tr th:only-of-type {\n",
       "        vertical-align: middle;\n",
       "    }\n",
       "\n",
       "    .dataframe tbody tr th {\n",
       "        vertical-align: top;\n",
       "    }\n",
       "\n",
       "    .dataframe thead th {\n",
       "        text-align: right;\n",
       "    }\n",
       "</style>\n",
       "<table border=\"1\" class=\"dataframe\">\n",
       "  <thead>\n",
       "    <tr style=\"text-align: right;\">\n",
       "      <th></th>\n",
       "      <th>user_id</th>\n",
       "      <th>is_missed_call</th>\n",
       "    </tr>\n",
       "    <tr>\n",
       "      <th>direction</th>\n",
       "      <th></th>\n",
       "      <th></th>\n",
       "    </tr>\n",
       "  </thead>\n",
       "  <tbody>\n",
       "    <tr>\n",
       "      <th>in</th>\n",
       "      <td>55</td>\n",
       "      <td>55</td>\n",
       "    </tr>\n",
       "  </tbody>\n",
       "</table>\n",
       "</div>"
      ],
      "text/plain": [
       "           user_id  is_missed_call\n",
       "direction                         \n",
       "in              55              55"
      ]
     },
     "metadata": {},
     "output_type": "display_data"
    },
    {
     "data": {
      "text/plain": [
       "'Количество строк уникальных значений столбца is_missed_call, где пропущены значения в internal:'"
      ]
     },
     "metadata": {},
     "output_type": "display_data"
    },
    {
     "data": {
      "text/html": [
       "<div>\n",
       "<style scoped>\n",
       "    .dataframe tbody tr th:only-of-type {\n",
       "        vertical-align: middle;\n",
       "    }\n",
       "\n",
       "    .dataframe tbody tr th {\n",
       "        vertical-align: top;\n",
       "    }\n",
       "\n",
       "    .dataframe thead th {\n",
       "        text-align: right;\n",
       "    }\n",
       "</style>\n",
       "<table border=\"1\" class=\"dataframe\">\n",
       "  <thead>\n",
       "    <tr style=\"text-align: right;\">\n",
       "      <th></th>\n",
       "      <th>user_id</th>\n",
       "      <th>direction</th>\n",
       "    </tr>\n",
       "    <tr>\n",
       "      <th>is_missed_call</th>\n",
       "      <th></th>\n",
       "      <th></th>\n",
       "    </tr>\n",
       "  </thead>\n",
       "  <tbody>\n",
       "    <tr>\n",
       "      <th>False</th>\n",
       "      <td>54</td>\n",
       "      <td>54</td>\n",
       "    </tr>\n",
       "    <tr>\n",
       "      <th>True</th>\n",
       "      <td>1</td>\n",
       "      <td>1</td>\n",
       "    </tr>\n",
       "  </tbody>\n",
       "</table>\n",
       "</div>"
      ],
      "text/plain": [
       "                user_id  direction\n",
       "is_missed_call                    \n",
       "False                54         54\n",
       "True                  1          1"
      ]
     },
     "metadata": {},
     "output_type": "display_data"
    }
   ],
   "source": [
    "df_nan= df.loc[df['internal'].isna()]\n",
    "display('Количество строк уникальных значений столбца direction, где пропущены значения в internal: ', \n",
    "        df_nan.groupby('direction')[['user_id', 'is_missed_call']].count())\n",
    "display('Количество строк уникальных значений столбца is_missed_call, где пропущены значения в internal:',\n",
    "        df_nan.groupby('is_missed_call')[['user_id', 'direction']].count())"
   ]
  },
  {
   "cell_type": "markdown",
   "metadata": {},
   "source": [
    "Все звонки входящие. И все, кроме одного не пропущенные. \n",
    "\n",
    "Удалим пропуски в столбце `internal`, так как невозможно достоверно определить внешний или внутрений был вызов, а так же потому, что данных пропущенных очень мало относительно всего датасета."
   ]
  },
  {
   "cell_type": "code",
   "execution_count": 23,
   "metadata": {},
   "outputs": [],
   "source": [
    "df = df.loc[df['internal'].isna() == False]\n",
    "# Сколько пропусков осталось\n",
    "#display(df.isna().sum())\n",
    "#df.info()"
   ]
  },
  {
   "cell_type": "markdown",
   "metadata": {},
   "source": [
    "<div style=\"border-radius: 22px; box-shadow: 4px 4px 4px; border: solid red 2px; padding: 16px\">\n",
    "\n",
    "**Более подробный просмотр данных, обнаружил, что есть строки, где общее время звонка больше времени ответа. \n",
    "В принципе, наличие времени в столбце \"время звонка без учета ожидания\", уже говорит говорит о том, что звонок был принят.\n",
    "Но в столбце `is_missed_call` стоит значение True - якобы он пропущенный.\n",
    "Это вынуждает выполнить проверку датасета на верность трактования столбца `is_missed_call`:**"
   ]
  },
  {
   "cell_type": "markdown",
   "metadata": {},
   "source": [
    "<a id='3-3-3'></a>\n",
    "\n",
    "<font color='crimson'>\n",
    "\n",
    "#### приведем в соответствие данные столбца <font color='blue'> is_missed_call</font>\n",
    "\n",
    "</font>"
   ]
  },
  {
   "cell_type": "code",
   "execution_count": 24,
   "metadata": {
    "scrolled": false
   },
   "outputs": [
    {
     "data": {
      "text/html": [
       "<div>\n",
       "<style scoped>\n",
       "    .dataframe tbody tr th:only-of-type {\n",
       "        vertical-align: middle;\n",
       "    }\n",
       "\n",
       "    .dataframe tbody tr th {\n",
       "        vertical-align: top;\n",
       "    }\n",
       "\n",
       "    .dataframe thead th {\n",
       "        text-align: right;\n",
       "    }\n",
       "</style>\n",
       "<table border=\"1\" class=\"dataframe\">\n",
       "  <thead>\n",
       "    <tr style=\"text-align: right;\">\n",
       "      <th></th>\n",
       "      <th>user_id</th>\n",
       "      <th>date</th>\n",
       "      <th>direction</th>\n",
       "      <th>internal</th>\n",
       "      <th>operator_id</th>\n",
       "      <th>is_missed_call</th>\n",
       "      <th>calls_count</th>\n",
       "      <th>call_duration</th>\n",
       "      <th>total_call_duration</th>\n",
       "      <th>tariff_plan</th>\n",
       "      <th>date_start</th>\n",
       "    </tr>\n",
       "  </thead>\n",
       "  <tbody>\n",
       "    <tr>\n",
       "      <th>1606</th>\n",
       "      <td>166405</td>\n",
       "      <td>2019-11-19 00:00:00+03:00</td>\n",
       "      <td>in</td>\n",
       "      <td>False</td>\n",
       "      <td>939478.0</td>\n",
       "      <td>True</td>\n",
       "      <td>1</td>\n",
       "      <td>165</td>\n",
       "      <td>173</td>\n",
       "      <td>B</td>\n",
       "      <td>2019-08-02</td>\n",
       "    </tr>\n",
       "    <tr>\n",
       "      <th>1635</th>\n",
       "      <td>166405</td>\n",
       "      <td>2019-11-21 00:00:00+03:00</td>\n",
       "      <td>in</td>\n",
       "      <td>False</td>\n",
       "      <td>882686.0</td>\n",
       "      <td>True</td>\n",
       "      <td>1</td>\n",
       "      <td>1</td>\n",
       "      <td>5</td>\n",
       "      <td>B</td>\n",
       "      <td>2019-08-02</td>\n",
       "    </tr>\n",
       "    <tr>\n",
       "      <th>1657</th>\n",
       "      <td>166405</td>\n",
       "      <td>2019-11-22 00:00:00+03:00</td>\n",
       "      <td>in</td>\n",
       "      <td>False</td>\n",
       "      <td>882686.0</td>\n",
       "      <td>True</td>\n",
       "      <td>1</td>\n",
       "      <td>1</td>\n",
       "      <td>5</td>\n",
       "      <td>B</td>\n",
       "      <td>2019-08-02</td>\n",
       "    </tr>\n",
       "    <tr>\n",
       "      <th>2283</th>\n",
       "      <td>166407</td>\n",
       "      <td>2019-09-23 00:00:00+03:00</td>\n",
       "      <td>in</td>\n",
       "      <td>False</td>\n",
       "      <td>888534.0</td>\n",
       "      <td>True</td>\n",
       "      <td>1</td>\n",
       "      <td>133</td>\n",
       "      <td>156</td>\n",
       "      <td>A</td>\n",
       "      <td>2019-08-02</td>\n",
       "    </tr>\n",
       "    <tr>\n",
       "      <th>2869</th>\n",
       "      <td>166482</td>\n",
       "      <td>2019-11-05 00:00:00+03:00</td>\n",
       "      <td>in</td>\n",
       "      <td>False</td>\n",
       "      <td>934074.0</td>\n",
       "      <td>True</td>\n",
       "      <td>1</td>\n",
       "      <td>1</td>\n",
       "      <td>15</td>\n",
       "      <td>C</td>\n",
       "      <td>2019-08-05</td>\n",
       "    </tr>\n",
       "  </tbody>\n",
       "</table>\n",
       "</div>"
      ],
      "text/plain": [
       "      user_id                      date direction internal  operator_id  \\\n",
       "1606   166405 2019-11-19 00:00:00+03:00        in    False     939478.0   \n",
       "1635   166405 2019-11-21 00:00:00+03:00        in    False     882686.0   \n",
       "1657   166405 2019-11-22 00:00:00+03:00        in    False     882686.0   \n",
       "2283   166407 2019-09-23 00:00:00+03:00        in    False     888534.0   \n",
       "2869   166482 2019-11-05 00:00:00+03:00        in    False     934074.0   \n",
       "\n",
       "      is_missed_call  calls_count  call_duration  total_call_duration  \\\n",
       "1606            True            1            165                  173   \n",
       "1635            True            1              1                    5   \n",
       "1657            True            1              1                    5   \n",
       "2283            True            1            133                  156   \n",
       "2869            True            1              1                   15   \n",
       "\n",
       "     tariff_plan date_start  \n",
       "1606           B 2019-08-02  \n",
       "1635           B 2019-08-02  \n",
       "1657           B 2019-08-02  \n",
       "2283           A 2019-08-02  \n",
       "2869           C 2019-08-05  "
      ]
     },
     "execution_count": 24,
     "metadata": {},
     "output_type": "execute_result"
    }
   ],
   "source": [
    "df.loc[(df['is_missed_call']==True)&(df['call_duration']>0)].head()"
   ]
  },
  {
   "cell_type": "markdown",
   "metadata": {},
   "source": [
    "Строки имеют маркер \"пропущеный\" и при этом время ответа больше ноля. Это похоже на ошибки программы (какие либо сбои). По этому приведем в соответсвие:"
   ]
  },
  {
   "cell_type": "code",
   "execution_count": 25,
   "metadata": {},
   "outputs": [],
   "source": [
    "# Будем считать овеченными звонки, которые длились больше 0 секунд\n",
    "df.loc[(df['is_missed_call']==True)&(df['call_duration']>0), 'is_missed_call'] = False"
   ]
  },
  {
   "cell_type": "markdown",
   "metadata": {},
   "source": [
    "<div style=\"border-radius: 22px; box-shadow: 4px 4px 4px; border: solid green 2px; padding: 16px\">\n",
    "\n",
    "**Выводы:**\n",
    "* Пропуски в столбце `operator_id` удалены, так как для анализа эффективности работы оперторов данные об ID операторов имеет критическое значение.      \n",
    "* Пропуски в столбце `internal` удалили, так как количество пропусков было мало, плюс, я не нашел логических объяснений их происхождения, и, как следствие, не понимаю чем их заполнять.\n",
    "* По ходу анализа были обнаружены ошибки маркировки отвеченых звонков в столбце `is_missed_call` - строки приведены в соответсвие. <br> В реальной работе информацию об ошибках я бы передал менеджменту или разработчикам."
   ]
  },
  {
   "cell_type": "markdown",
   "metadata": {},
   "source": [
    "<a id='3-4'></a>\n",
    "\n",
    "<font color='crimson'>\n",
    "\n",
    "### Преобразуем типы данных\n",
    "</font>\n",
    "\n",
    "[К началу раздела](#3)<br>\n",
    "[К соддержанию](#0)"
   ]
  },
  {
   "cell_type": "code",
   "execution_count": 26,
   "metadata": {},
   "outputs": [
    {
     "name": "stdout",
     "output_type": "stream",
     "text": [
      "<class 'pandas.core.frame.DataFrame'>\n",
      "Int64Index: 41491 entries, 1 to 53899\n",
      "Data columns (total 11 columns):\n",
      " #   Column               Non-Null Count  Dtype                                \n",
      "---  ------               --------------  -----                                \n",
      " 0   user_id              41491 non-null  int64                                \n",
      " 1   date                 41491 non-null  datetime64[ns, pytz.FixedOffset(180)]\n",
      " 2   direction            41491 non-null  object                               \n",
      " 3   internal             41491 non-null  bool                                 \n",
      " 4   operator_id          41491 non-null  int32                                \n",
      " 5   is_missed_call       41491 non-null  bool                                 \n",
      " 6   calls_count          41491 non-null  int64                                \n",
      " 7   call_duration        41491 non-null  int64                                \n",
      " 8   total_call_duration  41491 non-null  int64                                \n",
      " 9   tariff_plan          41491 non-null  object                               \n",
      " 10  date_start           41491 non-null  datetime64[ns]                       \n",
      "dtypes: bool(2), datetime64[ns, pytz.FixedOffset(180)](1), datetime64[ns](1), int32(1), int64(4), object(2)\n",
      "memory usage: 3.1+ MB\n"
     ]
    }
   ],
   "source": [
    "#df['date'] = pd.to_datetime(df['date'],utc=False).dt.date\n",
    "#df['date_start'] = pd.to_datetime(df['date_start'],utc=False).dt.date\n",
    "\n",
    "df = df.astype({'internal':'bool', 'operator_id':'int'})\n",
    "df.info()"
   ]
  },
  {
   "cell_type": "markdown",
   "metadata": {},
   "source": [
    "<div style=\"border-radius: 22px; box-shadow: 4px 4px 4px; border: solid green 2px; padding: 16px\">\n",
    "\n",
    "**Выводы:**\n",
    "\n",
    "Преобразовали типы данных в столбцах: \n",
    " * `operator_id` в int \n",
    " * `internal` в bool "
   ]
  },
  {
   "cell_type": "markdown",
   "metadata": {},
   "source": [
    "<a id='3-5'></a>\n",
    "\n",
    "<font color='crimson'>\n",
    "\n",
    "### Найдем и уберем отклонения(выбросы)\n",
    "</font>\n",
    "\n",
    "[К началу раздела](#3)<br>\n",
    "[К соддержанию](#0)"
   ]
  },
  {
   "cell_type": "markdown",
   "metadata": {},
   "source": [
    "Еще раз посмортим на показатели столбцов"
   ]
  },
  {
   "cell_type": "code",
   "execution_count": 27,
   "metadata": {
    "scrolled": true
   },
   "outputs": [
    {
     "data": {
      "text/html": [
       "<div>\n",
       "<style scoped>\n",
       "    .dataframe tbody tr th:only-of-type {\n",
       "        vertical-align: middle;\n",
       "    }\n",
       "\n",
       "    .dataframe tbody tr th {\n",
       "        vertical-align: top;\n",
       "    }\n",
       "\n",
       "    .dataframe thead th {\n",
       "        text-align: right;\n",
       "    }\n",
       "</style>\n",
       "<table border=\"1\" class=\"dataframe\">\n",
       "  <thead>\n",
       "    <tr style=\"text-align: right;\">\n",
       "      <th></th>\n",
       "      <th>user_id</th>\n",
       "      <th>operator_id</th>\n",
       "      <th>calls_count</th>\n",
       "      <th>call_duration</th>\n",
       "      <th>total_call_duration</th>\n",
       "    </tr>\n",
       "  </thead>\n",
       "  <tbody>\n",
       "    <tr>\n",
       "      <th>count</th>\n",
       "      <td>41491.000000</td>\n",
       "      <td>41491.000000</td>\n",
       "      <td>41491.000000</td>\n",
       "      <td>41491.000000</td>\n",
       "      <td>41491.000000</td>\n",
       "    </tr>\n",
       "    <tr>\n",
       "      <th>mean</th>\n",
       "      <td>167301.113543</td>\n",
       "      <td>916516.771155</td>\n",
       "      <td>16.921381</td>\n",
       "      <td>1010.940011</td>\n",
       "      <td>1323.153238</td>\n",
       "    </tr>\n",
       "    <tr>\n",
       "      <th>std</th>\n",
       "      <td>600.513986</td>\n",
       "      <td>21234.081589</td>\n",
       "      <td>59.786187</td>\n",
       "      <td>4066.666485</td>\n",
       "      <td>4788.953155</td>\n",
       "    </tr>\n",
       "    <tr>\n",
       "      <th>min</th>\n",
       "      <td>166377.000000</td>\n",
       "      <td>879896.000000</td>\n",
       "      <td>1.000000</td>\n",
       "      <td>0.000000</td>\n",
       "      <td>0.000000</td>\n",
       "    </tr>\n",
       "    <tr>\n",
       "      <th>25%</th>\n",
       "      <td>166782.000000</td>\n",
       "      <td>900790.000000</td>\n",
       "      <td>1.000000</td>\n",
       "      <td>0.000000</td>\n",
       "      <td>67.000000</td>\n",
       "    </tr>\n",
       "    <tr>\n",
       "      <th>50%</th>\n",
       "      <td>167175.000000</td>\n",
       "      <td>913938.000000</td>\n",
       "      <td>4.000000</td>\n",
       "      <td>106.000000</td>\n",
       "      <td>289.000000</td>\n",
       "    </tr>\n",
       "    <tr>\n",
       "      <th>75%</th>\n",
       "      <td>167827.000000</td>\n",
       "      <td>937708.000000</td>\n",
       "      <td>14.000000</td>\n",
       "      <td>772.000000</td>\n",
       "      <td>1107.000000</td>\n",
       "    </tr>\n",
       "    <tr>\n",
       "      <th>max</th>\n",
       "      <td>168606.000000</td>\n",
       "      <td>973286.000000</td>\n",
       "      <td>4817.000000</td>\n",
       "      <td>144395.000000</td>\n",
       "      <td>166155.000000</td>\n",
       "    </tr>\n",
       "  </tbody>\n",
       "</table>\n",
       "</div>"
      ],
      "text/plain": [
       "             user_id    operator_id   calls_count  call_duration  \\\n",
       "count   41491.000000   41491.000000  41491.000000   41491.000000   \n",
       "mean   167301.113543  916516.771155     16.921381    1010.940011   \n",
       "std       600.513986   21234.081589     59.786187    4066.666485   \n",
       "min    166377.000000  879896.000000      1.000000       0.000000   \n",
       "25%    166782.000000  900790.000000      1.000000       0.000000   \n",
       "50%    167175.000000  913938.000000      4.000000     106.000000   \n",
       "75%    167827.000000  937708.000000     14.000000     772.000000   \n",
       "max    168606.000000  973286.000000   4817.000000  144395.000000   \n",
       "\n",
       "       total_call_duration  \n",
       "count         41491.000000  \n",
       "mean           1323.153238  \n",
       "std            4788.953155  \n",
       "min               0.000000  \n",
       "25%              67.000000  \n",
       "50%             289.000000  \n",
       "75%            1107.000000  \n",
       "max          166155.000000  "
      ]
     },
     "execution_count": 27,
     "metadata": {},
     "output_type": "execute_result"
    }
   ],
   "source": [
    "df.describe()"
   ]
  },
  {
   "cell_type": "markdown",
   "metadata": {},
   "source": [
    "Бросаются в глаза выбросы в столбце `calls_count`. Но и остальные стоит проверить.\n",
    "\n",
    "Посмотрим выбросы с учетом межквартильного размаха.\n",
    "\n",
    "Межквартильный размах (IQR) — это разница между 75-м процентилем (Q3) и 25-м процентилем (Q1) в наборе данных. Он измеряет разброс средних 50% значений.<br>\n",
    "    \n",
    "    Выбросы = наблюдения > Q3 + 1,5 IQR или Q1 – 1,5 IQR (или +/- 3 IQR для экстремальных выбросов) "
   ]
  },
  {
   "cell_type": "code",
   "execution_count": 28,
   "metadata": {
    "scrolled": true
   },
   "outputs": [],
   "source": [
    "# Cчитаем выбросы с помощью межквартильного размаха\n",
    "def anomalii(df):\n",
    "    \"\"\"\n",
    "        Эта функция в каждом столбце датасета высчитывает межквартильные размахи\n",
    "        После чего выводит на экран сообщение о наличии/отсутсвии выбросов в столбцах\n",
    "        В данном случае закоментированы нижние границы выбросов, так как в них нет необходимости\n",
    "        при желании можно их посмотреть\n",
    "    \"\"\"\n",
    "    for i in df.columns:\n",
    "      q1 = df[i].quantile(0.25)\n",
    "      q3 = df[i].quantile(0.75)\n",
    "      max = df[i].max()\n",
    "      iqr = q3 - q1\n",
    "      whisker_up_moderate = q3 + 1.5 * iqr\n",
    "      whisker_down_moderate = q3 - 1.5 * iqr\n",
    "      whisker_up_extreme = q3 + 3 * iqr\n",
    "      #print(f'Максимальное значение в столбце'+'\\033[94m'+f' {i}'+'\\033[0m'+f': {max}')\n",
    "      #print(f'Верхняя граница для умеренных выбросов, столбец {i}: {whisker_up_moderate}')\n",
    "      #print(f'Нижняя граница для умеренных выбросов, столбец {i}: {whisker_down_moderate}\\n')\n",
    "      #print(f'Верхняя граница для экстремальных выбросов, столбец {i}: {whisker_up_extreme}')\n",
    "      if max <= whisker_up_moderate:\n",
    "            print('В столбце'+'\\033[94m'+f' {i}'+'\\033[0m'+' аномальных значений нет')\n",
    "      else: \n",
    "        print('\\033[91m'+'\\033[1m'+'В столбце'+f' {i} возможно есть аномальные значения:'+'\\033[0m')\n",
    "        print(f'    Максимальное значение в столбце'+'\\033[94m'+f' {i}'+'\\033[0m'+f': {max}')\n",
    "        print(f'    Верхняя граница для умеренных выбросов в столбце {i}: {whisker_up_moderate}')\n",
    "        print(f'    Верхняя граница для экстремальных выбросов в столбце {i}: {whisker_up_extreme}')\n",
    "        #print(f'    Нижняя граница для умеренных выбросов, столбец {i}: {whisker_down_moderate}')\n",
    "      print()"
   ]
  },
  {
   "cell_type": "code",
   "execution_count": 29,
   "metadata": {
    "scrolled": false
   },
   "outputs": [
    {
     "name": "stdout",
     "output_type": "stream",
     "text": [
      "В столбце\u001b[94m date\u001b[0m аномальных значений нет\n",
      "\n",
      "В столбце\u001b[94m operator_id\u001b[0m аномальных значений нет\n",
      "\n",
      "\u001b[91m\u001b[1mВ столбце calls_count возможно есть аномальные значения:\u001b[0m\n",
      "    Максимальное значение в столбце\u001b[94m calls_count\u001b[0m: 4817\n",
      "    Верхняя граница для умеренных выбросов в столбце calls_count: 33.5\n",
      "    Верхняя граница для экстремальных выбросов в столбце calls_count: 53.0\n",
      "\n",
      "\u001b[91m\u001b[1mВ столбце call_duration возможно есть аномальные значения:\u001b[0m\n",
      "    Максимальное значение в столбце\u001b[94m call_duration\u001b[0m: 144395\n",
      "    Верхняя граница для умеренных выбросов в столбце call_duration: 1930.0\n",
      "    Верхняя граница для экстремальных выбросов в столбце call_duration: 3088.0\n",
      "\n",
      "\u001b[91m\u001b[1mВ столбце total_call_duration возможно есть аномальные значения:\u001b[0m\n",
      "    Максимальное значение в столбце\u001b[94m total_call_duration\u001b[0m: 166155\n",
      "    Верхняя граница для умеренных выбросов в столбце total_call_duration: 2667.0\n",
      "    Верхняя граница для экстремальных выбросов в столбце total_call_duration: 4227.0\n",
      "\n",
      "В столбце\u001b[94m date_start\u001b[0m аномальных значений нет\n",
      "\n"
     ]
    }
   ],
   "source": [
    "anomalii(df[['date', 'operator_id','calls_count', 'call_duration','total_call_duration', 'date_start']])"
   ]
  },
  {
   "cell_type": "markdown",
   "metadata": {},
   "source": [
    "Посмортим много ли выбросов по 99 процентилю в столбцах с аномальными значениями:"
   ]
  },
  {
   "cell_type": "code",
   "execution_count": 30,
   "metadata": {
    "scrolled": false
   },
   "outputs": [
    {
     "name": "stdout",
     "output_type": "stream",
     "text": [
      "количество выбросов в столбце calls_count = 415\n",
      "количество выбросов в столбце call_duration = 415\n",
      "количество выбросов в столбце total_call_duration = 415\n"
     ]
    }
   ],
   "source": [
    "# Запустим цикл проверки выбросов в столбцах с подозрением на выбросы\n",
    "for i in df[['calls_count', 'call_duration', 'total_call_duration']]:\n",
    "        print(f'количество выбросов в столбце {i} =',df.loc[df[i] > (df[i].quantile(0.99)), i].count())"
   ]
  },
  {
   "cell_type": "code",
   "execution_count": 31,
   "metadata": {},
   "outputs": [
    {
     "data": {
      "image/png": "[encoded data removed]",
      "text/plain": [
       "<Figure size 1440x72 with 1 Axes>"
      ]
     },
     "metadata": {
      "needs_background": "light"
     },
     "output_type": "display_data"
    },
    {
     "data": {
      "image/png": "[encoded data removed]",
      "text/plain": [
       "<Figure size 1440x72 with 1 Axes>"
      ]
     },
     "metadata": {
      "needs_background": "light"
     },
     "output_type": "display_data"
    },
    {
     "data": {
      "image/png": "[encoded data removed]",
      "text/plain": [
       "<Figure size 1440x72 with 1 Axes>"
      ]
     },
     "metadata": {
      "needs_background": "light"
     },
     "output_type": "display_data"
    }
   ],
   "source": [
    "plt.figure(figsize=(20,1))\n",
    "plt.title('Графики межквартильного размаха',  fontsize=16)\n",
    "sns.boxplot(data=df, x='calls_count',medianprops={\"color\": \"coral\"})\n",
    "plt.xlabel('Количество звонков', fontsize=12)\n",
    "plt.show()\n",
    "\n",
    "plt.figure(figsize=(20,1))\n",
    "sns.boxplot(data=df, x='call_duration',medianprops={\"color\": \"coral\"})\n",
    "plt.xlabel('Длительность звонков без учета ожидания', fontsize=12)\n",
    "plt.show()\n",
    "\n",
    "plt.figure(figsize=(20,1))\n",
    "sns.boxplot(data=df, x='total_call_duration',medianprops={\"color\": \"coral\"})\n",
    "plt.xlabel('Общая длительность звонков', fontsize=12)\n",
    "plt.show()"
   ]
  },
  {
   "cell_type": "markdown",
   "metadata": {},
   "source": [
    "Увеличим нижнюю часть \"boxplot\"-ов, чтобы лучше разглядеть медианы и 75% квантиль"
   ]
  },
  {
   "cell_type": "code",
   "execution_count": 32,
   "metadata": {},
   "outputs": [
    {
     "data": {
      "image/png": "[encoded data removed]",
      "text/plain": [
       "<Figure size 1440x72 with 1 Axes>"
      ]
     },
     "metadata": {
      "needs_background": "light"
     },
     "output_type": "display_data"
    },
    {
     "data": {
      "image/png": "[encoded data removed]",
      "text/plain": [
       "<Figure size 1440x72 with 1 Axes>"
      ]
     },
     "metadata": {
      "needs_background": "light"
     },
     "output_type": "display_data"
    },
    {
     "data": {
      "image/png": "[encoded data removed]",
      "text/plain": [
       "<Figure size 1440x72 with 1 Axes>"
      ]
     },
     "metadata": {
      "needs_background": "light"
     },
     "output_type": "display_data"
    }
   ],
   "source": [
    "plt.figure(figsize=(20,1))\n",
    "plt.title('Графики межквартильного размаха',  fontsize=16)\n",
    "sns.boxplot(data=df, x='calls_count', notch=True, medianprops={\"color\": \"coral\"})\n",
    "plt.xlabel('Количество звонков', fontsize=12)\n",
    "plt.xlim(40,0)\n",
    "plt.show()\n",
    "\n",
    "plt.figure(figsize=(20,1))\n",
    "sns.boxplot(data=df, x='call_duration', notch=True, medianprops={\"color\": \"coral\"})\n",
    "plt.xlabel('Длительность звонков без учета ожидания', fontsize=12)\n",
    "plt.xlim(1500,-10)\n",
    "plt.show()\n",
    "\n",
    "plt.figure(figsize=(20,1))\n",
    "sns.boxplot(data=df, x='total_call_duration', notch=True, medianprops={\"color\": \"coral\"})\n",
    "plt.xlabel('Общая длительность звонков', fontsize=12)\n",
    "plt.xlim(2500,-10)\n",
    "plt.show()"
   ]
  },
  {
   "cell_type": "markdown",
   "metadata": {},
   "source": [
    "Выбросов мало, можно удалить все.\n",
    "Посмортим значения 99 процентиля:"
   ]
  },
  {
   "cell_type": "code",
   "execution_count": 33,
   "metadata": {},
   "outputs": [
    {
     "data": {
      "text/html": [
       "<div>\n",
       "<style scoped>\n",
       "    .dataframe tbody tr th:only-of-type {\n",
       "        vertical-align: middle;\n",
       "    }\n",
       "\n",
       "    .dataframe tbody tr th {\n",
       "        vertical-align: top;\n",
       "    }\n",
       "\n",
       "    .dataframe thead th {\n",
       "        text-align: right;\n",
       "    }\n",
       "</style>\n",
       "<table border=\"1\" class=\"dataframe\">\n",
       "  <thead>\n",
       "    <tr style=\"text-align: right;\">\n",
       "      <th></th>\n",
       "      <th>calls_count</th>\n",
       "      <th>call_duration</th>\n",
       "      <th>total_call_duration</th>\n",
       "    </tr>\n",
       "  </thead>\n",
       "  <tbody>\n",
       "    <tr>\n",
       "      <th>0.95</th>\n",
       "      <td>65.0</td>\n",
       "      <td>4161.5</td>\n",
       "      <td>5035.5</td>\n",
       "    </tr>\n",
       "    <tr>\n",
       "      <th>0.99</th>\n",
       "      <td>165.1</td>\n",
       "      <td>10988.3</td>\n",
       "      <td>13654.1</td>\n",
       "    </tr>\n",
       "  </tbody>\n",
       "</table>\n",
       "</div>"
      ],
      "text/plain": [
       "      calls_count  call_duration  total_call_duration\n",
       "0.95         65.0         4161.5               5035.5\n",
       "0.99        165.1        10988.3              13654.1"
      ]
     },
     "metadata": {},
     "output_type": "display_data"
    }
   ],
   "source": [
    "display(df[['calls_count', 'call_duration', 'total_call_duration']].quantile([0.95, 0.99]))"
   ]
  },
  {
   "cell_type": "markdown",
   "metadata": {},
   "source": [
    "Не всегда аномальные значения означают выбросы.<br>\n",
    "Удаляя по 95 процентилю мы теряем большую часть данных, которые в принципе являются абослютно реальными значениями:<br>\n",
    "Что такое 62 звонка в сутки? - Абсолютно реальное значение,<br>\n",
    "4161 и 5035 секнуд длительности звонков - это 69 и 84 минуты длительности звонков - так же абсолютно реальные значения.\n",
    "\n",
    "Тем не менее выбросы по 99 процентилю удалю, чтобы при анализе они не тянули на себя срдение значения:"
   ]
  },
  {
   "cell_type": "code",
   "execution_count": 34,
   "metadata": {},
   "outputs": [
    {
     "name": "stdout",
     "output_type": "stream",
     "text": [
      "165 10988 13654\n"
     ]
    }
   ],
   "source": [
    "a = (df['calls_count'].quantile(0.99)).astype(int)\n",
    "b = (df['call_duration'].quantile(0.99)).astype(int)\n",
    "c = (df['total_call_duration'].quantile(0.99)).astype(int)\n",
    "print(a,b,c)"
   ]
  },
  {
   "cell_type": "code",
   "execution_count": 35,
   "metadata": {},
   "outputs": [],
   "source": [
    "df = df.loc[(df['calls_count'] < a) & \n",
    "            (df['call_duration'] < b) & \n",
    "            (df['total_call_duration'] < c)]"
   ]
  },
  {
   "cell_type": "markdown",
   "metadata": {},
   "source": [
    "Построим боксплоты для столбцов с подозрением на аномалии:"
   ]
  },
  {
   "cell_type": "markdown",
   "metadata": {},
   "source": [
    "<div style=\"border-radius: 22px; box-shadow: 4px 4px 4px; border: solid green 2px; padding: 16px\">\n",
    "\n",
    "**Выводы:**\n",
    "\n",
    "Аномалии удалии по 99 процентилю"
   ]
  },
  {
   "cell_type": "markdown",
   "metadata": {},
   "source": [
    "<a id='3-6'></a>\n",
    "\n",
    "<font color='crimson'>\n",
    "\n",
    "### Проверим категориальные столбцы\n",
    "</font>\n",
    "\n",
    "[К началу раздела](#3)<br>\n",
    "[К соддержанию](#0)"
   ]
  },
  {
   "cell_type": "markdown",
   "metadata": {},
   "source": [
    "Так как в данных часто содержатся опечатки или неявные дубликаты посмотрим все униальные значения категориальных столбцов и, при необходимости, обработаем их.\n",
    "Посмотрим уникальные значения категорияльных столбцов и их относительное распределение:"
   ]
  },
  {
   "cell_type": "code",
   "execution_count": 36,
   "metadata": {},
   "outputs": [],
   "source": [
    "# Запустим цикл для просмотра уникальных значений в категориальных столбцах:\n",
    "def see_kategori_columns(df):\n",
    "    for i in df:\n",
    "        if df[i].nunique() < 50: # Если уникальных значений столбца больше условно 50 - будем считать его числовым, \n",
    "                                # в некоторых случаях 50 нужно уменьшить/увеличить\n",
    "            print('    Уникальные значения столбца'+'\\033[94m'+f' {i}:'+'\\033[0m'+'')\n",
    "            print(df[i].sort_values().unique())\n",
    "            print('    Статистика распределения данных значений:')\n",
    "            print(df[i].value_counts(normalize=True),'\\n')"
   ]
  },
  {
   "cell_type": "code",
   "execution_count": 37,
   "metadata": {},
   "outputs": [
    {
     "name": "stdout",
     "output_type": "stream",
     "text": [
      "    Уникальные значения столбца\u001b[94m direction:\u001b[0m\n",
      "['in' 'out']\n",
      "    Статистика распределения данных значений:\n",
      "out    0.690489\n",
      "in     0.309511\n",
      "Name: direction, dtype: float64 \n",
      "\n",
      "    Уникальные значения столбца\u001b[94m internal:\u001b[0m\n",
      "[False  True]\n",
      "    Статистика распределения данных значений:\n",
      "False    0.869548\n",
      "True     0.130452\n",
      "Name: internal, dtype: float64 \n",
      "\n",
      "    Уникальные значения столбца\u001b[94m is_missed_call:\u001b[0m\n",
      "[False  True]\n",
      "    Статистика распределения данных значений:\n",
      "False    0.666626\n",
      "True     0.333374\n",
      "Name: is_missed_call, dtype: float64 \n",
      "\n",
      "    Уникальные значения столбца\u001b[94m tariff_plan:\u001b[0m\n",
      "['A' 'B' 'C']\n",
      "    Статистика распределения данных значений:\n",
      "C    0.360590\n",
      "B    0.353468\n",
      "A    0.285942\n",
      "Name: tariff_plan, dtype: float64 \n",
      "\n"
     ]
    }
   ],
   "source": [
    "see_kategori_columns(df)"
   ]
  },
  {
   "cell_type": "markdown",
   "metadata": {},
   "source": [
    "<div style=\"border-radius: 22px; box-shadow: 4px 4px 4px; border: solid green 2px; padding: 16px\">\n",
    "\n",
    "**Выводы:**\n",
    "\n",
    "* Исходящих вызовов значительно больше, чем входящих.\n",
    "* В основном звонки внешние - это логично.\n",
    "* Треть звонков - пропущенные.\n",
    "* В данных представлены 3 тарифа - A, B и C. Наиболее популярный тариф С и В. У каждого колл-центра за исследуемый период был только один тариф - тарифы не менялись.<br> "
   ]
  },
  {
   "cell_type": "code",
   "execution_count": 38,
   "metadata": {},
   "outputs": [
    {
     "name": "stdout",
     "output_type": "stream",
     "text": [
      "<class 'pandas.core.frame.DataFrame'>\n",
      "Int64Index: 40858 entries, 1 to 53899\n",
      "Data columns (total 11 columns):\n",
      " #   Column               Non-Null Count  Dtype                                \n",
      "---  ------               --------------  -----                                \n",
      " 0   user_id              40858 non-null  int64                                \n",
      " 1   date                 40858 non-null  datetime64[ns, pytz.FixedOffset(180)]\n",
      " 2   direction            40858 non-null  object                               \n",
      " 3   internal             40858 non-null  bool                                 \n",
      " 4   operator_id          40858 non-null  int32                                \n",
      " 5   is_missed_call       40858 non-null  bool                                 \n",
      " 6   calls_count          40858 non-null  int64                                \n",
      " 7   call_duration        40858 non-null  int64                                \n",
      " 8   total_call_duration  40858 non-null  int64                                \n",
      " 9   tariff_plan          40858 non-null  object                               \n",
      " 10  date_start           40858 non-null  datetime64[ns]                       \n",
      "dtypes: bool(2), datetime64[ns, pytz.FixedOffset(180)](1), datetime64[ns](1), int32(1), int64(4), object(2)\n",
      "memory usage: 3.0+ MB\n",
      "None\n",
      "-------------------------\n",
      "\u001b[94m Столбец  user_id \u001b[0m [166377 166391 166392 166399 166405 166406 166407 166428 166481 166482\n",
      " 166485 166487 166495 166503 166507 166511 166520 166533 166536 166541\n",
      " 166548 166582 166585 166604 166609 166619 166636 166649 166658 166660\n",
      " 166666 166669 166671 166677 166678 166680 166688 166691 166692 166697\n",
      " 166708 166711 166713 166717 166725 166726 166727 166732 166774 166782\n",
      " 166800 166803 166812 166813 166833 166836 166837 166839 166843 166874\n",
      " 166879 166884 166896 166899 166901 166908 166916 166936 166939 166940\n",
      " 166941 166946 166955 166958 166971 166973 166974 166975 166983 166985\n",
      " 166993 166997 167002 167003 167004 167009 167011 167012 167016 167031\n",
      " 167035 167052 167053 167059 167060 167061 167071 167078 167079 167082\n",
      " 167102 167109 167110 167112 167113 167122 167124 167125 167130 167139\n",
      " 167141 167144 167150 167158 167162 167172 167175 167176 167180 167183\n",
      " 167185 167188 167189 167199 167200 167235 167238 167242 167244 167246\n",
      " 167250 167263 167264 167272 167275 167277 167285 167286 167288 167338\n",
      " 167359 167364 167397 167402 167412 167436 167445 167451 167455 167456\n",
      " 167466 167471 167474 167475 167479 167487 167497 167506 167521 167530\n",
      " 167532 167533 167534 167543 167545 167551 167575 167580 167599 167621\n",
      " 167626 167630 167634 167644 167645 167646 167650 167653 167654 167664\n",
      " 167682 167715 167716 167727 167742 167744 167747 167756 167759 167781\n",
      " 167792 167799 167805 167816 167819 167827 167828 167829 167840 167847\n",
      " 167852 167870 167888 167906 167908 167923 167927 167930 167936 167947\n",
      " 167948 167949 167955 167958 167969 167976 167977 167989 167994 167995\n",
      " 167998 167999 168000 168004 168008 168010 168016 168018 168019 168021\n",
      " 168025 168041 168042 168047 168048 168054 168062 168064 168073 168090\n",
      " 168091 168093 168097 168101 168105 168110 168121 168128 168154 168155\n",
      " 168180 168185 168187 168190 168193 168202 168221 168225 168228 168252\n",
      " 168253 168264 168271 168275 168291 168295 168303 168307 168315 168336\n",
      " 168361 168366 168377 168412 168416 168459 168464 168466 168473 168481\n",
      " 168500 168522 168562 168575 168579 168583 168598 168601 168603 168606]\n",
      "\u001b[94m user_id : кол-во NaN 0 , процент NaN 0.0 %\u001b[0m\n",
      "-------------------------\n",
      "\u001b[94m Столбец  date \u001b[0m <DatetimeArray>\n",
      "['2019-08-02 00:00:00+03:00', '2019-08-03 00:00:00+03:00',\n",
      " '2019-08-04 00:00:00+03:00', '2019-08-05 00:00:00+03:00',\n",
      " '2019-08-06 00:00:00+03:00', '2019-08-07 00:00:00+03:00',\n",
      " '2019-08-08 00:00:00+03:00', '2019-08-09 00:00:00+03:00',\n",
      " '2019-08-10 00:00:00+03:00', '2019-08-12 00:00:00+03:00',\n",
      " ...\n",
      " '2019-11-19 00:00:00+03:00', '2019-11-20 00:00:00+03:00',\n",
      " '2019-11-21 00:00:00+03:00', '2019-11-22 00:00:00+03:00',\n",
      " '2019-11-23 00:00:00+03:00', '2019-11-24 00:00:00+03:00',\n",
      " '2019-11-25 00:00:00+03:00', '2019-11-26 00:00:00+03:00',\n",
      " '2019-11-27 00:00:00+03:00', '2019-11-28 00:00:00+03:00']\n",
      "Length: 118, dtype: datetime64[ns, pytz.FixedOffset(180)]\n",
      "\u001b[94m date : кол-во NaN 0 , процент NaN 0.0 %\u001b[0m\n",
      "-------------------------\n",
      "\u001b[94m Столбец  direction \u001b[0m ['in' 'out']\n",
      "\u001b[94m direction : кол-во NaN 0 , процент NaN 0.0 %\u001b[0m\n",
      "-------------------------\n",
      "\u001b[94m Столбец  internal \u001b[0m [False  True]\n",
      "\u001b[94m internal : кол-во NaN 0 , процент NaN 0.0 %\u001b[0m\n",
      "-------------------------\n",
      "\u001b[94m Столбец  operator_id \u001b[0m [879896 879898 880020 ... 972460 973120 973286]\n",
      "\u001b[94m operator_id : кол-во NaN 0 , процент NaN 0.0 %\u001b[0m\n",
      "-------------------------\n",
      "\u001b[94m Столбец  is_missed_call \u001b[0m [False  True]\n",
      "\u001b[94m is_missed_call : кол-во NaN 0 , процент NaN 0.0 %\u001b[0m\n",
      "-------------------------\n",
      "\u001b[94m Столбец  calls_count \u001b[0m [  1   2   3   4   5   6   7   8   9  10  11  12  13  14  15  16  17  18\n",
      "  19  20  21  22  23  24  25  26  27  28  29  30  31  32  33  34  35  36\n",
      "  37  38  39  40  41  42  43  44  45  46  47  48  49  50  51  52  53  54\n",
      "  55  56  57  58  59  60  61  62  63  64  65  66  67  68  69  70  71  72\n",
      "  73  74  75  76  77  78  79  80  81  82  83  84  85  86  87  88  89  90\n",
      "  91  92  93  94  95  96  97  98  99 100 101 102 103 104 105 106 107 108\n",
      " 109 110 111 112 113 114 115 116 117 118 119 120 121 122 123 124 125 126\n",
      " 127 128 129 130 131 132 133 134 135 136 137 138 139 140 141 142 143 144\n",
      " 145 146 147 148 149 150 151 152 153 154 155 156 157 158 159 160 161 162\n",
      " 163 164]\n",
      "\u001b[94m calls_count : кол-во NaN 0 , процент NaN 0.0 %\u001b[0m\n",
      "-------------------------\n",
      "\u001b[94m Столбец  call_duration \u001b[0m [    0     1     2 ... 10976 10977 10987]\n",
      "\u001b[94m call_duration : кол-во NaN 0 , процент NaN 0.0 %\u001b[0m\n",
      "-------------------------\n",
      "\u001b[94m Столбец  total_call_duration \u001b[0m [    0     1     2 ... 13094 13229 13372]\n",
      "\u001b[94m total_call_duration : кол-во NaN 0 , процент NaN 0.0 %\u001b[0m\n"
     ]
    }
   ],
   "source": [
    "# Посмотрим, что осталось\n",
    "temp = df.copy() \n",
    "list_c = ['user_id', 'date', 'direction', 'internal', 'operator_id',\n",
    "       'is_missed_call', 'calls_count', 'call_duration', 'total_call_duration']\n",
    "print(temp.info())\n",
    "for col_l in list_c:\n",
    "  print('-'* 25)\n",
    "  print('\\033[94m Столбец ', col_l,'\\033[0m', temp[col_l].sort_values().unique())\n",
    "  print('\\033[94m',col_l,': кол-во NaN',temp[col_l].isna().sum(),\n",
    "        ', процент NaN', round(temp[col_l].isna().mean()*100,2),'%'+'\\033[0m') "
   ]
  },
  {
   "cell_type": "markdown",
   "metadata": {},
   "source": [
    "Сгруппируем данные по типам звонков и проверим каких звонков больше:"
   ]
  },
  {
   "cell_type": "code",
   "execution_count": 39,
   "metadata": {
    "scrolled": false
   },
   "outputs": [
    {
     "data": {
      "text/html": [
       "<div>\n",
       "<style scoped>\n",
       "    .dataframe tbody tr th:only-of-type {\n",
       "        vertical-align: middle;\n",
       "    }\n",
       "\n",
       "    .dataframe tbody tr th {\n",
       "        vertical-align: top;\n",
       "    }\n",
       "\n",
       "    .dataframe thead th {\n",
       "        text-align: right;\n",
       "    }\n",
       "</style>\n",
       "<table border=\"1\" class=\"dataframe\">\n",
       "  <thead>\n",
       "    <tr style=\"text-align: right;\">\n",
       "      <th></th>\n",
       "      <th>direction</th>\n",
       "      <th>internal</th>\n",
       "      <th>is_missed_call</th>\n",
       "      <th>user_id</th>\n",
       "    </tr>\n",
       "  </thead>\n",
       "  <tbody>\n",
       "    <tr>\n",
       "      <th>0</th>\n",
       "      <td>in</td>\n",
       "      <td>False</td>\n",
       "      <td>False</td>\n",
       "      <td>11858</td>\n",
       "    </tr>\n",
       "    <tr>\n",
       "      <th>1</th>\n",
       "      <td>in</td>\n",
       "      <td>False</td>\n",
       "      <td>True</td>\n",
       "      <td>402</td>\n",
       "    </tr>\n",
       "    <tr>\n",
       "      <th>2</th>\n",
       "      <td>in</td>\n",
       "      <td>True</td>\n",
       "      <td>False</td>\n",
       "      <td>378</td>\n",
       "    </tr>\n",
       "    <tr>\n",
       "      <th>3</th>\n",
       "      <td>in</td>\n",
       "      <td>True</td>\n",
       "      <td>True</td>\n",
       "      <td>8</td>\n",
       "    </tr>\n",
       "    <tr>\n",
       "      <th>4</th>\n",
       "      <td>out</td>\n",
       "      <td>False</td>\n",
       "      <td>False</td>\n",
       "      <td>12427</td>\n",
       "    </tr>\n",
       "    <tr>\n",
       "      <th>5</th>\n",
       "      <td>out</td>\n",
       "      <td>False</td>\n",
       "      <td>True</td>\n",
       "      <td>10841</td>\n",
       "    </tr>\n",
       "    <tr>\n",
       "      <th>6</th>\n",
       "      <td>out</td>\n",
       "      <td>True</td>\n",
       "      <td>False</td>\n",
       "      <td>2574</td>\n",
       "    </tr>\n",
       "    <tr>\n",
       "      <th>7</th>\n",
       "      <td>out</td>\n",
       "      <td>True</td>\n",
       "      <td>True</td>\n",
       "      <td>2370</td>\n",
       "    </tr>\n",
       "  </tbody>\n",
       "</table>\n",
       "</div>"
      ],
      "text/plain": [
       "  direction  internal  is_missed_call  user_id\n",
       "0        in     False           False    11858\n",
       "1        in     False            True      402\n",
       "2        in      True           False      378\n",
       "3        in      True            True        8\n",
       "4       out     False           False    12427\n",
       "5       out     False            True    10841\n",
       "6       out      True           False     2574\n",
       "7       out      True            True     2370"
      ]
     },
     "execution_count": 39,
     "metadata": {},
     "output_type": "execute_result"
    }
   ],
   "source": [
    "call_type_group = df.groupby(['direction','internal','is_missed_call'])['user_id'].agg('count')\n",
    "call_type_group = call_type_group.reset_index()\n",
    "call_type_group"
   ]
  },
  {
   "cell_type": "markdown",
   "metadata": {},
   "source": [
    "Для восприятия и анализа будет удобнее, если для каждого вызова мы агрегируем его тип на русском языке, \n",
    "например: внешний, входящий, пропущеный:"
   ]
  },
  {
   "cell_type": "code",
   "execution_count": 40,
   "metadata": {},
   "outputs": [],
   "source": [
    "call_type_group.columns = ['входящий/исходящий','внешний/внутрений','пропущенный/отвеченый','сумма_звонков']\n",
    "\n",
    "def type_call(df):\n",
    "    if df['входящий/исходящий'] == 'in':\n",
    "        df['тип_звонка'] = 'входящий_'\n",
    "    elif df['входящий/исходящий'] == 'out':\n",
    "        df['тип_звонка'] = 'исходящий_'\n",
    "    \n",
    "    if df['внешний/внутрений'] == True:\n",
    "        df['тип_звонка'] = df['тип_звонка'] + 'внутренний_'\n",
    "    elif df['внешний/внутрений'] == False:\n",
    "        df['тип_звонка'] = df['тип_звонка'] + 'внешний_'\n",
    "        \n",
    "    if df['пропущенный/отвеченый'] == True:\n",
    "        df['тип_звонка'] = df['тип_звонка'] + 'пропущенный'\n",
    "    elif df['пропущенный/отвеченый'] == False:\n",
    "        df['тип_звонка'] = df['тип_звонка'] + 'непропущенный'\n",
    "    return df"
   ]
  },
  {
   "cell_type": "code",
   "execution_count": 41,
   "metadata": {
    "scrolled": false
   },
   "outputs": [],
   "source": [
    "call_type_group = call_type_group.apply(type_call, axis=1)"
   ]
  },
  {
   "cell_type": "code",
   "execution_count": 42,
   "metadata": {},
   "outputs": [
    {
     "data": {
      "text/html": [
       "<div>\n",
       "<style scoped>\n",
       "    .dataframe tbody tr th:only-of-type {\n",
       "        vertical-align: middle;\n",
       "    }\n",
       "\n",
       "    .dataframe tbody tr th {\n",
       "        vertical-align: top;\n",
       "    }\n",
       "\n",
       "    .dataframe thead th {\n",
       "        text-align: right;\n",
       "    }\n",
       "</style>\n",
       "<table border=\"1\" class=\"dataframe\">\n",
       "  <thead>\n",
       "    <tr style=\"text-align: right;\">\n",
       "      <th></th>\n",
       "      <th>тип_звонка</th>\n",
       "      <th>сумма_звонков</th>\n",
       "      <th>процент, %</th>\n",
       "    </tr>\n",
       "  </thead>\n",
       "  <tbody>\n",
       "    <tr>\n",
       "      <th>4</th>\n",
       "      <td>исходящий_внешний_непропущенный</td>\n",
       "      <td>12427</td>\n",
       "      <td>30.4</td>\n",
       "    </tr>\n",
       "    <tr>\n",
       "      <th>0</th>\n",
       "      <td>входящий_внешний_непропущенный</td>\n",
       "      <td>11858</td>\n",
       "      <td>29.0</td>\n",
       "    </tr>\n",
       "    <tr>\n",
       "      <th>5</th>\n",
       "      <td>исходящий_внешний_пропущенный</td>\n",
       "      <td>10841</td>\n",
       "      <td>26.5</td>\n",
       "    </tr>\n",
       "    <tr>\n",
       "      <th>6</th>\n",
       "      <td>исходящий_внутренний_непропущенный</td>\n",
       "      <td>2574</td>\n",
       "      <td>6.3</td>\n",
       "    </tr>\n",
       "    <tr>\n",
       "      <th>7</th>\n",
       "      <td>исходящий_внутренний_пропущенный</td>\n",
       "      <td>2370</td>\n",
       "      <td>5.8</td>\n",
       "    </tr>\n",
       "    <tr>\n",
       "      <th>1</th>\n",
       "      <td>входящий_внешний_пропущенный</td>\n",
       "      <td>402</td>\n",
       "      <td>1.0</td>\n",
       "    </tr>\n",
       "    <tr>\n",
       "      <th>2</th>\n",
       "      <td>входящий_внутренний_непропущенный</td>\n",
       "      <td>378</td>\n",
       "      <td>0.9</td>\n",
       "    </tr>\n",
       "    <tr>\n",
       "      <th>3</th>\n",
       "      <td>входящий_внутренний_пропущенный</td>\n",
       "      <td>8</td>\n",
       "      <td>0.0</td>\n",
       "    </tr>\n",
       "  </tbody>\n",
       "</table>\n",
       "</div>"
      ],
      "text/plain": [
       "                           тип_звонка  сумма_звонков  процент, %\n",
       "4     исходящий_внешний_непропущенный          12427        30.4\n",
       "0      входящий_внешний_непропущенный          11858        29.0\n",
       "5       исходящий_внешний_пропущенный          10841        26.5\n",
       "6  исходящий_внутренний_непропущенный           2574         6.3\n",
       "7    исходящий_внутренний_пропущенный           2370         5.8\n",
       "1        входящий_внешний_пропущенный            402         1.0\n",
       "2   входящий_внутренний_непропущенный            378         0.9\n",
       "3     входящий_внутренний_пропущенный              8         0.0"
      ]
     },
     "metadata": {},
     "output_type": "display_data"
    }
   ],
   "source": [
    "call_type_group = call_type_group[['тип_звонка', 'сумма_звонков']]\n",
    "call_type_group = call_type_group.sort_values(by='сумма_звонков', ascending=False)\n",
    "# Было бы удобно оценить и доли\n",
    "call_type_group['процент, %'] = round((call_type_group['сумма_звонков']/call_type_group['сумма_звонков'].sum()),3)*100\n",
    "display(call_type_group)"
   ]
  },
  {
   "cell_type": "markdown",
   "metadata": {},
   "source": [
    "Визуализируем данные:"
   ]
  },
  {
   "cell_type": "code",
   "execution_count": 43,
   "metadata": {},
   "outputs": [
    {
     "data": {
      "image/png": "[encoded data removed]",
      "text/plain": [
       "<Figure size 1080x360 with 1 Axes>"
      ]
     },
     "metadata": {
      "needs_background": "light"
     },
     "output_type": "display_data"
    }
   ],
   "source": [
    "plt.figure(figsize=(15,5))\n",
    "sns.barplot(data=call_type_group, y='тип_звонка', x=\"сумма_звонков\",palette=sns.color_palette(\"BuGn_r\", n_colors=len(call_type_group)))\n",
    "plt.title('Распеределение по типам звонков')\n",
    "plt.xlabel('количество звонков')\n",
    "plt.ylabel('тип звонка')\n",
    "plt.show()"
   ]
  },
  {
   "cell_type": "markdown",
   "metadata": {},
   "source": [
    "Наиболее часто совершались внешние исходящие и входящие звонки. Это понятно - колл-центры нацелены на работу с населением а не внутри компании."
   ]
  },
  {
   "cell_type": "markdown",
   "metadata": {},
   "source": [
    "<a id='3-8'></a>\n",
    "\n",
    "<font color='crimson'>\n",
    "\n",
    "### Отобразим корреляцию\n",
    "</font>\n",
    "\n",
    "[К началу раздела](#3)<br>\n",
    "[К соддержанию](#0)"
   ]
  },
  {
   "cell_type": "markdown",
   "metadata": {},
   "source": [
    "Рассчитаем матрицу корреляций и на её основе построим heatmap"
   ]
  },
  {
   "cell_type": "markdown",
   "metadata": {},
   "source": [
    "Чтобы посмотреть корреляцию с тарифами и входящими/исходящими звонками, переведем буквенные обозначения в цифровые:"
   ]
  },
  {
   "cell_type": "code",
   "execution_count": 44,
   "metadata": {},
   "outputs": [],
   "source": [
    "# Функция для замены одного значения на другое\n",
    "def replacing_values(data, column, wrong_values, correct_values):\n",
    "    data[column] = data[column].replace(wrong_values, correct_values)"
   ]
  },
  {
   "cell_type": "code",
   "execution_count": 45,
   "metadata": {},
   "outputs": [
    {
     "name": "stdout",
     "output_type": "stream",
     "text": [
      "Тарифы:  [1 2 3]\n",
      "Вх-ие/Исх-ие:  [0 1]\n"
     ]
    }
   ],
   "source": [
    "# Создадим вспомогательные столбцы, чтобы не портить основные данные\n",
    "df['tariff'] = df['tariff_plan']\n",
    "df['direct'] = df['direction']\n",
    "\n",
    "# Оцифруем тарифы\n",
    "replacing_values(df,['tariff'], 'A', 1)\n",
    "replacing_values(df,['tariff'], 'B', 2)\n",
    "replacing_values(df,['tariff'], 'C', 3)\n",
    "\n",
    "# Оцифруем Входящие/исходящие\n",
    "replacing_values(df,['direct'], 'in', 1)\n",
    "replacing_values(df,['direct'], 'out', 0)\n",
    "\n",
    "# Проверим\n",
    "print('Тарифы: ', df['tariff'].sort_values().unique())\n",
    "print('Вх-ие/Исх-ие: ', df['direct'].sort_values().unique())"
   ]
  },
  {
   "cell_type": "code",
   "execution_count": 46,
   "metadata": {},
   "outputs": [],
   "source": [
    "cm = df.corr()"
   ]
  },
  {
   "cell_type": "code",
   "execution_count": 47,
   "metadata": {
    "scrolled": false
   },
   "outputs": [
    {
     "data": {
      "image/png": "[encoded data removed]",
      "text/plain": [
       "<Figure size 1080x720 with 2 Axes>"
      ]
     },
     "metadata": {
      "needs_background": "light"
     },
     "output_type": "display_data"
    }
   ],
   "source": [
    "#нарисуем тепловую карту с подписями для матрицы корреляций\n",
    "plt.figure(figsize=(15,10))\n",
    "sns.heatmap(cm, annot=True, linewidth=1, square=True, fmt='.2f')\n",
    "plt.title('Матрица корреляций')\n",
    "plt.show()"
   ]
  },
  {
   "cell_type": "markdown",
   "metadata": {},
   "source": [
    "Для оценки тесноты, или силы, корреляционной связи мы будем использовать общепринятые критерии, согласно которым абсолютные значения корреляции < 0.3 свидетельствуют о слабой связи, <br>\n",
    "значения корреляции от 0.3 до 0.7 - о связи средней тесноты, <br>\n",
    "значения корреляции > 0.7 - о сильной связи.\n",
    "\n",
    "Сильная корреляция между столбцами длительности звонков - понятна.\n",
    "Так же понятна и средняя корреляция между количеством звонков `calls_count` и их длительностью `call_duration`, `total_call_duration` - чем больше звонков тем больше и их длительность.\n",
    "Скорее всего этим объясняется и средняя корреляция между длительностью звонков и маркером пропущенности `is_missed_call`, хотя с количестовом звонков данный маркер не коррелирует ни как.\n",
    "Средняя кореляция между id операторов и входящимим/исходящими - не совсем ясна.\n",
    "Посмотрим попарные дигарамм рассеяния для этих признаков:"
   ]
  },
  {
   "cell_type": "code",
   "execution_count": 48,
   "metadata": {
    "scrolled": true
   },
   "outputs": [
    {
     "data": {
      "image/png": "[encoded data removed]",
      "text/plain": [
       "<Figure size 1080x144 with 1 Axes>"
      ]
     },
     "metadata": {
      "needs_background": "light"
     },
     "output_type": "display_data"
    },
    {
     "data": {
      "image/png": "[encoded data removed]",
      "text/plain": [
       "<Figure size 1080x144 with 1 Axes>"
      ]
     },
     "metadata": {
      "needs_background": "light"
     },
     "output_type": "display_data"
    },
    {
     "data": {
      "image/png": "[encoded data removed]",
      "text/plain": [
       "<Figure size 1080x144 with 1 Axes>"
      ]
     },
     "metadata": {
      "needs_background": "light"
     },
     "output_type": "display_data"
    },
    {
     "data": {
      "image/png": "[encoded data removed]",
      "text/plain": [
       "<Figure size 1080x144 with 1 Axes>"
      ]
     },
     "metadata": {
      "needs_background": "light"
     },
     "output_type": "display_data"
    },
    {
     "data": {
      "image/png": "[encoded data removed]",
      "text/plain": [
       "<Figure size 1080x144 with 1 Axes>"
      ]
     },
     "metadata": {
      "needs_background": "light"
     },
     "output_type": "display_data"
    },
    {
     "data": {
      "image/png": "[encoded data removed]",
      "text/plain": [
       "<Figure size 1080x144 with 1 Axes>"
      ]
     },
     "metadata": {
      "needs_background": "light"
     },
     "output_type": "display_data"
    }
   ],
   "source": [
    "# построим попарные диаграммы рассеяния \n",
    "for i in ['direct', 'is_missed_call']:\n",
    "    for col in ['operator_id','call_duration', 'total_call_duration']:\n",
    "        plt.figure(figsize=(15,2))\n",
    "        sns.scatterplot(x=df[col], y=df[i], alpha = 0.2)\n",
    "        plt.show()"
   ]
  },
  {
   "cell_type": "markdown",
   "metadata": {},
   "source": [
    "Анализ попарных дигарамм рассеяния дополнительных корреляций не обнаружил.\n",
    "<br> Удалим вспомогательные столбцы:"
   ]
  },
  {
   "cell_type": "code",
   "execution_count": 49,
   "metadata": {},
   "outputs": [],
   "source": [
    "df = df[['user_id', 'date', 'direction', 'internal', 'operator_id',\n",
    "       'is_missed_call', 'calls_count', 'call_duration', 'total_call_duration',\n",
    "       'tariff_plan', 'date_start']]\n",
    "#df.head()"
   ]
  },
  {
   "cell_type": "markdown",
   "metadata": {},
   "source": [
    "<a id='3-9'></a>\n",
    "\n",
    "<font color='crimson'>\n",
    "\n",
    "### Создадим дополнительные столбцы\n",
    "</font>\n",
    "\n",
    "[К началу раздела](#3)<br>\n",
    "[К соддержанию](#0)"
   ]
  },
  {
   "cell_type": "markdown",
   "metadata": {},
   "source": [
    "Создадим дополнительные столбцы:<br>\n",
    "* общего времени ожидания вызова `wait_time`,\n",
    "* среднего времени ожидания вызова `avg_waittm`,\n",
    "* среднего времени разговора `avg_callt`,\n",
    "* период работы оператора `lvt_oper_id`:"
   ]
  },
  {
   "cell_type": "code",
   "execution_count": 50,
   "metadata": {},
   "outputs": [],
   "source": [
    "df['wait_time'] = df['total_call_duration'] - df['call_duration']\n",
    "# среднего времени разговора avg_call_time\n",
    "df['avg_callt'] = df['call_duration']/df['calls_count']\n",
    "# среднего времени ообщей длительности звонка - avg_total_time:\n",
    "# df['avg_total_time'] = df['total_call_duration']/df['calls_count']\n",
    "df['avg_waittm'] = (df['total_call_duration'] - df['call_duration'])/df['calls_count']\n",
    "\n",
    "df['wait_time'] = df['wait_time'].astype(int)\n",
    "df['avg_waittm'] = df['avg_waittm'].astype(int)"
   ]
  },
  {
   "cell_type": "code",
   "execution_count": 51,
   "metadata": {
    "scrolled": true
   },
   "outputs": [],
   "source": [
    "# Преобразуем типы данных времени для подсчета\n",
    "df['date'] = pd.to_datetime(df['date'],utc=False).dt.date\n",
    "df['date_start'] = pd.to_datetime(df['date_start'],utc=False).dt.date\n",
    "# Создадим столбец \n",
    "df['lvt_oper_id'] = df['date'] - df['date_start']\n",
    "# Вернем тип данных в столбцах даты \n",
    "df['date'] = pd.to_datetime(df['date'])\n",
    "df['date_start'] = pd.to_datetime(df['date_start'])"
   ]
  },
  {
   "cell_type": "code",
   "execution_count": 52,
   "metadata": {},
   "outputs": [],
   "source": [
    "# Преобразуем период в число формата int, так необходимо для дальнейшего анализа\n",
    "df['lvt_oper_id'] = df['lvt_oper_id'].dt.days\n",
    "#df.info()\n",
    "#df.head()"
   ]
  },
  {
   "cell_type": "markdown",
   "metadata": {},
   "source": [
    "<a id='4'></a>\n",
    "\n",
    "<font color='crimson'> \n",
    "<h2 align=\"center\"> Исследовательский анализ данных</h2>\n",
    "</font>\n",
    " "
   ]
  },
  {
   "cell_type": "markdown",
   "metadata": {},
   "source": [
    "<a id='4-1'></a>\n",
    "\n",
    "<font color='crimson'>\n",
    "\n",
    "### Разделим колл-центры по специализации\n",
    "\n",
    "на те, которые специализируются на обзвонах, и те, что специализируются на обработке входящих звонков.<br>\n",
    "</font>\n",
    "\n",
    "[К началу раздела](#4)<br>\n",
    "[К соддержанию](#0)"
   ]
  },
  {
   "cell_type": "markdown",
   "metadata": {},
   "source": [
    "Создадим новый столбец где будет обозначено к какой специализации относится колл-центр"
   ]
  },
  {
   "cell_type": "markdown",
   "metadata": {},
   "source": [
    "Будем считать, что те колл-центры у которых **исходящих внешних** звонков больше, чем внешних входящих - специализируются на обзвонах.\n",
    "И, напротив, те у кого входящих внешних больше - специализируются на обработке входящих звонков.\n",
    "\n",
    "Сгруппируем данные"
   ]
  },
  {
   "cell_type": "code",
   "execution_count": 53,
   "metadata": {},
   "outputs": [
    {
     "data": {
      "text/html": [
       "<div>\n",
       "<style scoped>\n",
       "    .dataframe tbody tr th:only-of-type {\n",
       "        vertical-align: middle;\n",
       "    }\n",
       "\n",
       "    .dataframe tbody tr th {\n",
       "        vertical-align: top;\n",
       "    }\n",
       "\n",
       "    .dataframe thead th {\n",
       "        text-align: right;\n",
       "    }\n",
       "</style>\n",
       "<table border=\"1\" class=\"dataframe\">\n",
       "  <thead>\n",
       "    <tr style=\"text-align: right;\">\n",
       "      <th></th>\n",
       "      <th>user_id</th>\n",
       "      <th>direction</th>\n",
       "      <th>count</th>\n",
       "    </tr>\n",
       "  </thead>\n",
       "  <tbody>\n",
       "    <tr>\n",
       "      <th>0</th>\n",
       "      <td>166377</td>\n",
       "      <td>in</td>\n",
       "      <td>74</td>\n",
       "    </tr>\n",
       "    <tr>\n",
       "      <th>1</th>\n",
       "      <td>166377</td>\n",
       "      <td>out</td>\n",
       "      <td>374</td>\n",
       "    </tr>\n",
       "    <tr>\n",
       "      <th>2</th>\n",
       "      <td>166391</td>\n",
       "      <td>in</td>\n",
       "      <td>4</td>\n",
       "    </tr>\n",
       "    <tr>\n",
       "      <th>3</th>\n",
       "      <td>166392</td>\n",
       "      <td>in</td>\n",
       "      <td>47</td>\n",
       "    </tr>\n",
       "    <tr>\n",
       "      <th>4</th>\n",
       "      <td>166399</td>\n",
       "      <td>in</td>\n",
       "      <td>9</td>\n",
       "    </tr>\n",
       "    <tr>\n",
       "      <th>...</th>\n",
       "      <td>...</td>\n",
       "      <td>...</td>\n",
       "      <td>...</td>\n",
       "    </tr>\n",
       "    <tr>\n",
       "      <th>488</th>\n",
       "      <td>168601</td>\n",
       "      <td>in</td>\n",
       "      <td>16</td>\n",
       "    </tr>\n",
       "    <tr>\n",
       "      <th>489</th>\n",
       "      <td>168601</td>\n",
       "      <td>out</td>\n",
       "      <td>37</td>\n",
       "    </tr>\n",
       "    <tr>\n",
       "      <th>490</th>\n",
       "      <td>168603</td>\n",
       "      <td>out</td>\n",
       "      <td>6</td>\n",
       "    </tr>\n",
       "    <tr>\n",
       "      <th>491</th>\n",
       "      <td>168606</td>\n",
       "      <td>in</td>\n",
       "      <td>2</td>\n",
       "    </tr>\n",
       "    <tr>\n",
       "      <th>492</th>\n",
       "      <td>168606</td>\n",
       "      <td>out</td>\n",
       "      <td>3</td>\n",
       "    </tr>\n",
       "  </tbody>\n",
       "</table>\n",
       "<p>493 rows × 3 columns</p>\n",
       "</div>"
      ],
      "text/plain": [
       "     user_id direction  count\n",
       "0     166377        in     74\n",
       "1     166377       out    374\n",
       "2     166391        in      4\n",
       "3     166392        in     47\n",
       "4     166399        in      9\n",
       "..       ...       ...    ...\n",
       "488   168601        in     16\n",
       "489   168601       out     37\n",
       "490   168603       out      6\n",
       "491   168606        in      2\n",
       "492   168606       out      3\n",
       "\n",
       "[493 rows x 3 columns]"
      ]
     },
     "metadata": {},
     "output_type": "display_data"
    },
    {
     "name": "stdout",
     "output_type": "stream",
     "text": [
      "проверим не пропал ли кто из клиентов, \n",
      " должно быть 290  клиентов, \n",
      " текущих клиентов: 290\n"
     ]
    }
   ],
   "source": [
    "# выберем только внешние звонки\n",
    "user_type = df.loc[df['internal'] == False]\n",
    "# сгруппируем данные по клиентам\n",
    "user_type = user_type.groupby(['user_id','direction'])['operator_id'].agg('count').reset_index()\n",
    "# нам не нужен именно столбец operator_id - для подсчета count, так как пропусков нет - \n",
    "# нужен был любой столбец кроме группируемых, поэтому переименуем в count\n",
    "user_type = user_type.rename(columns={'operator_id':'count'})\n",
    "\n",
    "display(user_type)\n",
    "\n",
    "print(\n",
    "    'проверим не пропал ли кто из клиентов, \\n должно быть', df['user_id'].nunique(),' клиентов, \\n текущих клиентов:',\n",
    "    user_type['user_id'].nunique()\n",
    "     )"
   ]
  },
  {
   "cell_type": "markdown",
   "metadata": {},
   "source": [
    "Теперь разделим колл-центры:"
   ]
  },
  {
   "cell_type": "code",
   "execution_count": 54,
   "metadata": {},
   "outputs": [
    {
     "data": {
      "text/html": [
       "<div>\n",
       "<style scoped>\n",
       "    .dataframe tbody tr th:only-of-type {\n",
       "        vertical-align: middle;\n",
       "    }\n",
       "\n",
       "    .dataframe tbody tr th {\n",
       "        vertical-align: top;\n",
       "    }\n",
       "\n",
       "    .dataframe thead th {\n",
       "        text-align: right;\n",
       "    }\n",
       "</style>\n",
       "<table border=\"1\" class=\"dataframe\">\n",
       "  <thead>\n",
       "    <tr style=\"text-align: right;\">\n",
       "      <th></th>\n",
       "      <th>user_id</th>\n",
       "      <th>in</th>\n",
       "      <th>out</th>\n",
       "    </tr>\n",
       "  </thead>\n",
       "  <tbody>\n",
       "    <tr>\n",
       "      <th>0</th>\n",
       "      <td>166377</td>\n",
       "      <td>74.0</td>\n",
       "      <td>374.0</td>\n",
       "    </tr>\n",
       "    <tr>\n",
       "      <th>1</th>\n",
       "      <td>166391</td>\n",
       "      <td>4.0</td>\n",
       "      <td>NaN</td>\n",
       "    </tr>\n",
       "    <tr>\n",
       "      <th>2</th>\n",
       "      <td>166392</td>\n",
       "      <td>47.0</td>\n",
       "      <td>NaN</td>\n",
       "    </tr>\n",
       "    <tr>\n",
       "      <th>3</th>\n",
       "      <td>166399</td>\n",
       "      <td>9.0</td>\n",
       "      <td>NaN</td>\n",
       "    </tr>\n",
       "    <tr>\n",
       "      <th>4</th>\n",
       "      <td>166405</td>\n",
       "      <td>248.0</td>\n",
       "      <td>579.0</td>\n",
       "    </tr>\n",
       "    <tr>\n",
       "      <th>...</th>\n",
       "      <td>...</td>\n",
       "      <td>...</td>\n",
       "      <td>...</td>\n",
       "    </tr>\n",
       "    <tr>\n",
       "      <th>285</th>\n",
       "      <td>168583</td>\n",
       "      <td>13.0</td>\n",
       "      <td>NaN</td>\n",
       "    </tr>\n",
       "    <tr>\n",
       "      <th>286</th>\n",
       "      <td>168598</td>\n",
       "      <td>9.0</td>\n",
       "      <td>NaN</td>\n",
       "    </tr>\n",
       "    <tr>\n",
       "      <th>287</th>\n",
       "      <td>168601</td>\n",
       "      <td>16.0</td>\n",
       "      <td>37.0</td>\n",
       "    </tr>\n",
       "    <tr>\n",
       "      <th>288</th>\n",
       "      <td>168603</td>\n",
       "      <td>NaN</td>\n",
       "      <td>6.0</td>\n",
       "    </tr>\n",
       "    <tr>\n",
       "      <th>289</th>\n",
       "      <td>168606</td>\n",
       "      <td>2.0</td>\n",
       "      <td>3.0</td>\n",
       "    </tr>\n",
       "  </tbody>\n",
       "</table>\n",
       "<p>290 rows × 3 columns</p>\n",
       "</div>"
      ],
      "text/plain": [
       "     user_id     in    out\n",
       "0     166377   74.0  374.0\n",
       "1     166391    4.0    NaN\n",
       "2     166392   47.0    NaN\n",
       "3     166399    9.0    NaN\n",
       "4     166405  248.0  579.0\n",
       "..       ...    ...    ...\n",
       "285   168583   13.0    NaN\n",
       "286   168598    9.0    NaN\n",
       "287   168601   16.0   37.0\n",
       "288   168603    NaN    6.0\n",
       "289   168606    2.0    3.0\n",
       "\n",
       "[290 rows x 3 columns]"
      ]
     },
     "execution_count": 54,
     "metadata": {},
     "output_type": "execute_result"
    }
   ],
   "source": [
    "user_type = user_type.pivot_table(index='user_id', columns = 'direction').reset_index()\n",
    "user_type = user_type.droplevel(0, axis=1)\n",
    "user_type.columns = ['user_id','in','out']\n",
    "\n",
    "user_type"
   ]
  },
  {
   "cell_type": "code",
   "execution_count": 55,
   "metadata": {},
   "outputs": [],
   "source": [
    "user_type = user_type.fillna(0)\n",
    "user_type['type'] = 0"
   ]
  },
  {
   "cell_type": "code",
   "execution_count": 56,
   "metadata": {
    "scrolled": false
   },
   "outputs": [
    {
     "name": "stderr",
     "output_type": "stream",
     "text": [
      "C:\\ProgramData\\Anaconda3\\lib\\site-packages\\ipykernel_launcher.py:5: SettingWithCopyWarning: \n",
      "A value is trying to be set on a copy of a slice from a DataFrame\n",
      "\n",
      "See the caveats in the documentation: https://pandas.pydata.org/pandas-docs/stable/user_guide/indexing.html#returning-a-view-versus-a-copy\n",
      "  \"\"\"\n",
      "C:\\Users\\Артур Ринатович\\AppData\\Roaming\\Python\\Python37\\site-packages\\pandas\\core\\indexing.py:1732: SettingWithCopyWarning: \n",
      "A value is trying to be set on a copy of a slice from a DataFrame\n",
      "\n",
      "See the caveats in the documentation: https://pandas.pydata.org/pandas-docs/stable/user_guide/indexing.html#returning-a-view-versus-a-copy\n",
      "  self._setitem_single_block(indexer, value, name)\n"
     ]
    },
    {
     "data": {
      "text/html": [
       "<div>\n",
       "<style scoped>\n",
       "    .dataframe tbody tr th:only-of-type {\n",
       "        vertical-align: middle;\n",
       "    }\n",
       "\n",
       "    .dataframe tbody tr th {\n",
       "        vertical-align: top;\n",
       "    }\n",
       "\n",
       "    .dataframe thead th {\n",
       "        text-align: right;\n",
       "    }\n",
       "</style>\n",
       "<table border=\"1\" class=\"dataframe\">\n",
       "  <thead>\n",
       "    <tr style=\"text-align: right;\">\n",
       "      <th></th>\n",
       "      <th>user_id</th>\n",
       "      <th>in</th>\n",
       "      <th>out</th>\n",
       "      <th>type</th>\n",
       "    </tr>\n",
       "  </thead>\n",
       "  <tbody>\n",
       "    <tr>\n",
       "      <th>0</th>\n",
       "      <td>166377</td>\n",
       "      <td>74.0</td>\n",
       "      <td>374.0</td>\n",
       "      <td>обзвон</td>\n",
       "    </tr>\n",
       "    <tr>\n",
       "      <th>1</th>\n",
       "      <td>166391</td>\n",
       "      <td>4.0</td>\n",
       "      <td>0.0</td>\n",
       "      <td>прием</td>\n",
       "    </tr>\n",
       "    <tr>\n",
       "      <th>2</th>\n",
       "      <td>166392</td>\n",
       "      <td>47.0</td>\n",
       "      <td>0.0</td>\n",
       "      <td>прием</td>\n",
       "    </tr>\n",
       "    <tr>\n",
       "      <th>3</th>\n",
       "      <td>166399</td>\n",
       "      <td>9.0</td>\n",
       "      <td>0.0</td>\n",
       "      <td>прием</td>\n",
       "    </tr>\n",
       "    <tr>\n",
       "      <th>4</th>\n",
       "      <td>166405</td>\n",
       "      <td>248.0</td>\n",
       "      <td>579.0</td>\n",
       "      <td>обзвон</td>\n",
       "    </tr>\n",
       "    <tr>\n",
       "      <th>...</th>\n",
       "      <td>...</td>\n",
       "      <td>...</td>\n",
       "      <td>...</td>\n",
       "      <td>...</td>\n",
       "    </tr>\n",
       "    <tr>\n",
       "      <th>285</th>\n",
       "      <td>168583</td>\n",
       "      <td>13.0</td>\n",
       "      <td>0.0</td>\n",
       "      <td>прием</td>\n",
       "    </tr>\n",
       "    <tr>\n",
       "      <th>286</th>\n",
       "      <td>168598</td>\n",
       "      <td>9.0</td>\n",
       "      <td>0.0</td>\n",
       "      <td>прием</td>\n",
       "    </tr>\n",
       "    <tr>\n",
       "      <th>287</th>\n",
       "      <td>168601</td>\n",
       "      <td>16.0</td>\n",
       "      <td>37.0</td>\n",
       "      <td>обзвон</td>\n",
       "    </tr>\n",
       "    <tr>\n",
       "      <th>288</th>\n",
       "      <td>168603</td>\n",
       "      <td>0.0</td>\n",
       "      <td>6.0</td>\n",
       "      <td>обзвон</td>\n",
       "    </tr>\n",
       "    <tr>\n",
       "      <th>289</th>\n",
       "      <td>168606</td>\n",
       "      <td>2.0</td>\n",
       "      <td>3.0</td>\n",
       "      <td>обзвон</td>\n",
       "    </tr>\n",
       "  </tbody>\n",
       "</table>\n",
       "<p>290 rows × 4 columns</p>\n",
       "</div>"
      ],
      "text/plain": [
       "     user_id     in    out    type\n",
       "0     166377   74.0  374.0  обзвон\n",
       "1     166391    4.0    0.0   прием\n",
       "2     166392   47.0    0.0   прием\n",
       "3     166399    9.0    0.0   прием\n",
       "4     166405  248.0  579.0  обзвон\n",
       "..       ...    ...    ...     ...\n",
       "285   168583   13.0    0.0   прием\n",
       "286   168598    9.0    0.0   прием\n",
       "287   168601   16.0   37.0  обзвон\n",
       "288   168603    0.0    6.0  обзвон\n",
       "289   168606    2.0    3.0  обзвон\n",
       "\n",
       "[290 rows x 4 columns]"
      ]
     },
     "execution_count": 56,
     "metadata": {},
     "output_type": "execute_result"
    }
   ],
   "source": [
    "for i in range(0,290):\n",
    "    if user_type['in'][i] > user_type['out'][i]:\n",
    "        user_type['type'][i] = 'прием'\n",
    "    elif user_type['in'][i] < user_type['out'][i]:\n",
    "        user_type['type'][i] = 'обзвон'\n",
    "    else: user_type['type'][i] = 'неопределенный'\n",
    "\n",
    "user_type"
   ]
  },
  {
   "cell_type": "markdown",
   "metadata": {},
   "source": [
    "2 колл-центров по такой методике определить не удалось, посмотрим на них:"
   ]
  },
  {
   "cell_type": "code",
   "execution_count": 57,
   "metadata": {},
   "outputs": [
    {
     "data": {
      "text/html": [
       "<div>\n",
       "<style scoped>\n",
       "    .dataframe tbody tr th:only-of-type {\n",
       "        vertical-align: middle;\n",
       "    }\n",
       "\n",
       "    .dataframe tbody tr th {\n",
       "        vertical-align: top;\n",
       "    }\n",
       "\n",
       "    .dataframe thead th {\n",
       "        text-align: right;\n",
       "    }\n",
       "</style>\n",
       "<table border=\"1\" class=\"dataframe\">\n",
       "  <thead>\n",
       "    <tr style=\"text-align: right;\">\n",
       "      <th></th>\n",
       "      <th>user_id</th>\n",
       "      <th>in</th>\n",
       "      <th>out</th>\n",
       "      <th>type</th>\n",
       "    </tr>\n",
       "  </thead>\n",
       "  <tbody>\n",
       "    <tr>\n",
       "      <th>104</th>\n",
       "      <td>167113</td>\n",
       "      <td>1.0</td>\n",
       "      <td>1.0</td>\n",
       "      <td>неопределенный</td>\n",
       "    </tr>\n",
       "    <tr>\n",
       "      <th>168</th>\n",
       "      <td>167599</td>\n",
       "      <td>1.0</td>\n",
       "      <td>1.0</td>\n",
       "      <td>неопределенный</td>\n",
       "    </tr>\n",
       "  </tbody>\n",
       "</table>\n",
       "</div>"
      ],
      "text/plain": [
       "     user_id   in  out            type\n",
       "104   167113  1.0  1.0  неопределенный\n",
       "168   167599  1.0  1.0  неопределенный"
      ]
     },
     "execution_count": 57,
     "metadata": {},
     "output_type": "execute_result"
    }
   ],
   "source": [
    "user_type.loc[user_type['type'] == 'неопределенный']"
   ]
  },
  {
   "cell_type": "code",
   "execution_count": 58,
   "metadata": {},
   "outputs": [
    {
     "data": {
      "text/html": [
       "<div>\n",
       "<style scoped>\n",
       "    .dataframe tbody tr th:only-of-type {\n",
       "        vertical-align: middle;\n",
       "    }\n",
       "\n",
       "    .dataframe tbody tr th {\n",
       "        vertical-align: top;\n",
       "    }\n",
       "\n",
       "    .dataframe thead th {\n",
       "        text-align: right;\n",
       "    }\n",
       "</style>\n",
       "<table border=\"1\" class=\"dataframe\">\n",
       "  <thead>\n",
       "    <tr style=\"text-align: right;\">\n",
       "      <th></th>\n",
       "      <th>type</th>\n",
       "      <th>user_id</th>\n",
       "    </tr>\n",
       "  </thead>\n",
       "  <tbody>\n",
       "    <tr>\n",
       "      <th>1</th>\n",
       "      <td>обзвон</td>\n",
       "      <td>164</td>\n",
       "    </tr>\n",
       "    <tr>\n",
       "      <th>2</th>\n",
       "      <td>прием</td>\n",
       "      <td>124</td>\n",
       "    </tr>\n",
       "    <tr>\n",
       "      <th>0</th>\n",
       "      <td>неопределенный</td>\n",
       "      <td>2</td>\n",
       "    </tr>\n",
       "  </tbody>\n",
       "</table>\n",
       "</div>"
      ],
      "text/plain": [
       "             type  user_id\n",
       "1          обзвон      164\n",
       "2           прием      124\n",
       "0  неопределенный        2"
      ]
     },
     "execution_count": 58,
     "metadata": {},
     "output_type": "execute_result"
    }
   ],
   "source": [
    "#user_type_graf = user_type[['тип_звонка', 'сумма_звонков']]\n",
    "user_type_graf = user_type.groupby('type')['user_id'].count().reset_index()\n",
    "user_type_graf = user_type_graf.sort_values(by='user_id', ascending=False)\n",
    "user_type_graf\n",
    "#call_type_group['процент, %'] = round((call_type_group['сумма_звонков']/call_type_group['сумма_звонков'].sum()),3)*100\n",
    "#display(call_type_group)"
   ]
  },
  {
   "cell_type": "markdown",
   "metadata": {},
   "source": [
    "Визуализируем данные:"
   ]
  },
  {
   "cell_type": "code",
   "execution_count": 59,
   "metadata": {},
   "outputs": [
    {
     "data": {
      "image/png": "[encoded data removed]",
      "text/plain": [
       "<Figure size 1080x216 with 1 Axes>"
      ]
     },
     "metadata": {
      "needs_background": "light"
     },
     "output_type": "display_data"
    }
   ],
   "source": [
    "plt.figure(figsize=(15,3))\n",
    "sns.barplot(data=user_type_graf, y='type', x=\"user_id\",palette=sns.color_palette(\"BuGn_r\", n_colors=len(user_type_graf)))\n",
    "plt.title('Распеределение по специализации колл-центров')\n",
    "plt.xlabel('количество колл-центров')\n",
    "plt.ylabel('специализация')\n",
    "plt.show()"
   ]
  },
  {
   "cell_type": "markdown",
   "metadata": {},
   "source": [
    "Объединим датафрейм с основным"
   ]
  },
  {
   "cell_type": "code",
   "execution_count": 60,
   "metadata": {},
   "outputs": [],
   "source": [
    "user_type = user_type[['user_id', 'type']]"
   ]
  },
  {
   "cell_type": "code",
   "execution_count": 61,
   "metadata": {
    "scrolled": true
   },
   "outputs": [
    {
     "data": {
      "text/html": [
       "<div>\n",
       "<style scoped>\n",
       "    .dataframe tbody tr th:only-of-type {\n",
       "        vertical-align: middle;\n",
       "    }\n",
       "\n",
       "    .dataframe tbody tr th {\n",
       "        vertical-align: top;\n",
       "    }\n",
       "\n",
       "    .dataframe thead th {\n",
       "        text-align: right;\n",
       "    }\n",
       "</style>\n",
       "<table border=\"1\" class=\"dataframe\">\n",
       "  <thead>\n",
       "    <tr style=\"text-align: right;\">\n",
       "      <th></th>\n",
       "      <th>user_id</th>\n",
       "      <th>date</th>\n",
       "      <th>direction</th>\n",
       "      <th>internal</th>\n",
       "      <th>operator_id</th>\n",
       "      <th>is_missed_call</th>\n",
       "      <th>calls_count</th>\n",
       "      <th>call_duration</th>\n",
       "      <th>total_call_duration</th>\n",
       "      <th>tariff_plan</th>\n",
       "      <th>date_start</th>\n",
       "      <th>wait_time</th>\n",
       "      <th>avg_callt</th>\n",
       "      <th>avg_waittm</th>\n",
       "      <th>lvt_oper_id</th>\n",
       "      <th>type</th>\n",
       "    </tr>\n",
       "  </thead>\n",
       "  <tbody>\n",
       "    <tr>\n",
       "      <th>0</th>\n",
       "      <td>166377</td>\n",
       "      <td>2019-08-05</td>\n",
       "      <td>out</td>\n",
       "      <td>True</td>\n",
       "      <td>880022</td>\n",
       "      <td>True</td>\n",
       "      <td>3</td>\n",
       "      <td>0</td>\n",
       "      <td>5</td>\n",
       "      <td>B</td>\n",
       "      <td>2019-08-01</td>\n",
       "      <td>5</td>\n",
       "      <td>0.0</td>\n",
       "      <td>1</td>\n",
       "      <td>4</td>\n",
       "      <td>обзвон</td>\n",
       "    </tr>\n",
       "    <tr>\n",
       "      <th>1</th>\n",
       "      <td>166377</td>\n",
       "      <td>2019-08-05</td>\n",
       "      <td>out</td>\n",
       "      <td>True</td>\n",
       "      <td>880020</td>\n",
       "      <td>True</td>\n",
       "      <td>1</td>\n",
       "      <td>0</td>\n",
       "      <td>1</td>\n",
       "      <td>B</td>\n",
       "      <td>2019-08-01</td>\n",
       "      <td>1</td>\n",
       "      <td>0.0</td>\n",
       "      <td>1</td>\n",
       "      <td>4</td>\n",
       "      <td>обзвон</td>\n",
       "    </tr>\n",
       "    <tr>\n",
       "      <th>2</th>\n",
       "      <td>166377</td>\n",
       "      <td>2019-08-05</td>\n",
       "      <td>out</td>\n",
       "      <td>True</td>\n",
       "      <td>880020</td>\n",
       "      <td>False</td>\n",
       "      <td>1</td>\n",
       "      <td>10</td>\n",
       "      <td>18</td>\n",
       "      <td>B</td>\n",
       "      <td>2019-08-01</td>\n",
       "      <td>8</td>\n",
       "      <td>10.0</td>\n",
       "      <td>8</td>\n",
       "      <td>4</td>\n",
       "      <td>обзвон</td>\n",
       "    </tr>\n",
       "    <tr>\n",
       "      <th>3</th>\n",
       "      <td>166377</td>\n",
       "      <td>2019-08-05</td>\n",
       "      <td>out</td>\n",
       "      <td>False</td>\n",
       "      <td>880022</td>\n",
       "      <td>True</td>\n",
       "      <td>3</td>\n",
       "      <td>0</td>\n",
       "      <td>25</td>\n",
       "      <td>B</td>\n",
       "      <td>2019-08-01</td>\n",
       "      <td>25</td>\n",
       "      <td>0.0</td>\n",
       "      <td>8</td>\n",
       "      <td>4</td>\n",
       "      <td>обзвон</td>\n",
       "    </tr>\n",
       "    <tr>\n",
       "      <th>4</th>\n",
       "      <td>166377</td>\n",
       "      <td>2019-08-05</td>\n",
       "      <td>out</td>\n",
       "      <td>False</td>\n",
       "      <td>880020</td>\n",
       "      <td>False</td>\n",
       "      <td>2</td>\n",
       "      <td>3</td>\n",
       "      <td>29</td>\n",
       "      <td>B</td>\n",
       "      <td>2019-08-01</td>\n",
       "      <td>26</td>\n",
       "      <td>1.5</td>\n",
       "      <td>13</td>\n",
       "      <td>4</td>\n",
       "      <td>обзвон</td>\n",
       "    </tr>\n",
       "  </tbody>\n",
       "</table>\n",
       "</div>"
      ],
      "text/plain": [
       "   user_id       date direction  internal  operator_id  is_missed_call  \\\n",
       "0   166377 2019-08-05       out      True       880022            True   \n",
       "1   166377 2019-08-05       out      True       880020            True   \n",
       "2   166377 2019-08-05       out      True       880020           False   \n",
       "3   166377 2019-08-05       out     False       880022            True   \n",
       "4   166377 2019-08-05       out     False       880020           False   \n",
       "\n",
       "   calls_count  call_duration  total_call_duration tariff_plan date_start  \\\n",
       "0            3              0                    5           B 2019-08-01   \n",
       "1            1              0                    1           B 2019-08-01   \n",
       "2            1             10                   18           B 2019-08-01   \n",
       "3            3              0                   25           B 2019-08-01   \n",
       "4            2              3                   29           B 2019-08-01   \n",
       "\n",
       "   wait_time  avg_callt  avg_waittm  lvt_oper_id    type  \n",
       "0          5        0.0           1            4  обзвон  \n",
       "1          1        0.0           1            4  обзвон  \n",
       "2          8       10.0           8            4  обзвон  \n",
       "3         25        0.0           8            4  обзвон  \n",
       "4         26        1.5          13            4  обзвон  "
      ]
     },
     "execution_count": 61,
     "metadata": {},
     "output_type": "execute_result"
    }
   ],
   "source": [
    "df2 = df.merge(user_type, on='user_id', how='left')\n",
    "df2.head()"
   ]
  },
  {
   "cell_type": "markdown",
   "metadata": {},
   "source": [
    "**Соберем колл-центры, которые специализируются на обработке входящих звонков<br>\n",
    "и тех, которые специализируются на обзвоне**"
   ]
  },
  {
   "cell_type": "code",
   "execution_count": 62,
   "metadata": {},
   "outputs": [],
   "source": [
    "# Соберем колл-центры, которые специализируются на обработке входящих звонков\n",
    "df_in = df2.loc[df2['type'] == 'прием']\n",
    "# Соберем колл-центры, которые специализируются на обзвоне\n",
    "df_out = df2.loc[df2['type'] == 'обзвон']"
   ]
  },
  {
   "cell_type": "code",
   "execution_count": 63,
   "metadata": {},
   "outputs": [
    {
     "name": "stdout",
     "output_type": "stream",
     "text": [
      "Уникальных клиентов в колл-центрах,\n",
      " которые специализируются на обработке входящих звонков:  124 \n",
      "\n",
      "<class 'pandas.core.frame.DataFrame'>\n",
      "Int64Index: 6361 entries, 482 to 40788\n",
      "Data columns (total 16 columns):\n",
      " #   Column               Non-Null Count  Dtype         \n",
      "---  ------               --------------  -----         \n",
      " 0   user_id              6361 non-null   int64         \n",
      " 1   date                 6361 non-null   datetime64[ns]\n",
      " 2   direction            6361 non-null   object        \n",
      " 3   internal             6361 non-null   bool          \n",
      " 4   operator_id          6361 non-null   int32         \n",
      " 5   is_missed_call       6361 non-null   bool          \n",
      " 6   calls_count          6361 non-null   int64         \n",
      " 7   call_duration        6361 non-null   int64         \n",
      " 8   total_call_duration  6361 non-null   int64         \n",
      " 9   tariff_plan          6361 non-null   object        \n",
      " 10  date_start           6361 non-null   datetime64[ns]\n",
      " 11  wait_time            6361 non-null   int32         \n",
      " 12  avg_callt            6361 non-null   float64       \n",
      " 13  avg_waittm           6361 non-null   int32         \n",
      " 14  lvt_oper_id          6361 non-null   int64         \n",
      " 15  type                 6361 non-null   object        \n",
      "dtypes: bool(2), datetime64[ns](2), float64(1), int32(3), int64(5), object(3)\n",
      "memory usage: 683.3+ KB\n",
      "None\n"
     ]
    }
   ],
   "source": [
    "print('Уникальных клиентов в колл-центрах,\\n которые специализируются на обработке входящих звонков: ',df_in['user_id'].nunique(),'\\n')\n",
    "print(df_in.info())"
   ]
  },
  {
   "cell_type": "code",
   "execution_count": 64,
   "metadata": {},
   "outputs": [
    {
     "name": "stdout",
     "output_type": "stream",
     "text": [
      "Уникальных клиентов в колл-центрах, \n",
      " которые специализируются на обзвоне:  164 \n",
      "\n",
      "<class 'pandas.core.frame.DataFrame'>\n",
      "Int64Index: 34493 entries, 0 to 40857\n",
      "Data columns (total 16 columns):\n",
      " #   Column               Non-Null Count  Dtype         \n",
      "---  ------               --------------  -----         \n",
      " 0   user_id              34493 non-null  int64         \n",
      " 1   date                 34493 non-null  datetime64[ns]\n",
      " 2   direction            34493 non-null  object        \n",
      " 3   internal             34493 non-null  bool          \n",
      " 4   operator_id          34493 non-null  int32         \n",
      " 5   is_missed_call       34493 non-null  bool          \n",
      " 6   calls_count          34493 non-null  int64         \n",
      " 7   call_duration        34493 non-null  int64         \n",
      " 8   total_call_duration  34493 non-null  int64         \n",
      " 9   tariff_plan          34493 non-null  object        \n",
      " 10  date_start           34493 non-null  datetime64[ns]\n",
      " 11  wait_time            34493 non-null  int32         \n",
      " 12  avg_callt            34493 non-null  float64       \n",
      " 13  avg_waittm           34493 non-null  int32         \n",
      " 14  lvt_oper_id          34493 non-null  int64         \n",
      " 15  type                 34493 non-null  object        \n",
      "dtypes: bool(2), datetime64[ns](2), float64(1), int32(3), int64(5), object(3)\n",
      "memory usage: 3.6+ MB\n",
      "None\n"
     ]
    }
   ],
   "source": [
    "print('Уникальных клиентов в колл-центрах, \\n которые специализируются на обзвоне: ',df_out['user_id'].nunique(),'\\n')\n",
    "print(df_out.info())"
   ]
  },
  {
   "cell_type": "markdown",
   "metadata": {},
   "source": [
    "<a id='4-2'></a>\n",
    "\n",
    "<font color='crimson'>\n",
    "\n",
    "### Проверим связь специализации с тарифным планом\n",
    "</font>\n",
    "\n",
    "[К началу раздела](#4)<br>\n",
    "[К соддержанию](#0)"
   ]
  },
  {
   "cell_type": "code",
   "execution_count": 65,
   "metadata": {
    "scrolled": true
   },
   "outputs": [
    {
     "data": {
      "text/html": [
       "<div>\n",
       "<style scoped>\n",
       "    .dataframe tbody tr th:only-of-type {\n",
       "        vertical-align: middle;\n",
       "    }\n",
       "\n",
       "    .dataframe tbody tr th {\n",
       "        vertical-align: top;\n",
       "    }\n",
       "\n",
       "    .dataframe thead th {\n",
       "        text-align: right;\n",
       "    }\n",
       "</style>\n",
       "<table border=\"1\" class=\"dataframe\">\n",
       "  <thead>\n",
       "    <tr style=\"text-align: right;\">\n",
       "      <th>tariff_plan</th>\n",
       "      <th>A</th>\n",
       "      <th>B</th>\n",
       "      <th>C</th>\n",
       "    </tr>\n",
       "    <tr>\n",
       "      <th>type</th>\n",
       "      <th></th>\n",
       "      <th></th>\n",
       "      <th></th>\n",
       "    </tr>\n",
       "  </thead>\n",
       "  <tbody>\n",
       "    <tr>\n",
       "      <th>неопределенный</th>\n",
       "      <td>0.0</td>\n",
       "      <td>0.0</td>\n",
       "      <td>4.0</td>\n",
       "    </tr>\n",
       "    <tr>\n",
       "      <th>обзвон</th>\n",
       "      <td>10374.0</td>\n",
       "      <td>11860.0</td>\n",
       "      <td>12259.0</td>\n",
       "    </tr>\n",
       "    <tr>\n",
       "      <th>прием</th>\n",
       "      <td>1309.0</td>\n",
       "      <td>2582.0</td>\n",
       "      <td>2470.0</td>\n",
       "    </tr>\n",
       "  </tbody>\n",
       "</table>\n",
       "</div>"
      ],
      "text/plain": [
       "tariff_plan           A        B        C\n",
       "type                                     \n",
       "неопределенный      0.0      0.0      4.0\n",
       "обзвон          10374.0  11860.0  12259.0\n",
       "прием            1309.0   2582.0   2470.0"
      ]
     },
     "execution_count": 65,
     "metadata": {},
     "output_type": "execute_result"
    }
   ],
   "source": [
    "# Количество звонков на разных тарифах у разных клиентов\n",
    "tariff_associated = df2.pivot_table(\n",
    "    index='type', columns=('tariff_plan'), values='user_id', aggfunc='count').fillna(0)\n",
    "tariff_associated"
   ]
  },
  {
   "cell_type": "code",
   "execution_count": 66,
   "metadata": {
    "scrolled": true
   },
   "outputs": [
    {
     "data": {
      "text/html": [
       "<div>\n",
       "<style scoped>\n",
       "    .dataframe tbody tr th:only-of-type {\n",
       "        vertical-align: middle;\n",
       "    }\n",
       "\n",
       "    .dataframe tbody tr th {\n",
       "        vertical-align: top;\n",
       "    }\n",
       "\n",
       "    .dataframe thead th {\n",
       "        text-align: right;\n",
       "    }\n",
       "</style>\n",
       "<table border=\"1\" class=\"dataframe\">\n",
       "  <thead>\n",
       "    <tr style=\"text-align: right;\">\n",
       "      <th></th>\n",
       "      <th>type</th>\n",
       "      <th>tariff_plan</th>\n",
       "      <th>user_id</th>\n",
       "      <th>процент</th>\n",
       "    </tr>\n",
       "  </thead>\n",
       "  <tbody>\n",
       "    <tr>\n",
       "      <th>0</th>\n",
       "      <td>неопределенный</td>\n",
       "      <td>C</td>\n",
       "      <td>2</td>\n",
       "      <td>0.7</td>\n",
       "    </tr>\n",
       "    <tr>\n",
       "      <th>1</th>\n",
       "      <td>обзвон</td>\n",
       "      <td>A</td>\n",
       "      <td>22</td>\n",
       "      <td>7.6</td>\n",
       "    </tr>\n",
       "    <tr>\n",
       "      <th>2</th>\n",
       "      <td>обзвон</td>\n",
       "      <td>B</td>\n",
       "      <td>72</td>\n",
       "      <td>24.8</td>\n",
       "    </tr>\n",
       "    <tr>\n",
       "      <th>3</th>\n",
       "      <td>обзвон</td>\n",
       "      <td>C</td>\n",
       "      <td>70</td>\n",
       "      <td>24.1</td>\n",
       "    </tr>\n",
       "    <tr>\n",
       "      <th>4</th>\n",
       "      <td>прием</td>\n",
       "      <td>A</td>\n",
       "      <td>10</td>\n",
       "      <td>3.4</td>\n",
       "    </tr>\n",
       "    <tr>\n",
       "      <th>5</th>\n",
       "      <td>прием</td>\n",
       "      <td>B</td>\n",
       "      <td>29</td>\n",
       "      <td>10.0</td>\n",
       "    </tr>\n",
       "    <tr>\n",
       "      <th>6</th>\n",
       "      <td>прием</td>\n",
       "      <td>C</td>\n",
       "      <td>85</td>\n",
       "      <td>29.3</td>\n",
       "    </tr>\n",
       "  </tbody>\n",
       "</table>\n",
       "</div>"
      ],
      "text/plain": [
       "             type tariff_plan  user_id  процент\n",
       "0  неопределенный           C        2      0.7\n",
       "1          обзвон           A       22      7.6\n",
       "2          обзвон           B       72     24.8\n",
       "3          обзвон           C       70     24.1\n",
       "4           прием           A       10      3.4\n",
       "5           прием           B       29     10.0\n",
       "6           прием           C       85     29.3"
      ]
     },
     "execution_count": 66,
     "metadata": {},
     "output_type": "execute_result"
    }
   ],
   "source": [
    "tariff_associated = df2.groupby(['type','tariff_plan'])['user_id'].nunique().reset_index()\n",
    "tariff_associated['процент'] = round((tariff_associated['user_id']/tariff_associated['user_id'].sum()),3)*100\n",
    "#tariff_associated['процент_от_типа'] = round((tariff_associated['user_id']/(delit)),3)*100\n",
    "tariff_associated"
   ]
  },
  {
   "cell_type": "code",
   "execution_count": 67,
   "metadata": {},
   "outputs": [
    {
     "data": {
      "text/html": [
       "<div>\n",
       "<style scoped>\n",
       "    .dataframe tbody tr th:only-of-type {\n",
       "        vertical-align: middle;\n",
       "    }\n",
       "\n",
       "    .dataframe tbody tr th {\n",
       "        vertical-align: top;\n",
       "    }\n",
       "\n",
       "    .dataframe thead th {\n",
       "        text-align: right;\n",
       "    }\n",
       "</style>\n",
       "<table border=\"1\" class=\"dataframe\">\n",
       "  <thead>\n",
       "    <tr style=\"text-align: right;\">\n",
       "      <th></th>\n",
       "      <th>type</th>\n",
       "      <th>tariff_plan</th>\n",
       "      <th>user_id</th>\n",
       "      <th>процент</th>\n",
       "    </tr>\n",
       "  </thead>\n",
       "  <tbody>\n",
       "    <tr>\n",
       "      <th>0</th>\n",
       "      <td>прием</td>\n",
       "      <td>A</td>\n",
       "      <td>10</td>\n",
       "      <td>8.1</td>\n",
       "    </tr>\n",
       "    <tr>\n",
       "      <th>1</th>\n",
       "      <td>прием</td>\n",
       "      <td>B</td>\n",
       "      <td>29</td>\n",
       "      <td>23.4</td>\n",
       "    </tr>\n",
       "    <tr>\n",
       "      <th>2</th>\n",
       "      <td>прием</td>\n",
       "      <td>C</td>\n",
       "      <td>85</td>\n",
       "      <td>68.5</td>\n",
       "    </tr>\n",
       "  </tbody>\n",
       "</table>\n",
       "</div>"
      ],
      "text/plain": [
       "    type tariff_plan  user_id  процент\n",
       "0  прием           A       10      8.1\n",
       "1  прием           B       29     23.4\n",
       "2  прием           C       85     68.5"
      ]
     },
     "execution_count": 67,
     "metadata": {},
     "output_type": "execute_result"
    }
   ],
   "source": [
    "tariff_associated = df_in.groupby(['type','tariff_plan'])['user_id'].nunique().reset_index()\n",
    "tariff_associated['процент'] = round((tariff_associated['user_id']/tariff_associated['user_id'].sum()),3)*100\n",
    "#tariff_associated['процент_от_типа'] = round((tariff_associated['user_id']/(delit)),3)*100\n",
    "tariff_associated"
   ]
  },
  {
   "cell_type": "code",
   "execution_count": 68,
   "metadata": {},
   "outputs": [
    {
     "data": {
      "text/html": [
       "<div>\n",
       "<style scoped>\n",
       "    .dataframe tbody tr th:only-of-type {\n",
       "        vertical-align: middle;\n",
       "    }\n",
       "\n",
       "    .dataframe tbody tr th {\n",
       "        vertical-align: top;\n",
       "    }\n",
       "\n",
       "    .dataframe thead th {\n",
       "        text-align: right;\n",
       "    }\n",
       "</style>\n",
       "<table border=\"1\" class=\"dataframe\">\n",
       "  <thead>\n",
       "    <tr style=\"text-align: right;\">\n",
       "      <th></th>\n",
       "      <th>type</th>\n",
       "      <th>tariff_plan</th>\n",
       "      <th>user_id</th>\n",
       "      <th>процент</th>\n",
       "    </tr>\n",
       "  </thead>\n",
       "  <tbody>\n",
       "    <tr>\n",
       "      <th>0</th>\n",
       "      <td>обзвон</td>\n",
       "      <td>A</td>\n",
       "      <td>22</td>\n",
       "      <td>13.4</td>\n",
       "    </tr>\n",
       "    <tr>\n",
       "      <th>1</th>\n",
       "      <td>обзвон</td>\n",
       "      <td>B</td>\n",
       "      <td>72</td>\n",
       "      <td>43.9</td>\n",
       "    </tr>\n",
       "    <tr>\n",
       "      <th>2</th>\n",
       "      <td>обзвон</td>\n",
       "      <td>C</td>\n",
       "      <td>70</td>\n",
       "      <td>42.7</td>\n",
       "    </tr>\n",
       "  </tbody>\n",
       "</table>\n",
       "</div>"
      ],
      "text/plain": [
       "     type tariff_plan  user_id  процент\n",
       "0  обзвон           A       22     13.4\n",
       "1  обзвон           B       72     43.9\n",
       "2  обзвон           C       70     42.7"
      ]
     },
     "execution_count": 68,
     "metadata": {},
     "output_type": "execute_result"
    }
   ],
   "source": [
    "tariff_associated = df_out.groupby(['type','tariff_plan'])['user_id'].nunique().reset_index()\n",
    "tariff_associated['процент'] = round((tariff_associated['user_id']/tariff_associated['user_id'].sum()),3)*100\n",
    "#tariff_associated['процент_от_типа'] = round((tariff_associated['user_id']/(delit)),3)*100\n",
    "tariff_associated"
   ]
  },
  {
   "cell_type": "markdown",
   "metadata": {},
   "source": [
    "\n",
    "Наиболее предпочтительным тарифом у колл-центров специализирующихся на приеме звонков является тариф `С`.\n",
    "Но, по большому счету, связи между тарифным планом и специализацией колл_центров не обнаружена - и у обзванивающих и у принимающих звонки - тарифы распределены по разным категориям, без сильных перекосов."
   ]
  },
  {
   "cell_type": "markdown",
   "metadata": {},
   "source": [
    "<a id='4-3'></a>\n",
    "\n",
    "<font color='crimson'>\n",
    "\n",
    "### Оперелим границы эффективности операторов в колл-центрах,<br>которые **специализируются на обработке входящих звонков**\n",
    "</font>\n",
    "\n",
    "[К началу раздела](#4)<br>\n",
    "[К соддержанию](#0)"
   ]
  },
  {
   "cell_type": "markdown",
   "metadata": {},
   "source": [
    "<a id='4-3-1'></a>\n",
    "\n",
    "<font color='crimson'>\n",
    "\n",
    "#### по пропущенным внешним вызовам\n",
    "</font>\n"
   ]
  },
  {
   "cell_type": "markdown",
   "metadata": {},
   "source": [
    "Для начала отфильтруем только внешние входящие пропущенные:"
   ]
  },
  {
   "cell_type": "code",
   "execution_count": 69,
   "metadata": {},
   "outputs": [],
   "source": [
    "missed_call = df_in.loc[(df_in['direction']=='in')&(df_in['internal']==False)&(df_in['is_missed_call']==True)]"
   ]
  },
  {
   "cell_type": "markdown",
   "metadata": {},
   "source": [
    "Тепереь посмортим как часто операторы пропускали звонки в разрезе за каждый день:"
   ]
  },
  {
   "cell_type": "code",
   "execution_count": 70,
   "metadata": {},
   "outputs": [
    {
     "data": {
      "text/html": [
       "<div>\n",
       "<style scoped>\n",
       "    .dataframe tbody tr th:only-of-type {\n",
       "        vertical-align: middle;\n",
       "    }\n",
       "\n",
       "    .dataframe tbody tr th {\n",
       "        vertical-align: top;\n",
       "    }\n",
       "\n",
       "    .dataframe thead th {\n",
       "        text-align: right;\n",
       "    }\n",
       "</style>\n",
       "<table border=\"1\" class=\"dataframe\">\n",
       "  <thead>\n",
       "    <tr style=\"text-align: right;\">\n",
       "      <th></th>\n",
       "      <th>user_id</th>\n",
       "      <th>operator_id</th>\n",
       "      <th>lvt_oper_id</th>\n",
       "      <th>count_missed</th>\n",
       "    </tr>\n",
       "  </thead>\n",
       "  <tbody>\n",
       "    <tr>\n",
       "      <th>97</th>\n",
       "      <td>167200</td>\n",
       "      <td>905862</td>\n",
       "      <td>28</td>\n",
       "      <td>13</td>\n",
       "    </tr>\n",
       "    <tr>\n",
       "      <th>161</th>\n",
       "      <td>167977</td>\n",
       "      <td>944226</td>\n",
       "      <td>31</td>\n",
       "      <td>8</td>\n",
       "    </tr>\n",
       "    <tr>\n",
       "      <th>157</th>\n",
       "      <td>167977</td>\n",
       "      <td>944226</td>\n",
       "      <td>16</td>\n",
       "      <td>4</td>\n",
       "    </tr>\n",
       "    <tr>\n",
       "      <th>160</th>\n",
       "      <td>167977</td>\n",
       "      <td>944226</td>\n",
       "      <td>22</td>\n",
       "      <td>4</td>\n",
       "    </tr>\n",
       "    <tr>\n",
       "      <th>30</th>\n",
       "      <td>166582</td>\n",
       "      <td>885890</td>\n",
       "      <td>38</td>\n",
       "      <td>3</td>\n",
       "    </tr>\n",
       "    <tr>\n",
       "      <th>...</th>\n",
       "      <td>...</td>\n",
       "      <td>...</td>\n",
       "      <td>...</td>\n",
       "      <td>...</td>\n",
       "    </tr>\n",
       "    <tr>\n",
       "      <th>64</th>\n",
       "      <td>167059</td>\n",
       "      <td>911142</td>\n",
       "      <td>22</td>\n",
       "      <td>1</td>\n",
       "    </tr>\n",
       "    <tr>\n",
       "      <th>65</th>\n",
       "      <td>167071</td>\n",
       "      <td>913938</td>\n",
       "      <td>48</td>\n",
       "      <td>1</td>\n",
       "    </tr>\n",
       "    <tr>\n",
       "      <th>66</th>\n",
       "      <td>167071</td>\n",
       "      <td>913938</td>\n",
       "      <td>50</td>\n",
       "      <td>1</td>\n",
       "    </tr>\n",
       "    <tr>\n",
       "      <th>67</th>\n",
       "      <td>167071</td>\n",
       "      <td>913938</td>\n",
       "      <td>56</td>\n",
       "      <td>1</td>\n",
       "    </tr>\n",
       "    <tr>\n",
       "      <th>173</th>\n",
       "      <td>168307</td>\n",
       "      <td>945046</td>\n",
       "      <td>9</td>\n",
       "      <td>1</td>\n",
       "    </tr>\n",
       "  </tbody>\n",
       "</table>\n",
       "<p>174 rows × 4 columns</p>\n",
       "</div>"
      ],
      "text/plain": [
       "     user_id  operator_id  lvt_oper_id  count_missed\n",
       "97    167200       905862           28            13\n",
       "161   167977       944226           31             8\n",
       "157   167977       944226           16             4\n",
       "160   167977       944226           22             4\n",
       "30    166582       885890           38             3\n",
       "..       ...          ...          ...           ...\n",
       "64    167059       911142           22             1\n",
       "65    167071       913938           48             1\n",
       "66    167071       913938           50             1\n",
       "67    167071       913938           56             1\n",
       "173   168307       945046            9             1\n",
       "\n",
       "[174 rows x 4 columns]"
      ]
     },
     "execution_count": 70,
     "metadata": {},
     "output_type": "execute_result"
    }
   ],
   "source": [
    "missed_call = missed_call.groupby(['user_id','operator_id', 'lvt_oper_id'])['calls_count'].sum().reset_index()\n",
    "# Переименуем целевой столбец чтобы отличать его от одноименного\n",
    "missed_call = missed_call.rename(columns={'calls_count':'count_missed'})\n",
    "# Отсортируем по убыванию пропущеных звонков\n",
    "missed_call = missed_call.sort_values(by='count_missed', ascending=False)\n",
    "missed_call"
   ]
  },
  {
   "cell_type": "markdown",
   "metadata": {},
   "source": [
    "Наибольшее количество пропущенных внешних звонков - 13.\n",
    "и далеее стрмительно уменьшается.\n",
    "Напомню, что это в тех колл-центрах, которые специализируются на обработке входящих звонков.\n",
    "Теперь определим 95 и 99 процентиль:"
   ]
  },
  {
   "cell_type": "code",
   "execution_count": 71,
   "metadata": {},
   "outputs": [
    {
     "data": {
      "text/plain": [
       "0.95    3.00\n",
       "0.99    5.08\n",
       "Name: count_missed, dtype: float64"
      ]
     },
     "execution_count": 71,
     "metadata": {},
     "output_type": "execute_result"
    }
   ],
   "source": [
    "missed_call['count_missed'].quantile([0.95,0.99])"
   ]
  },
  {
   "cell_type": "code",
   "execution_count": 72,
   "metadata": {},
   "outputs": [
    {
     "data": {
      "text/html": [
       "<div>\n",
       "<style scoped>\n",
       "    .dataframe tbody tr th:only-of-type {\n",
       "        vertical-align: middle;\n",
       "    }\n",
       "\n",
       "    .dataframe tbody tr th {\n",
       "        vertical-align: top;\n",
       "    }\n",
       "\n",
       "    .dataframe thead th {\n",
       "        text-align: right;\n",
       "    }\n",
       "</style>\n",
       "<table border=\"1\" class=\"dataframe\">\n",
       "  <thead>\n",
       "    <tr style=\"text-align: right;\">\n",
       "      <th></th>\n",
       "      <th>user_id</th>\n",
       "      <th>date</th>\n",
       "      <th>direction</th>\n",
       "      <th>internal</th>\n",
       "      <th>operator_id</th>\n",
       "      <th>is_missed_call</th>\n",
       "      <th>calls_count</th>\n",
       "      <th>call_duration</th>\n",
       "      <th>total_call_duration</th>\n",
       "      <th>tariff_plan</th>\n",
       "      <th>date_start</th>\n",
       "      <th>wait_time</th>\n",
       "      <th>avg_callt</th>\n",
       "      <th>avg_waittm</th>\n",
       "      <th>lvt_oper_id</th>\n",
       "      <th>type</th>\n",
       "    </tr>\n",
       "  </thead>\n",
       "  <tbody>\n",
       "    <tr>\n",
       "      <th>2174</th>\n",
       "      <td>166428</td>\n",
       "      <td>2019-09-05</td>\n",
       "      <td>in</td>\n",
       "      <td>False</td>\n",
       "      <td>882680</td>\n",
       "      <td>True</td>\n",
       "      <td>1</td>\n",
       "      <td>0</td>\n",
       "      <td>21</td>\n",
       "      <td>B</td>\n",
       "      <td>2019-08-02</td>\n",
       "      <td>21</td>\n",
       "      <td>0.0</td>\n",
       "      <td>21</td>\n",
       "      <td>34</td>\n",
       "      <td>прием</td>\n",
       "    </tr>\n",
       "    <tr>\n",
       "      <th>2177</th>\n",
       "      <td>166428</td>\n",
       "      <td>2019-09-10</td>\n",
       "      <td>in</td>\n",
       "      <td>False</td>\n",
       "      <td>882680</td>\n",
       "      <td>True</td>\n",
       "      <td>1</td>\n",
       "      <td>0</td>\n",
       "      <td>23</td>\n",
       "      <td>B</td>\n",
       "      <td>2019-08-02</td>\n",
       "      <td>23</td>\n",
       "      <td>0.0</td>\n",
       "      <td>23</td>\n",
       "      <td>39</td>\n",
       "      <td>прием</td>\n",
       "    </tr>\n",
       "    <tr>\n",
       "      <th>2180</th>\n",
       "      <td>166428</td>\n",
       "      <td>2019-09-13</td>\n",
       "      <td>in</td>\n",
       "      <td>False</td>\n",
       "      <td>882680</td>\n",
       "      <td>True</td>\n",
       "      <td>1</td>\n",
       "      <td>0</td>\n",
       "      <td>49</td>\n",
       "      <td>B</td>\n",
       "      <td>2019-08-02</td>\n",
       "      <td>49</td>\n",
       "      <td>0.0</td>\n",
       "      <td>49</td>\n",
       "      <td>42</td>\n",
       "      <td>прием</td>\n",
       "    </tr>\n",
       "    <tr>\n",
       "      <th>2217</th>\n",
       "      <td>166482</td>\n",
       "      <td>2019-10-12</td>\n",
       "      <td>in</td>\n",
       "      <td>False</td>\n",
       "      <td>934076</td>\n",
       "      <td>True</td>\n",
       "      <td>1</td>\n",
       "      <td>0</td>\n",
       "      <td>45</td>\n",
       "      <td>C</td>\n",
       "      <td>2019-08-05</td>\n",
       "      <td>45</td>\n",
       "      <td>0.0</td>\n",
       "      <td>45</td>\n",
       "      <td>68</td>\n",
       "      <td>прием</td>\n",
       "    </tr>\n",
       "    <tr>\n",
       "      <th>4753</th>\n",
       "      <td>166541</td>\n",
       "      <td>2019-09-12</td>\n",
       "      <td>in</td>\n",
       "      <td>False</td>\n",
       "      <td>908960</td>\n",
       "      <td>True</td>\n",
       "      <td>1</td>\n",
       "      <td>0</td>\n",
       "      <td>23</td>\n",
       "      <td>A</td>\n",
       "      <td>2019-08-07</td>\n",
       "      <td>23</td>\n",
       "      <td>0.0</td>\n",
       "      <td>23</td>\n",
       "      <td>36</td>\n",
       "      <td>прием</td>\n",
       "    </tr>\n",
       "  </tbody>\n",
       "</table>\n",
       "</div>"
      ],
      "text/plain": [
       "      user_id       date direction  internal  operator_id  is_missed_call  \\\n",
       "2174   166428 2019-09-05        in     False       882680            True   \n",
       "2177   166428 2019-09-10        in     False       882680            True   \n",
       "2180   166428 2019-09-13        in     False       882680            True   \n",
       "2217   166482 2019-10-12        in     False       934076            True   \n",
       "4753   166541 2019-09-12        in     False       908960            True   \n",
       "\n",
       "      calls_count  call_duration  total_call_duration tariff_plan date_start  \\\n",
       "2174            1              0                   21           B 2019-08-02   \n",
       "2177            1              0                   23           B 2019-08-02   \n",
       "2180            1              0                   49           B 2019-08-02   \n",
       "2217            1              0                   45           C 2019-08-05   \n",
       "4753            1              0                   23           A 2019-08-07   \n",
       "\n",
       "      wait_time  avg_callt  avg_waittm  lvt_oper_id   type  \n",
       "2174         21        0.0          21           34  прием  \n",
       "2177         23        0.0          23           39  прием  \n",
       "2180         49        0.0          49           42  прием  \n",
       "2217         45        0.0          45           68  прием  \n",
       "4753         23        0.0          23           36  прием  "
      ]
     },
     "execution_count": 72,
     "metadata": {},
     "output_type": "execute_result"
    }
   ],
   "source": [
    "# Код ревьюера\n",
    "df_in.loc[(df_in['direction']=='in')&(df_in['internal']==False)&(df_in['is_missed_call']==True)].head()"
   ]
  },
  {
   "cell_type": "code",
   "execution_count": 73,
   "metadata": {},
   "outputs": [
    {
     "data": {
      "text/plain": [
       "5"
      ]
     },
     "execution_count": 73,
     "metadata": {},
     "output_type": "execute_result"
    }
   ],
   "source": [
    "eff_missed_call = (missed_call['count_missed'].quantile(0.99)).astype(int)\n",
    "eff_missed_call"
   ]
  },
  {
   "cell_type": "markdown",
   "metadata": {},
   "source": [
    "<div style=\"border-radius: 22px; box-shadow: 4px 4px 4px; border: solid green 2px; padding: 16px\">\n",
    "\n",
    "**Вывод:**\n",
    "\n",
    "Примем за неэффективных тех операторов, кто допустил больше 5 пропущенных вызовов.\n"
   ]
  },
  {
   "cell_type": "markdown",
   "metadata": {},
   "source": [
    "<a id='4-3-2'></a>\n",
    "\n",
    "<font color='crimson'>\n",
    "\n",
    "#### по длительности ожидания ответа\n",
    "</font>\n"
   ]
  },
  {
   "cell_type": "code",
   "execution_count": 74,
   "metadata": {},
   "outputs": [
    {
     "data": {
      "text/html": [
       "<div>\n",
       "<style scoped>\n",
       "    .dataframe tbody tr th:only-of-type {\n",
       "        vertical-align: middle;\n",
       "    }\n",
       "\n",
       "    .dataframe tbody tr th {\n",
       "        vertical-align: top;\n",
       "    }\n",
       "\n",
       "    .dataframe thead th {\n",
       "        text-align: right;\n",
       "    }\n",
       "</style>\n",
       "<table border=\"1\" class=\"dataframe\">\n",
       "  <thead>\n",
       "    <tr style=\"text-align: right;\">\n",
       "      <th></th>\n",
       "      <th>user_id</th>\n",
       "      <th>operator_id</th>\n",
       "      <th>date</th>\n",
       "      <th>lvt_oper_id</th>\n",
       "      <th>avg_waittm</th>\n",
       "    </tr>\n",
       "  </thead>\n",
       "  <tbody>\n",
       "    <tr>\n",
       "      <th>952</th>\n",
       "      <td>166879</td>\n",
       "      <td>896536</td>\n",
       "      <td>2019-11-02</td>\n",
       "      <td>72</td>\n",
       "      <td>150.0</td>\n",
       "    </tr>\n",
       "    <tr>\n",
       "      <th>304</th>\n",
       "      <td>166541</td>\n",
       "      <td>910958</td>\n",
       "      <td>2019-09-18</td>\n",
       "      <td>42</td>\n",
       "      <td>110.0</td>\n",
       "    </tr>\n",
       "    <tr>\n",
       "      <th>1022</th>\n",
       "      <td>166879</td>\n",
       "      <td>927070</td>\n",
       "      <td>2019-11-22</td>\n",
       "      <td>92</td>\n",
       "      <td>96.0</td>\n",
       "    </tr>\n",
       "    <tr>\n",
       "      <th>310</th>\n",
       "      <td>166541</td>\n",
       "      <td>910958</td>\n",
       "      <td>2019-10-13</td>\n",
       "      <td>67</td>\n",
       "      <td>96.0</td>\n",
       "    </tr>\n",
       "    <tr>\n",
       "      <th>982</th>\n",
       "      <td>166879</td>\n",
       "      <td>896538</td>\n",
       "      <td>2019-10-15</td>\n",
       "      <td>54</td>\n",
       "      <td>88.0</td>\n",
       "    </tr>\n",
       "    <tr>\n",
       "      <th>1815</th>\n",
       "      <td>167059</td>\n",
       "      <td>911140</td>\n",
       "      <td>2019-09-25</td>\n",
       "      <td>27</td>\n",
       "      <td>87.0</td>\n",
       "    </tr>\n",
       "    <tr>\n",
       "      <th>53</th>\n",
       "      <td>166399</td>\n",
       "      <td>886674</td>\n",
       "      <td>2019-09-02</td>\n",
       "      <td>32</td>\n",
       "      <td>80.0</td>\n",
       "    </tr>\n",
       "    <tr>\n",
       "      <th>985</th>\n",
       "      <td>166879</td>\n",
       "      <td>896538</td>\n",
       "      <td>2019-11-15</td>\n",
       "      <td>85</td>\n",
       "      <td>79.0</td>\n",
       "    </tr>\n",
       "    <tr>\n",
       "      <th>1006</th>\n",
       "      <td>166879</td>\n",
       "      <td>927070</td>\n",
       "      <td>2019-10-16</td>\n",
       "      <td>55</td>\n",
       "      <td>76.0</td>\n",
       "    </tr>\n",
       "    <tr>\n",
       "      <th>958</th>\n",
       "      <td>166879</td>\n",
       "      <td>896536</td>\n",
       "      <td>2019-11-08</td>\n",
       "      <td>78</td>\n",
       "      <td>75.0</td>\n",
       "    </tr>\n",
       "  </tbody>\n",
       "</table>\n",
       "</div>"
      ],
      "text/plain": [
       "      user_id  operator_id       date  lvt_oper_id  avg_waittm\n",
       "952    166879       896536 2019-11-02           72       150.0\n",
       "304    166541       910958 2019-09-18           42       110.0\n",
       "1022   166879       927070 2019-11-22           92        96.0\n",
       "310    166541       910958 2019-10-13           67        96.0\n",
       "982    166879       896538 2019-10-15           54        88.0\n",
       "1815   167059       911140 2019-09-25           27        87.0\n",
       "53     166399       886674 2019-09-02           32        80.0\n",
       "985    166879       896538 2019-11-15           85        79.0\n",
       "1006   166879       927070 2019-10-16           55        76.0\n",
       "958    166879       896536 2019-11-08           78        75.0"
      ]
     },
     "execution_count": 74,
     "metadata": {},
     "output_type": "execute_result"
    }
   ],
   "source": [
    "avg_wait_call = df_in.groupby(['user_id','operator_id','date','lvt_oper_id'])['avg_waittm'].mean().reset_index()\n",
    "avg_wait_call = avg_wait_call.sort_values(by='avg_waittm', ascending=False)\n",
    "avg_wait_call.head(10)"
   ]
  },
  {
   "cell_type": "markdown",
   "metadata": {},
   "source": [
    " И снова самыми неэффективными оказались те, чьи ID отсутсвует.\n",
    " Отфильтруем по operator_id и сразу возьмем последний месяц исследуемого периода:"
   ]
  },
  {
   "cell_type": "code",
   "execution_count": 75,
   "metadata": {},
   "outputs": [
    {
     "data": {
      "text/plain": [
       "0.95    39.0\n",
       "0.99    58.0\n",
       "Name: avg_waittm, dtype: float64"
      ]
     },
     "execution_count": 75,
     "metadata": {},
     "output_type": "execute_result"
    }
   ],
   "source": [
    "eff_wait_time = avg_wait_call['avg_waittm'].quantile([0.95,0.99])\n",
    "eff_wait_time"
   ]
  },
  {
   "cell_type": "markdown",
   "metadata": {},
   "source": [
    "до 39 секунд в среднем на звонок - допускают ожидание при ответе 95 % операторов, тех колл-центров, которые специализируются на обработке входящих звонков!\n",
    "Кажется это много?\n",
    "Но разве Вам не попадались эта фраза: \"Ваш звонок очень важен для Вас, Вы 150 в очереди, Вам ответит ближайший проснувшийся оператор\" ? После чего мы слушаем музыку."
   ]
  },
  {
   "cell_type": "code",
   "execution_count": 76,
   "metadata": {},
   "outputs": [],
   "source": [
    "eff_wait_time = (avg_wait_call['avg_waittm'].quantile(0.95)).astype(int)"
   ]
  },
  {
   "cell_type": "markdown",
   "metadata": {},
   "source": [
    "<div style=\"border-radius: 22px; box-shadow: 4px 4px 4px; border: solid green 2px; padding: 16px\">\n",
    "\n",
    "**Вывод:**\n",
    "\n",
    "Границей эффективности по ожиданию ответа на входящий внешний звонок будем считать по 95 процентилю - 39 секунд."
   ]
  },
  {
   "cell_type": "markdown",
   "metadata": {},
   "source": [
    "<a id='4-3-3'></a>\n",
    "\n",
    "<font color='crimson'>\n",
    "\n",
    "#### по длительности самого ответа\n",
    "</font>\n"
   ]
  },
  {
   "cell_type": "markdown",
   "metadata": {},
   "source": [
    "Сгруппируем данные - для каждого оператора в качестве среднего возьмем не только среднее время одного звонка, но общее время звонка, чтобы понимать сколько по времени оператору звонили."
   ]
  },
  {
   "cell_type": "code",
   "execution_count": 77,
   "metadata": {},
   "outputs": [
    {
     "data": {
      "text/html": [
       "<div>\n",
       "<style scoped>\n",
       "    .dataframe tbody tr th:only-of-type {\n",
       "        vertical-align: middle;\n",
       "    }\n",
       "\n",
       "    .dataframe tbody tr th {\n",
       "        vertical-align: top;\n",
       "    }\n",
       "\n",
       "    .dataframe thead th {\n",
       "        text-align: right;\n",
       "    }\n",
       "</style>\n",
       "<table border=\"1\" class=\"dataframe\">\n",
       "  <thead>\n",
       "    <tr style=\"text-align: right;\">\n",
       "      <th></th>\n",
       "      <th>user_id</th>\n",
       "      <th>operator_id</th>\n",
       "      <th>date</th>\n",
       "      <th>lvt_oper_id</th>\n",
       "      <th>avg_callt</th>\n",
       "      <th>total_call_duration</th>\n",
       "      <th>calls_count</th>\n",
       "    </tr>\n",
       "  </thead>\n",
       "  <tbody>\n",
       "    <tr>\n",
       "      <th>747</th>\n",
       "      <td>166713</td>\n",
       "      <td>891908</td>\n",
       "      <td>2019-11-17</td>\n",
       "      <td>94</td>\n",
       "      <td>1765.0</td>\n",
       "      <td>1791.0</td>\n",
       "      <td>1</td>\n",
       "    </tr>\n",
       "    <tr>\n",
       "      <th>2551</th>\n",
       "      <td>167176</td>\n",
       "      <td>907994</td>\n",
       "      <td>2019-10-15</td>\n",
       "      <td>40</td>\n",
       "      <td>1515.5</td>\n",
       "      <td>3066.0</td>\n",
       "      <td>2</td>\n",
       "    </tr>\n",
       "    <tr>\n",
       "      <th>104</th>\n",
       "      <td>166428</td>\n",
       "      <td>928202</td>\n",
       "      <td>2019-10-15</td>\n",
       "      <td>74</td>\n",
       "      <td>1471.0</td>\n",
       "      <td>1488.0</td>\n",
       "      <td>1</td>\n",
       "    </tr>\n",
       "    <tr>\n",
       "      <th>3483</th>\n",
       "      <td>167644</td>\n",
       "      <td>924546</td>\n",
       "      <td>2019-10-28</td>\n",
       "      <td>34</td>\n",
       "      <td>1470.0</td>\n",
       "      <td>1486.0</td>\n",
       "      <td>1</td>\n",
       "    </tr>\n",
       "    <tr>\n",
       "      <th>1676</th>\n",
       "      <td>167052</td>\n",
       "      <td>904044</td>\n",
       "      <td>2019-10-11</td>\n",
       "      <td>43</td>\n",
       "      <td>1229.0</td>\n",
       "      <td>1274.0</td>\n",
       "      <td>1</td>\n",
       "    </tr>\n",
       "    <tr>\n",
       "      <th>...</th>\n",
       "      <td>...</td>\n",
       "      <td>...</td>\n",
       "      <td>...</td>\n",
       "      <td>...</td>\n",
       "      <td>...</td>\n",
       "      <td>...</td>\n",
       "      <td>...</td>\n",
       "    </tr>\n",
       "    <tr>\n",
       "      <th>592</th>\n",
       "      <td>166604</td>\n",
       "      <td>893420</td>\n",
       "      <td>2019-09-20</td>\n",
       "      <td>39</td>\n",
       "      <td>0.0</td>\n",
       "      <td>8.0</td>\n",
       "      <td>1</td>\n",
       "    </tr>\n",
       "    <tr>\n",
       "      <th>391</th>\n",
       "      <td>166582</td>\n",
       "      <td>885876</td>\n",
       "      <td>2019-11-08</td>\n",
       "      <td>91</td>\n",
       "      <td>0.0</td>\n",
       "      <td>536.0</td>\n",
       "      <td>14</td>\n",
       "    </tr>\n",
       "    <tr>\n",
       "      <th>1319</th>\n",
       "      <td>166901</td>\n",
       "      <td>896016</td>\n",
       "      <td>2019-10-16</td>\n",
       "      <td>54</td>\n",
       "      <td>0.0</td>\n",
       "      <td>29.0</td>\n",
       "      <td>1</td>\n",
       "    </tr>\n",
       "    <tr>\n",
       "      <th>3613</th>\n",
       "      <td>167742</td>\n",
       "      <td>955164</td>\n",
       "      <td>2019-11-06</td>\n",
       "      <td>40</td>\n",
       "      <td>0.0</td>\n",
       "      <td>9.0</td>\n",
       "      <td>1</td>\n",
       "    </tr>\n",
       "    <tr>\n",
       "      <th>802</th>\n",
       "      <td>166732</td>\n",
       "      <td>894232</td>\n",
       "      <td>2019-09-27</td>\n",
       "      <td>42</td>\n",
       "      <td>0.0</td>\n",
       "      <td>39.0</td>\n",
       "      <td>2</td>\n",
       "    </tr>\n",
       "  </tbody>\n",
       "</table>\n",
       "<p>4444 rows × 7 columns</p>\n",
       "</div>"
      ],
      "text/plain": [
       "      user_id  operator_id       date  lvt_oper_id  avg_callt  \\\n",
       "747    166713       891908 2019-11-17           94     1765.0   \n",
       "2551   167176       907994 2019-10-15           40     1515.5   \n",
       "104    166428       928202 2019-10-15           74     1471.0   \n",
       "3483   167644       924546 2019-10-28           34     1470.0   \n",
       "1676   167052       904044 2019-10-11           43     1229.0   \n",
       "...       ...          ...        ...          ...        ...   \n",
       "592    166604       893420 2019-09-20           39        0.0   \n",
       "391    166582       885876 2019-11-08           91        0.0   \n",
       "1319   166901       896016 2019-10-16           54        0.0   \n",
       "3613   167742       955164 2019-11-06           40        0.0   \n",
       "802    166732       894232 2019-09-27           42        0.0   \n",
       "\n",
       "      total_call_duration  calls_count  \n",
       "747                1791.0            1  \n",
       "2551               3066.0            2  \n",
       "104                1488.0            1  \n",
       "3483               1486.0            1  \n",
       "1676               1274.0            1  \n",
       "...                   ...          ...  \n",
       "592                   8.0            1  \n",
       "391                 536.0           14  \n",
       "1319                 29.0            1  \n",
       "3613                  9.0            1  \n",
       "802                  39.0            2  \n",
       "\n",
       "[4444 rows x 7 columns]"
      ]
     },
     "execution_count": 77,
     "metadata": {},
     "output_type": "execute_result"
    }
   ],
   "source": [
    "# dur_resp образованно от duration_response\n",
    "dur_resp = (df_in.groupby(['user_id',\n",
    "                          'operator_id',\n",
    "                          'date',\n",
    "                          'lvt_oper_id'])[['avg_callt',\n",
    "                                           'total_call_duration',\n",
    "                                           'calls_count']].agg({'avg_callt':'mean',\n",
    "                                                                'total_call_duration':'mean',\n",
    "                                                                'calls_count':'sum'}).reset_index()\n",
    "           )\n",
    "dur_resp = dur_resp.sort_values(by='avg_callt', ascending=False)\n",
    "dur_resp"
   ]
  },
  {
   "cell_type": "markdown",
   "metadata": {},
   "source": [
    "Максимальная длительность ответа составила около 30 минут.\n",
    "Но есть \"сверхбыстрые\" операторы, средний ответ которых составлял менее секунды.\n",
    "\n",
    "Не могу не заметить количество принятых звонков в день: 1-2 - они янво не любители перерабатывать.\n",
    "Уволить всех!"
   ]
  },
  {
   "cell_type": "code",
   "execution_count": 78,
   "metadata": {},
   "outputs": [
    {
     "data": {
      "text/html": [
       "<div>\n",
       "<style scoped>\n",
       "    .dataframe tbody tr th:only-of-type {\n",
       "        vertical-align: middle;\n",
       "    }\n",
       "\n",
       "    .dataframe tbody tr th {\n",
       "        vertical-align: top;\n",
       "    }\n",
       "\n",
       "    .dataframe thead th {\n",
       "        text-align: right;\n",
       "    }\n",
       "</style>\n",
       "<table border=\"1\" class=\"dataframe\">\n",
       "  <thead>\n",
       "    <tr style=\"text-align: right;\">\n",
       "      <th></th>\n",
       "      <th>avg_callt</th>\n",
       "      <th>total_call_duration</th>\n",
       "      <th>calls_count</th>\n",
       "    </tr>\n",
       "  </thead>\n",
       "  <tbody>\n",
       "    <tr>\n",
       "      <th>0.05</th>\n",
       "      <td>4.0000</td>\n",
       "      <td>21.575</td>\n",
       "      <td>1.00</td>\n",
       "    </tr>\n",
       "    <tr>\n",
       "      <th>0.10</th>\n",
       "      <td>11.0000</td>\n",
       "      <td>33.000</td>\n",
       "      <td>1.00</td>\n",
       "    </tr>\n",
       "    <tr>\n",
       "      <th>0.95</th>\n",
       "      <td>283.0000</td>\n",
       "      <td>2297.650</td>\n",
       "      <td>33.00</td>\n",
       "    </tr>\n",
       "    <tr>\n",
       "      <th>0.99</th>\n",
       "      <td>567.6775</td>\n",
       "      <td>4202.850</td>\n",
       "      <td>119.57</td>\n",
       "    </tr>\n",
       "  </tbody>\n",
       "</table>\n",
       "</div>"
      ],
      "text/plain": [
       "      avg_callt  total_call_duration  calls_count\n",
       "0.05     4.0000               21.575         1.00\n",
       "0.10    11.0000               33.000         1.00\n",
       "0.95   283.0000             2297.650        33.00\n",
       "0.99   567.6775             4202.850       119.57"
      ]
     },
     "execution_count": 78,
     "metadata": {},
     "output_type": "execute_result"
    }
   ],
   "source": [
    "dur_resp[['avg_callt','total_call_duration','calls_count']].quantile([0.05,0.1,0.95,0.99])"
   ]
  },
  {
   "cell_type": "code",
   "execution_count": 79,
   "metadata": {},
   "outputs": [
    {
     "data": {
      "image/png": "[encoded data removed]",
      "text/plain": [
       "<Figure size 1440x72 with 1 Axes>"
      ]
     },
     "metadata": {
      "needs_background": "light"
     },
     "output_type": "display_data"
    },
    {
     "data": {
      "image/png": "[encoded data removed]",
      "text/plain": [
       "<Figure size 1440x72 with 1 Axes>"
      ]
     },
     "metadata": {
      "needs_background": "light"
     },
     "output_type": "display_data"
    },
    {
     "data": {
      "image/png": "[encoded data removed]",
      "text/plain": [
       "<Figure size 1440x72 with 1 Axes>"
      ]
     },
     "metadata": {
      "needs_background": "light"
     },
     "output_type": "display_data"
    }
   ],
   "source": [
    "plt.figure(figsize=(20,1))\n",
    "plt.title('Графики межквартильного размаха',  fontsize=14)\n",
    "sns.boxplot(data=dur_resp, x='avg_callt', medianprops={\"color\": \"coral\"})\n",
    "plt.xlabel('Длительность ответа, сек', fontsize=12)\n",
    "plt.xlim(250,0)\n",
    "plt.show()\n",
    "plt.figure(figsize=(20,1))\n",
    "sns.boxplot(data=dur_resp, x='total_call_duration', medianprops={\"color\": \"coral\"})\n",
    "plt.xlabel('Общая длительность звонка с учетом ожидания на ответ, сек', fontsize=12)\n",
    "plt.xlim(2000,0)\n",
    "plt.show()\n",
    "plt.figure(figsize=(20,1))\n",
    "sns.boxplot(data=dur_resp, x='calls_count', medianprops={\"color\": \"coral\"})\n",
    "plt.xlabel('Количество звонков, шт', fontsize=12)\n",
    "plt.xlim(50,0)\n",
    "plt.show()"
   ]
  },
  {
   "cell_type": "markdown",
   "metadata": {},
   "source": [
    "Считаю, что верхнюю границу по длительности ответа брать по 95 процентилю - не стоит, так как это меньше 5 минут. Лучше возьмем по 99 процентилю - если ты регулярно тратитшь на ответ дольше, чем 99 % операторов - ты либо слишком долгий, либо надо проанализировать, что в твоей работе не так.\n",
    "\n",
    "Нижняя граница в 8 секунд на мой взгялд вполне адекватна - если мы рассматриваем колл-центры, которые специализируются на обработке входящих звонков, то входящие звонки идут от людей с какими-то вопросами.\n",
    "За 8 секунд можно выслушать вопрос, и положить трубку."
   ]
  },
  {
   "cell_type": "code",
   "execution_count": 80,
   "metadata": {},
   "outputs": [
    {
     "name": "stdout",
     "output_type": "stream",
     "text": [
      "4 \n",
      " 567\n"
     ]
    }
   ],
   "source": [
    "lower_eff_resp = (dur_resp['avg_callt'].quantile(0.05)).astype(int)\n",
    "upper_eff_resp = (dur_resp['avg_callt'].quantile(0.99)).astype(int)\n",
    "print(lower_eff_resp,'\\n', upper_eff_resp)"
   ]
  },
  {
   "cell_type": "markdown",
   "metadata": {},
   "source": [
    "<div style=\"border-radius: 22px; box-shadow: 4px 4px 4px; border: solid green 2px; padding: 16px\">\n",
    "\n",
    "**Вывод:**\n",
    "\n",
    "Принимаем:\n",
    "    За нижнюю границу эффективности по длительности ответа = 8 секунд,\n",
    "    за верхнюю = 571 секунда."
   ]
  },
  {
   "cell_type": "code",
   "execution_count": 81,
   "metadata": {},
   "outputs": [
    {
     "name": "stdout",
     "output_type": "stream",
     "text": [
      "eff_missed_call - граница по количеству пропущенных внешних входящих в месяц = 5 шт.\n",
      "eff_wait_time - граница по среднему времени ожидания = 39 секунд\n",
      "lower_eff_resp - нижняя граница по среднему времени ответа = 4 секунд\n",
      "upper_eff_resp - верхняя граница по среднему времени ответа = 567 секунд\n"
     ]
    }
   ],
   "source": [
    "print(f'eff_missed_call - граница по количеству пропущенных внешних входящих в месяц = {round(eff_missed_call,0)} шт.')\n",
    "print(f'eff_wait_time - граница по среднему времени ожидания = {round(eff_wait_time,0)} секунд')\n",
    "print(f'lower_eff_resp - нижняя граница по среднему времени ответа = {round(lower_eff_resp,0)} секунд')\n",
    "print(f'upper_eff_resp - верхняя граница по среднему времени ответа = {round(upper_eff_resp,0)} секунд')\n"
   ]
  },
  {
   "cell_type": "markdown",
   "metadata": {},
   "source": [
    "<a id='4-4'></a>\n",
    "\n",
    "<font color='crimson'>\n",
    "\n",
    "### Опереление границ эффективности операторов в колл-центрах,<br>которые **специализируются на обзвонах**\n",
    "</font>\n",
    "\n",
    "[К началу раздела](#4)<br>\n",
    "[К соддержанию](#0)"
   ]
  },
  {
   "cell_type": "markdown",
   "metadata": {},
   "source": [
    "<a id='4-4-1'></a>\n",
    "\n",
    "<font color='crimson'>\n",
    "\n",
    "#### по количеству исходящих внешних звонков\n",
    "</font>\n"
   ]
  },
  {
   "cell_type": "code",
   "execution_count": 82,
   "metadata": {},
   "outputs": [],
   "source": [
    "# dur_resp образованно от duration_response\n",
    "# ОТсортируем только исходящие внещние\n",
    "dur_resp_out = df_out.query('direction == \"out\" and internal ==False')"
   ]
  },
  {
   "cell_type": "code",
   "execution_count": 83,
   "metadata": {},
   "outputs": [
    {
     "data": {
      "text/html": [
       "<div>\n",
       "<style scoped>\n",
       "    .dataframe tbody tr th:only-of-type {\n",
       "        vertical-align: middle;\n",
       "    }\n",
       "\n",
       "    .dataframe tbody tr th {\n",
       "        vertical-align: top;\n",
       "    }\n",
       "\n",
       "    .dataframe thead th {\n",
       "        text-align: right;\n",
       "    }\n",
       "</style>\n",
       "<table border=\"1\" class=\"dataframe\">\n",
       "  <thead>\n",
       "    <tr style=\"text-align: right;\">\n",
       "      <th></th>\n",
       "      <th>user_id</th>\n",
       "      <th>operator_id</th>\n",
       "      <th>calls_count</th>\n",
       "    </tr>\n",
       "  </thead>\n",
       "  <tbody>\n",
       "    <tr>\n",
       "      <th>16</th>\n",
       "      <td>166406</td>\n",
       "      <td>879898</td>\n",
       "      <td>7191</td>\n",
       "    </tr>\n",
       "    <tr>\n",
       "      <th>687</th>\n",
       "      <td>168361</td>\n",
       "      <td>945286</td>\n",
       "      <td>5982</td>\n",
       "    </tr>\n",
       "    <tr>\n",
       "      <th>413</th>\n",
       "      <td>167626</td>\n",
       "      <td>919364</td>\n",
       "      <td>4820</td>\n",
       "    </tr>\n",
       "    <tr>\n",
       "      <th>243</th>\n",
       "      <td>167112</td>\n",
       "      <td>904016</td>\n",
       "      <td>4676</td>\n",
       "    </tr>\n",
       "    <tr>\n",
       "      <th>702</th>\n",
       "      <td>168361</td>\n",
       "      <td>945322</td>\n",
       "      <td>4069</td>\n",
       "    </tr>\n",
       "    <tr>\n",
       "      <th>...</th>\n",
       "      <td>...</td>\n",
       "      <td>...</td>\n",
       "      <td>...</td>\n",
       "    </tr>\n",
       "    <tr>\n",
       "      <th>682</th>\n",
       "      <td>168361</td>\n",
       "      <td>945274</td>\n",
       "      <td>1</td>\n",
       "    </tr>\n",
       "    <tr>\n",
       "      <th>528</th>\n",
       "      <td>168062</td>\n",
       "      <td>947596</td>\n",
       "      <td>1</td>\n",
       "    </tr>\n",
       "    <tr>\n",
       "      <th>353</th>\n",
       "      <td>167497</td>\n",
       "      <td>918958</td>\n",
       "      <td>1</td>\n",
       "    </tr>\n",
       "    <tr>\n",
       "      <th>62</th>\n",
       "      <td>166536</td>\n",
       "      <td>900192</td>\n",
       "      <td>1</td>\n",
       "    </tr>\n",
       "    <tr>\n",
       "      <th>310</th>\n",
       "      <td>167436</td>\n",
       "      <td>914256</td>\n",
       "      <td>1</td>\n",
       "    </tr>\n",
       "  </tbody>\n",
       "</table>\n",
       "<p>728 rows × 3 columns</p>\n",
       "</div>"
      ],
      "text/plain": [
       "     user_id  operator_id  calls_count\n",
       "16    166406       879898         7191\n",
       "687   168361       945286         5982\n",
       "413   167626       919364         4820\n",
       "243   167112       904016         4676\n",
       "702   168361       945322         4069\n",
       "..       ...          ...          ...\n",
       "682   168361       945274            1\n",
       "528   168062       947596            1\n",
       "353   167497       918958            1\n",
       "62    166536       900192            1\n",
       "310   167436       914256            1\n",
       "\n",
       "[728 rows x 3 columns]"
      ]
     },
     "execution_count": 83,
     "metadata": {},
     "output_type": "execute_result"
    }
   ],
   "source": [
    "dur_resp_out = dur_resp_out.groupby(['user_id','operator_id'])['calls_count'].sum().reset_index()\n",
    "# Отсортируем по убыванию пропущеных звонков\n",
    "dur_resp_out = dur_resp_out.sort_values(by='calls_count', ascending=False)\n",
    "dur_resp_out"
   ]
  },
  {
   "cell_type": "code",
   "execution_count": 84,
   "metadata": {
    "scrolled": true
   },
   "outputs": [
    {
     "data": {
      "text/plain": [
       "0.05       1.00\n",
       "0.10       3.00\n",
       "0.95    2292.00\n",
       "0.99    3376.65\n",
       "Name: calls_count, dtype: float64"
      ]
     },
     "execution_count": 84,
     "metadata": {},
     "output_type": "execute_result"
    }
   ],
   "source": [
    "dur_resp_out['calls_count'].quantile([0.05,0.1,0.95,0.99])"
   ]
  },
  {
   "cell_type": "code",
   "execution_count": 85,
   "metadata": {},
   "outputs": [],
   "source": [
    "out_lower_eff = (dur_resp_out['calls_count'].quantile(0.05)).astype(int)\n",
    "out_upper_eff = (dur_resp_out['calls_count'].quantile(0.95)).astype(int)"
   ]
  },
  {
   "cell_type": "code",
   "execution_count": 86,
   "metadata": {
    "scrolled": true
   },
   "outputs": [
    {
     "name": "stdout",
     "output_type": "stream",
     "text": [
      "Сводные данные по границам эффективности:\n",
      "    eff_missed_call - граница по количеству пропущенных внешних входящих в месяц = 5 шт.\n",
      "    eff_wait_time - граница по среднему времени ожидания = 39 секунд\n",
      "    lower_eff_resp - нижняя граница по среднему времени ответа = 4 секунд\n",
      "    upper_eff_resp - верхняя граница по среднему времени ответа = 567 секунд\n",
      "    out_lower_eff - нижняя граница по количеству исходящих внешних звонков = 1 шт.\n",
      "    out_upper_eff - верхняя граница по количеству исходящих внешних звонков = 2291 шт.\n"
     ]
    }
   ],
   "source": [
    "print('Сводные данные по границам эффективности:')\n",
    "print(f'    eff_missed_call - граница по количеству пропущенных внешних входящих в месяц = {round(eff_missed_call,0)} шт.')\n",
    "print(f'    eff_wait_time - граница по среднему времени ожидания = {round(eff_wait_time,0)} секунд')\n",
    "print(f'    lower_eff_resp - нижняя граница по среднему времени ответа = {round(lower_eff_resp,0)} секунд')\n",
    "print(f'    upper_eff_resp - верхняя граница по среднему времени ответа = {round(upper_eff_resp,0)} секунд')\n",
    "print(f'    out_lower_eff - нижняя граница по количеству исходящих внешних звонков = {out_lower_eff} шт.')\n",
    "print(f'    out_upper_eff - верхняя граница по количеству исходящих внешних звонков = {out_upper_eff} шт.')\n"
   ]
  },
  {
   "cell_type": "markdown",
   "metadata": {},
   "source": [
    "<a id='4-4-2'></a>\n",
    "\n",
    "<font color='crimson'>\n",
    "\n",
    "#### по продолжительности самого звонка\n",
    "</font>\n"
   ]
  },
  {
   "cell_type": "code",
   "execution_count": 87,
   "metadata": {
    "scrolled": false
   },
   "outputs": [
    {
     "data": {
      "text/html": [
       "<div>\n",
       "<style scoped>\n",
       "    .dataframe tbody tr th:only-of-type {\n",
       "        vertical-align: middle;\n",
       "    }\n",
       "\n",
       "    .dataframe tbody tr th {\n",
       "        vertical-align: top;\n",
       "    }\n",
       "\n",
       "    .dataframe thead th {\n",
       "        text-align: right;\n",
       "    }\n",
       "</style>\n",
       "<table border=\"1\" class=\"dataframe\">\n",
       "  <thead>\n",
       "    <tr style=\"text-align: right;\">\n",
       "      <th></th>\n",
       "      <th>user_id</th>\n",
       "      <th>date</th>\n",
       "      <th>direction</th>\n",
       "      <th>internal</th>\n",
       "      <th>operator_id</th>\n",
       "      <th>is_missed_call</th>\n",
       "      <th>calls_count</th>\n",
       "      <th>call_duration</th>\n",
       "      <th>total_call_duration</th>\n",
       "      <th>tariff_plan</th>\n",
       "      <th>date_start</th>\n",
       "      <th>wait_time</th>\n",
       "      <th>avg_callt</th>\n",
       "      <th>avg_waittm</th>\n",
       "      <th>lvt_oper_id</th>\n",
       "      <th>type</th>\n",
       "    </tr>\n",
       "  </thead>\n",
       "  <tbody>\n",
       "    <tr>\n",
       "      <th>0</th>\n",
       "      <td>166377</td>\n",
       "      <td>2019-08-05</td>\n",
       "      <td>out</td>\n",
       "      <td>True</td>\n",
       "      <td>880022</td>\n",
       "      <td>True</td>\n",
       "      <td>3</td>\n",
       "      <td>0</td>\n",
       "      <td>5</td>\n",
       "      <td>B</td>\n",
       "      <td>2019-08-01</td>\n",
       "      <td>5</td>\n",
       "      <td>0.0</td>\n",
       "      <td>1</td>\n",
       "      <td>4</td>\n",
       "      <td>обзвон</td>\n",
       "    </tr>\n",
       "    <tr>\n",
       "      <th>1</th>\n",
       "      <td>166377</td>\n",
       "      <td>2019-08-05</td>\n",
       "      <td>out</td>\n",
       "      <td>True</td>\n",
       "      <td>880020</td>\n",
       "      <td>True</td>\n",
       "      <td>1</td>\n",
       "      <td>0</td>\n",
       "      <td>1</td>\n",
       "      <td>B</td>\n",
       "      <td>2019-08-01</td>\n",
       "      <td>1</td>\n",
       "      <td>0.0</td>\n",
       "      <td>1</td>\n",
       "      <td>4</td>\n",
       "      <td>обзвон</td>\n",
       "    </tr>\n",
       "    <tr>\n",
       "      <th>2</th>\n",
       "      <td>166377</td>\n",
       "      <td>2019-08-05</td>\n",
       "      <td>out</td>\n",
       "      <td>True</td>\n",
       "      <td>880020</td>\n",
       "      <td>False</td>\n",
       "      <td>1</td>\n",
       "      <td>10</td>\n",
       "      <td>18</td>\n",
       "      <td>B</td>\n",
       "      <td>2019-08-01</td>\n",
       "      <td>8</td>\n",
       "      <td>10.0</td>\n",
       "      <td>8</td>\n",
       "      <td>4</td>\n",
       "      <td>обзвон</td>\n",
       "    </tr>\n",
       "    <tr>\n",
       "      <th>3</th>\n",
       "      <td>166377</td>\n",
       "      <td>2019-08-05</td>\n",
       "      <td>out</td>\n",
       "      <td>False</td>\n",
       "      <td>880022</td>\n",
       "      <td>True</td>\n",
       "      <td>3</td>\n",
       "      <td>0</td>\n",
       "      <td>25</td>\n",
       "      <td>B</td>\n",
       "      <td>2019-08-01</td>\n",
       "      <td>25</td>\n",
       "      <td>0.0</td>\n",
       "      <td>8</td>\n",
       "      <td>4</td>\n",
       "      <td>обзвон</td>\n",
       "    </tr>\n",
       "    <tr>\n",
       "      <th>4</th>\n",
       "      <td>166377</td>\n",
       "      <td>2019-08-05</td>\n",
       "      <td>out</td>\n",
       "      <td>False</td>\n",
       "      <td>880020</td>\n",
       "      <td>False</td>\n",
       "      <td>2</td>\n",
       "      <td>3</td>\n",
       "      <td>29</td>\n",
       "      <td>B</td>\n",
       "      <td>2019-08-01</td>\n",
       "      <td>26</td>\n",
       "      <td>1.5</td>\n",
       "      <td>13</td>\n",
       "      <td>4</td>\n",
       "      <td>обзвон</td>\n",
       "    </tr>\n",
       "  </tbody>\n",
       "</table>\n",
       "</div>"
      ],
      "text/plain": [
       "   user_id       date direction  internal  operator_id  is_missed_call  \\\n",
       "0   166377 2019-08-05       out      True       880022            True   \n",
       "1   166377 2019-08-05       out      True       880020            True   \n",
       "2   166377 2019-08-05       out      True       880020           False   \n",
       "3   166377 2019-08-05       out     False       880022            True   \n",
       "4   166377 2019-08-05       out     False       880020           False   \n",
       "\n",
       "   calls_count  call_duration  total_call_duration tariff_plan date_start  \\\n",
       "0            3              0                    5           B 2019-08-01   \n",
       "1            1              0                    1           B 2019-08-01   \n",
       "2            1             10                   18           B 2019-08-01   \n",
       "3            3              0                   25           B 2019-08-01   \n",
       "4            2              3                   29           B 2019-08-01   \n",
       "\n",
       "   wait_time  avg_callt  avg_waittm  lvt_oper_id    type  \n",
       "0          5        0.0           1            4  обзвон  \n",
       "1          1        0.0           1            4  обзвон  \n",
       "2          8       10.0           8            4  обзвон  \n",
       "3         25        0.0           8            4  обзвон  \n",
       "4         26        1.5          13            4  обзвон  "
      ]
     },
     "execution_count": 87,
     "metadata": {},
     "output_type": "execute_result"
    }
   ],
   "source": [
    "df_out.head()"
   ]
  },
  {
   "cell_type": "code",
   "execution_count": 88,
   "metadata": {},
   "outputs": [
    {
     "data": {
      "text/html": [
       "<div>\n",
       "<style scoped>\n",
       "    .dataframe tbody tr th:only-of-type {\n",
       "        vertical-align: middle;\n",
       "    }\n",
       "\n",
       "    .dataframe tbody tr th {\n",
       "        vertical-align: top;\n",
       "    }\n",
       "\n",
       "    .dataframe thead th {\n",
       "        text-align: right;\n",
       "    }\n",
       "</style>\n",
       "<table border=\"1\" class=\"dataframe\">\n",
       "  <thead>\n",
       "    <tr style=\"text-align: right;\">\n",
       "      <th></th>\n",
       "      <th>user_id</th>\n",
       "      <th>operator_id</th>\n",
       "      <th>date</th>\n",
       "      <th>avg_callt</th>\n",
       "    </tr>\n",
       "  </thead>\n",
       "  <tbody>\n",
       "    <tr>\n",
       "      <th>2302</th>\n",
       "      <td>166658</td>\n",
       "      <td>890412</td>\n",
       "      <td>2019-09-11</td>\n",
       "      <td>2899.0</td>\n",
       "    </tr>\n",
       "    <tr>\n",
       "      <th>2797</th>\n",
       "      <td>166658</td>\n",
       "      <td>891166</td>\n",
       "      <td>2019-10-10</td>\n",
       "      <td>2607.0</td>\n",
       "    </tr>\n",
       "    <tr>\n",
       "      <th>2593</th>\n",
       "      <td>166658</td>\n",
       "      <td>891154</td>\n",
       "      <td>2019-10-11</td>\n",
       "      <td>2236.0</td>\n",
       "    </tr>\n",
       "    <tr>\n",
       "      <th>2810</th>\n",
       "      <td>166658</td>\n",
       "      <td>891166</td>\n",
       "      <td>2019-10-31</td>\n",
       "      <td>1942.0</td>\n",
       "    </tr>\n",
       "    <tr>\n",
       "      <th>2620</th>\n",
       "      <td>166658</td>\n",
       "      <td>891154</td>\n",
       "      <td>2019-11-20</td>\n",
       "      <td>1932.5</td>\n",
       "    </tr>\n",
       "    <tr>\n",
       "      <th>2617</th>\n",
       "      <td>166658</td>\n",
       "      <td>891154</td>\n",
       "      <td>2019-11-15</td>\n",
       "      <td>1870.0</td>\n",
       "    </tr>\n",
       "    <tr>\n",
       "      <th>2690</th>\n",
       "      <td>166658</td>\n",
       "      <td>891158</td>\n",
       "      <td>2019-11-15</td>\n",
       "      <td>1852.5</td>\n",
       "    </tr>\n",
       "    <tr>\n",
       "      <th>2609</th>\n",
       "      <td>166658</td>\n",
       "      <td>891154</td>\n",
       "      <td>2019-11-05</td>\n",
       "      <td>1780.5</td>\n",
       "    </tr>\n",
       "    <tr>\n",
       "      <th>8675</th>\n",
       "      <td>167455</td>\n",
       "      <td>918390</td>\n",
       "      <td>2019-11-12</td>\n",
       "      <td>1629.0</td>\n",
       "    </tr>\n",
       "    <tr>\n",
       "      <th>2685</th>\n",
       "      <td>166658</td>\n",
       "      <td>891158</td>\n",
       "      <td>2019-11-06</td>\n",
       "      <td>1559.0</td>\n",
       "    </tr>\n",
       "  </tbody>\n",
       "</table>\n",
       "</div>"
      ],
      "text/plain": [
       "      user_id  operator_id       date  avg_callt\n",
       "2302   166658       890412 2019-09-11     2899.0\n",
       "2797   166658       891166 2019-10-10     2607.0\n",
       "2593   166658       891154 2019-10-11     2236.0\n",
       "2810   166658       891166 2019-10-31     1942.0\n",
       "2620   166658       891154 2019-11-20     1932.5\n",
       "2617   166658       891154 2019-11-15     1870.0\n",
       "2690   166658       891158 2019-11-15     1852.5\n",
       "2609   166658       891154 2019-11-05     1780.5\n",
       "8675   167455       918390 2019-11-12     1629.0\n",
       "2685   166658       891158 2019-11-06     1559.0"
      ]
     },
     "execution_count": 88,
     "metadata": {},
     "output_type": "execute_result"
    }
   ],
   "source": [
    "wait_call = df_out.groupby(['user_id','operator_id','date'])['avg_callt'].mean().reset_index()\n",
    "wait_call = wait_call.sort_values(by='avg_callt', ascending=False)\n",
    "wait_call.head(10)"
   ]
  },
  {
   "cell_type": "code",
   "execution_count": 89,
   "metadata": {
    "scrolled": true
   },
   "outputs": [
    {
     "data": {
      "text/html": [
       "<div>\n",
       "<style scoped>\n",
       "    .dataframe tbody tr th:only-of-type {\n",
       "        vertical-align: middle;\n",
       "    }\n",
       "\n",
       "    .dataframe tbody tr th {\n",
       "        vertical-align: top;\n",
       "    }\n",
       "\n",
       "    .dataframe thead th {\n",
       "        text-align: right;\n",
       "    }\n",
       "</style>\n",
       "<table border=\"1\" class=\"dataframe\">\n",
       "  <thead>\n",
       "    <tr style=\"text-align: right;\">\n",
       "      <th></th>\n",
       "      <th>index</th>\n",
       "      <th>avg_callt</th>\n",
       "    </tr>\n",
       "  </thead>\n",
       "  <tbody>\n",
       "    <tr>\n",
       "      <th>0</th>\n",
       "      <td>0.05</td>\n",
       "      <td>0.000000</td>\n",
       "    </tr>\n",
       "    <tr>\n",
       "      <th>1</th>\n",
       "      <td>0.10</td>\n",
       "      <td>11.056250</td>\n",
       "    </tr>\n",
       "    <tr>\n",
       "      <th>2</th>\n",
       "      <td>0.95</td>\n",
       "      <td>254.902778</td>\n",
       "    </tr>\n",
       "    <tr>\n",
       "      <th>3</th>\n",
       "      <td>0.99</td>\n",
       "      <td>591.445000</td>\n",
       "    </tr>\n",
       "  </tbody>\n",
       "</table>\n",
       "</div>"
      ],
      "text/plain": [
       "   index   avg_callt\n",
       "0   0.05    0.000000\n",
       "1   0.10   11.056250\n",
       "2   0.95  254.902778\n",
       "3   0.99  591.445000"
      ]
     },
     "execution_count": 89,
     "metadata": {},
     "output_type": "execute_result"
    }
   ],
   "source": [
    "wait_call['avg_callt'].quantile([0.05,0.1,0.95,0.99]).reset_index()"
   ]
  },
  {
   "cell_type": "code",
   "execution_count": 90,
   "metadata": {},
   "outputs": [],
   "source": [
    "out_lower_call = (wait_call['avg_callt'].quantile(0.10)).astype(int)\n",
    "out_upper_call = (wait_call['avg_callt'].quantile(0.99)).astype(int)"
   ]
  },
  {
   "cell_type": "code",
   "execution_count": 91,
   "metadata": {},
   "outputs": [
    {
     "name": "stdout",
     "output_type": "stream",
     "text": [
      "Сводные данные по границам эффективности:\n",
      " для колл-центров, которые специализируются на обработке входящих звонков:\n",
      "    eff_missed_call - граница по количеству пропущенных внешних входящих = 5 шт.\n",
      "    eff_wait_time - граница по среднему времени ожидания = 39 секунд\n",
      "    lower_eff_resp - нижняя граница по среднему времени ответа = 4 секунд\n",
      "    upper_eff_resp - верхняя граница по среднему времени ответа = 567 секунд\n",
      " для колл-центров, которые специализируются на обзвонах:\n",
      "    out_lower_eff - нижняя граница по количеству исходящих внешних звонков = 1 шт.\n",
      "    out_upper_eff - верхняя граница по количеству исходящих внешних звонков = 2291 шт.\n",
      "    out_lower_call - нижняя граница по средней длительности общения исходящего внешнего звонка = 11 секунд\n",
      "    out_upper_call - верхняя граница по средней длительности общения исходящего внешнего звонка = 591 секунд\n"
     ]
    }
   ],
   "source": [
    "print('Сводные данные по границам эффективности:')\n",
    "print(' для колл-центров, которые специализируются на обработке входящих звонков:')\n",
    "print(f'    eff_missed_call - граница по количеству пропущенных внешних входящих = {eff_missed_call} шт.')\n",
    "print(f'    eff_wait_time - граница по среднему времени ожидания = {eff_wait_time} секунд')\n",
    "print(f'    lower_eff_resp - нижняя граница по среднему времени ответа = {round(lower_eff_resp,0)} секунд')\n",
    "print(f'    upper_eff_resp - верхняя граница по среднему времени ответа = {round(upper_eff_resp,0)} секунд')\n",
    "print(' для колл-центров, которые специализируются на обзвонах:')\n",
    "print(f'    out_lower_eff - нижняя граница по количеству исходящих внешних звонков = {round(out_lower_eff,0)} шт.')\n",
    "print(f'    out_upper_eff - верхняя граница по количеству исходящих внешних звонков = {round(out_upper_eff,0)} шт.')\n",
    "print(f'    out_lower_call - нижняя граница по средней длительности общения исходящего внешнего звонка = {round(out_lower_call,0)} секунд')\n",
    "print(f'    out_upper_call - верхняя граница по средней длительности общения исходящего внешнего звонка = {round(out_upper_call,0)} секунд')\n"
   ]
  },
  {
   "cell_type": "markdown",
   "metadata": {},
   "source": [
    "<a id='5'></a>\n",
    "\n",
    "<font color='crimson'>\n",
    "<h2 align=\"center\"> Определим неэффективных операторов</h2>\n",
    "</font>"
   ]
  },
  {
   "cell_type": "markdown",
   "metadata": {},
   "source": [
    "<a id='5-1'></a>\n",
    "\n",
    "<font color='crimson'>\n",
    "\n",
    "### Определим неэффективных операторов в колл-центрах, <br>которые **специализируются на обработке входящих звонков**\n",
    "\n",
    "</font>\n",
    "\n",
    "[К началу раздела](#5)<br>\n",
    "[К соддержанию](#0)"
   ]
  },
  {
   "cell_type": "markdown",
   "metadata": {},
   "source": [
    "<a id='5-1-1'></a>\n",
    "\n",
    "<font color='crimson'>\n",
    "\n",
    "#### по количеству пропущенных внешних вызовов \n",
    "</font>\n"
   ]
  },
  {
   "cell_type": "code",
   "execution_count": 92,
   "metadata": {
    "scrolled": false
   },
   "outputs": [
    {
     "data": {
      "text/html": [
       "<div>\n",
       "<style scoped>\n",
       "    .dataframe tbody tr th:only-of-type {\n",
       "        vertical-align: middle;\n",
       "    }\n",
       "\n",
       "    .dataframe tbody tr th {\n",
       "        vertical-align: top;\n",
       "    }\n",
       "\n",
       "    .dataframe thead th {\n",
       "        text-align: right;\n",
       "    }\n",
       "</style>\n",
       "<table border=\"1\" class=\"dataframe\">\n",
       "  <thead>\n",
       "    <tr style=\"text-align: right;\">\n",
       "      <th></th>\n",
       "      <th>operator_id</th>\n",
       "      <th>user_id</th>\n",
       "      <th>lvt_oper_id</th>\n",
       "      <th>count_missed</th>\n",
       "    </tr>\n",
       "  </thead>\n",
       "  <tbody>\n",
       "    <tr>\n",
       "      <th>47</th>\n",
       "      <td>944226</td>\n",
       "      <td>2183701</td>\n",
       "      <td>436</td>\n",
       "      <td>28</td>\n",
       "    </tr>\n",
       "    <tr>\n",
       "      <th>2</th>\n",
       "      <td>885890</td>\n",
       "      <td>2665312</td>\n",
       "      <td>620</td>\n",
       "      <td>21</td>\n",
       "    </tr>\n",
       "    <tr>\n",
       "      <th>45</th>\n",
       "      <td>944220</td>\n",
       "      <td>1847747</td>\n",
       "      <td>310</td>\n",
       "      <td>17</td>\n",
       "    </tr>\n",
       "    <tr>\n",
       "      <th>43</th>\n",
       "      <td>944216</td>\n",
       "      <td>2183701</td>\n",
       "      <td>423</td>\n",
       "      <td>16</td>\n",
       "    </tr>\n",
       "    <tr>\n",
       "      <th>46</th>\n",
       "      <td>944222</td>\n",
       "      <td>1679770</td>\n",
       "      <td>335</td>\n",
       "      <td>15</td>\n",
       "    </tr>\n",
       "  </tbody>\n",
       "</table>\n",
       "</div>"
      ],
      "text/plain": [
       "    operator_id  user_id  lvt_oper_id  count_missed\n",
       "47       944226  2183701          436            28\n",
       "2        885890  2665312          620            21\n",
       "45       944220  1847747          310            17\n",
       "43       944216  2183701          423            16\n",
       "46       944222  1679770          335            15"
      ]
     },
     "execution_count": 92,
     "metadata": {},
     "output_type": "execute_result"
    }
   ],
   "source": [
    "# Найдем кумулятивную сумму звонков на каждого опреатора за каждый день\n",
    "mse = missed_call.groupby(['operator_id']).sum() \\\n",
    "  .groupby(level=0).cumsum().reset_index().sort_values(by=['count_missed'], ascending=False)\n",
    "mse.head()"
   ]
  },
  {
   "cell_type": "markdown",
   "metadata": {},
   "source": [
    "<div style=\"border-radius: 22px; box-shadow: 4px 4px 4px; border: solid green 2px; padding: 16px\">\n",
    "\n",
    "**Выведем операторов кто совершал пропущенных звонков больше границы эффективности:**"
   ]
  },
  {
   "cell_type": "code",
   "execution_count": 93,
   "metadata": {},
   "outputs": [
    {
     "name": "stdout",
     "output_type": "stream",
     "text": [
      "    eff_missed_call - граница по количеству пропущенных внешних входящих = 5 шт.\n"
     ]
    },
    {
     "data": {
      "text/html": [
       "<div>\n",
       "<style scoped>\n",
       "    .dataframe tbody tr th:only-of-type {\n",
       "        vertical-align: middle;\n",
       "    }\n",
       "\n",
       "    .dataframe tbody tr th {\n",
       "        vertical-align: top;\n",
       "    }\n",
       "\n",
       "    .dataframe thead th {\n",
       "        text-align: right;\n",
       "    }\n",
       "</style>\n",
       "<table border=\"1\" class=\"dataframe\">\n",
       "  <thead>\n",
       "    <tr style=\"text-align: right;\">\n",
       "      <th></th>\n",
       "      <th>user_id</th>\n",
       "      <th>operator_id</th>\n",
       "      <th>count_missed</th>\n",
       "    </tr>\n",
       "  </thead>\n",
       "  <tbody>\n",
       "    <tr>\n",
       "      <th>47</th>\n",
       "      <td>2183701</td>\n",
       "      <td>944226</td>\n",
       "      <td>28</td>\n",
       "    </tr>\n",
       "    <tr>\n",
       "      <th>2</th>\n",
       "      <td>2665312</td>\n",
       "      <td>885890</td>\n",
       "      <td>21</td>\n",
       "    </tr>\n",
       "    <tr>\n",
       "      <th>45</th>\n",
       "      <td>1847747</td>\n",
       "      <td>944220</td>\n",
       "      <td>17</td>\n",
       "    </tr>\n",
       "    <tr>\n",
       "      <th>43</th>\n",
       "      <td>2183701</td>\n",
       "      <td>944216</td>\n",
       "      <td>16</td>\n",
       "    </tr>\n",
       "    <tr>\n",
       "      <th>46</th>\n",
       "      <td>1679770</td>\n",
       "      <td>944222</td>\n",
       "      <td>15</td>\n",
       "    </tr>\n",
       "    <tr>\n",
       "      <th>17</th>\n",
       "      <td>501600</td>\n",
       "      <td>905862</td>\n",
       "      <td>15</td>\n",
       "    </tr>\n",
       "    <tr>\n",
       "      <th>44</th>\n",
       "      <td>1679770</td>\n",
       "      <td>944218</td>\n",
       "      <td>14</td>\n",
       "    </tr>\n",
       "    <tr>\n",
       "      <th>1</th>\n",
       "      <td>1998984</td>\n",
       "      <td>885876</td>\n",
       "      <td>14</td>\n",
       "    </tr>\n",
       "    <tr>\n",
       "      <th>29</th>\n",
       "      <td>2004852</td>\n",
       "      <td>913938</td>\n",
       "      <td>13</td>\n",
       "    </tr>\n",
       "    <tr>\n",
       "      <th>30</th>\n",
       "      <td>1670710</td>\n",
       "      <td>913942</td>\n",
       "      <td>11</td>\n",
       "    </tr>\n",
       "    <tr>\n",
       "      <th>20</th>\n",
       "      <td>832705</td>\n",
       "      <td>908960</td>\n",
       "      <td>8</td>\n",
       "    </tr>\n",
       "    <tr>\n",
       "      <th>35</th>\n",
       "      <td>666328</td>\n",
       "      <td>925922</td>\n",
       "      <td>6</td>\n",
       "    </tr>\n",
       "    <tr>\n",
       "      <th>16</th>\n",
       "      <td>334324</td>\n",
       "      <td>905300</td>\n",
       "      <td>6</td>\n",
       "    </tr>\n",
       "  </tbody>\n",
       "</table>\n",
       "</div>"
      ],
      "text/plain": [
       "    user_id  operator_id  count_missed\n",
       "47  2183701       944226            28\n",
       "2   2665312       885890            21\n",
       "45  1847747       944220            17\n",
       "43  2183701       944216            16\n",
       "46  1679770       944222            15\n",
       "17   501600       905862            15\n",
       "44  1679770       944218            14\n",
       "1   1998984       885876            14\n",
       "29  2004852       913938            13\n",
       "30  1670710       913942            11\n",
       "20   832705       908960             8\n",
       "35   666328       925922             6\n",
       "16   334324       905300             6"
      ]
     },
     "execution_count": 93,
     "metadata": {},
     "output_type": "execute_result"
    }
   ],
   "source": [
    "print(f'    eff_missed_call - граница по количеству пропущенных внешних входящих = {eff_missed_call} шт.')\n",
    "\n",
    "ineff_missed_call = mse.loc[mse['count_missed'] > eff_missed_call, ['user_id', 'operator_id', 'count_missed']]\n",
    "ineff_missed_call"
   ]
  },
  {
   "cell_type": "markdown",
   "metadata": {},
   "source": [
    "Найдем этих операторов в основном датасете:"
   ]
  },
  {
   "cell_type": "code",
   "execution_count": 94,
   "metadata": {},
   "outputs": [],
   "source": [
    "list_ineff_missed_call = ineff_missed_call['operator_id']"
   ]
  },
  {
   "cell_type": "code",
   "execution_count": 95,
   "metadata": {},
   "outputs": [
    {
     "data": {
      "text/html": [
       "<div>\n",
       "<style scoped>\n",
       "    .dataframe tbody tr th:only-of-type {\n",
       "        vertical-align: middle;\n",
       "    }\n",
       "\n",
       "    .dataframe tbody tr th {\n",
       "        vertical-align: top;\n",
       "    }\n",
       "\n",
       "    .dataframe thead th {\n",
       "        text-align: right;\n",
       "    }\n",
       "</style>\n",
       "<table border=\"1\" class=\"dataframe\">\n",
       "  <thead>\n",
       "    <tr style=\"text-align: right;\">\n",
       "      <th></th>\n",
       "      <th>user_id</th>\n",
       "      <th>date</th>\n",
       "      <th>direction</th>\n",
       "      <th>internal</th>\n",
       "      <th>operator_id</th>\n",
       "      <th>is_missed_call</th>\n",
       "      <th>calls_count</th>\n",
       "      <th>call_duration</th>\n",
       "      <th>total_call_duration</th>\n",
       "      <th>tariff_plan</th>\n",
       "      <th>date_start</th>\n",
       "      <th>wait_time</th>\n",
       "      <th>avg_callt</th>\n",
       "      <th>avg_waittm</th>\n",
       "      <th>lvt_oper_id</th>\n",
       "      <th>type</th>\n",
       "    </tr>\n",
       "  </thead>\n",
       "  <tbody>\n",
       "    <tr>\n",
       "      <th>32654</th>\n",
       "      <td>167977</td>\n",
       "      <td>2019-11-28</td>\n",
       "      <td>out</td>\n",
       "      <td>False</td>\n",
       "      <td>944216</td>\n",
       "      <td>True</td>\n",
       "      <td>2</td>\n",
       "      <td>0</td>\n",
       "      <td>71</td>\n",
       "      <td>B</td>\n",
       "      <td>2019-10-08</td>\n",
       "      <td>71</td>\n",
       "      <td>0.000000</td>\n",
       "      <td>35</td>\n",
       "      <td>51</td>\n",
       "      <td>прием</td>\n",
       "    </tr>\n",
       "    <tr>\n",
       "      <th>5057</th>\n",
       "      <td>166541</td>\n",
       "      <td>2019-11-28</td>\n",
       "      <td>in</td>\n",
       "      <td>True</td>\n",
       "      <td>908960</td>\n",
       "      <td>False</td>\n",
       "      <td>1</td>\n",
       "      <td>36</td>\n",
       "      <td>43</td>\n",
       "      <td>A</td>\n",
       "      <td>2019-08-07</td>\n",
       "      <td>7</td>\n",
       "      <td>36.000000</td>\n",
       "      <td>7</td>\n",
       "      <td>113</td>\n",
       "      <td>прием</td>\n",
       "    </tr>\n",
       "    <tr>\n",
       "      <th>5384</th>\n",
       "      <td>166582</td>\n",
       "      <td>2019-11-28</td>\n",
       "      <td>out</td>\n",
       "      <td>False</td>\n",
       "      <td>885876</td>\n",
       "      <td>False</td>\n",
       "      <td>34</td>\n",
       "      <td>5357</td>\n",
       "      <td>5973</td>\n",
       "      <td>A</td>\n",
       "      <td>2019-08-09</td>\n",
       "      <td>616</td>\n",
       "      <td>157.558824</td>\n",
       "      <td>18</td>\n",
       "      <td>111</td>\n",
       "      <td>прием</td>\n",
       "    </tr>\n",
       "    <tr>\n",
       "      <th>5385</th>\n",
       "      <td>166582</td>\n",
       "      <td>2019-11-28</td>\n",
       "      <td>out</td>\n",
       "      <td>False</td>\n",
       "      <td>885876</td>\n",
       "      <td>True</td>\n",
       "      <td>17</td>\n",
       "      <td>0</td>\n",
       "      <td>504</td>\n",
       "      <td>A</td>\n",
       "      <td>2019-08-09</td>\n",
       "      <td>504</td>\n",
       "      <td>0.000000</td>\n",
       "      <td>29</td>\n",
       "      <td>111</td>\n",
       "      <td>прием</td>\n",
       "    </tr>\n",
       "    <tr>\n",
       "      <th>22025</th>\n",
       "      <td>167200</td>\n",
       "      <td>2019-11-28</td>\n",
       "      <td>in</td>\n",
       "      <td>False</td>\n",
       "      <td>905862</td>\n",
       "      <td>False</td>\n",
       "      <td>3</td>\n",
       "      <td>218</td>\n",
       "      <td>256</td>\n",
       "      <td>C</td>\n",
       "      <td>2019-09-06</td>\n",
       "      <td>38</td>\n",
       "      <td>72.666667</td>\n",
       "      <td>12</td>\n",
       "      <td>83</td>\n",
       "      <td>прием</td>\n",
       "    </tr>\n",
       "    <tr>\n",
       "      <th>...</th>\n",
       "      <td>...</td>\n",
       "      <td>...</td>\n",
       "      <td>...</td>\n",
       "      <td>...</td>\n",
       "      <td>...</td>\n",
       "      <td>...</td>\n",
       "      <td>...</td>\n",
       "      <td>...</td>\n",
       "      <td>...</td>\n",
       "      <td>...</td>\n",
       "      <td>...</td>\n",
       "      <td>...</td>\n",
       "      <td>...</td>\n",
       "      <td>...</td>\n",
       "      <td>...</td>\n",
       "      <td>...</td>\n",
       "    </tr>\n",
       "    <tr>\n",
       "      <th>5064</th>\n",
       "      <td>166582</td>\n",
       "      <td>2019-08-13</td>\n",
       "      <td>in</td>\n",
       "      <td>False</td>\n",
       "      <td>885890</td>\n",
       "      <td>False</td>\n",
       "      <td>1</td>\n",
       "      <td>1</td>\n",
       "      <td>9</td>\n",
       "      <td>A</td>\n",
       "      <td>2019-08-09</td>\n",
       "      <td>8</td>\n",
       "      <td>1.000000</td>\n",
       "      <td>8</td>\n",
       "      <td>4</td>\n",
       "      <td>прием</td>\n",
       "    </tr>\n",
       "    <tr>\n",
       "      <th>5063</th>\n",
       "      <td>166582</td>\n",
       "      <td>2019-08-13</td>\n",
       "      <td>in</td>\n",
       "      <td>False</td>\n",
       "      <td>885890</td>\n",
       "      <td>False</td>\n",
       "      <td>15</td>\n",
       "      <td>1241</td>\n",
       "      <td>1442</td>\n",
       "      <td>A</td>\n",
       "      <td>2019-08-09</td>\n",
       "      <td>201</td>\n",
       "      <td>82.733333</td>\n",
       "      <td>13</td>\n",
       "      <td>4</td>\n",
       "      <td>прием</td>\n",
       "    </tr>\n",
       "    <tr>\n",
       "      <th>5060</th>\n",
       "      <td>166582</td>\n",
       "      <td>2019-08-12</td>\n",
       "      <td>out</td>\n",
       "      <td>False</td>\n",
       "      <td>885890</td>\n",
       "      <td>True</td>\n",
       "      <td>113</td>\n",
       "      <td>0</td>\n",
       "      <td>3691</td>\n",
       "      <td>A</td>\n",
       "      <td>2019-08-09</td>\n",
       "      <td>3691</td>\n",
       "      <td>0.000000</td>\n",
       "      <td>32</td>\n",
       "      <td>3</td>\n",
       "      <td>прием</td>\n",
       "    </tr>\n",
       "    <tr>\n",
       "      <th>5061</th>\n",
       "      <td>166582</td>\n",
       "      <td>2019-08-12</td>\n",
       "      <td>in</td>\n",
       "      <td>False</td>\n",
       "      <td>885890</td>\n",
       "      <td>False</td>\n",
       "      <td>5</td>\n",
       "      <td>532</td>\n",
       "      <td>570</td>\n",
       "      <td>A</td>\n",
       "      <td>2019-08-09</td>\n",
       "      <td>38</td>\n",
       "      <td>106.400000</td>\n",
       "      <td>7</td>\n",
       "      <td>3</td>\n",
       "      <td>прием</td>\n",
       "    </tr>\n",
       "    <tr>\n",
       "      <th>5059</th>\n",
       "      <td>166582</td>\n",
       "      <td>2019-08-12</td>\n",
       "      <td>in</td>\n",
       "      <td>False</td>\n",
       "      <td>885876</td>\n",
       "      <td>False</td>\n",
       "      <td>9</td>\n",
       "      <td>387</td>\n",
       "      <td>473</td>\n",
       "      <td>A</td>\n",
       "      <td>2019-08-09</td>\n",
       "      <td>86</td>\n",
       "      <td>43.000000</td>\n",
       "      <td>9</td>\n",
       "      <td>3</td>\n",
       "      <td>прием</td>\n",
       "    </tr>\n",
       "  </tbody>\n",
       "</table>\n",
       "<p>1282 rows × 16 columns</p>\n",
       "</div>"
      ],
      "text/plain": [
       "       user_id       date direction  internal  operator_id  is_missed_call  \\\n",
       "32654   167977 2019-11-28       out     False       944216            True   \n",
       "5057    166541 2019-11-28        in      True       908960           False   \n",
       "5384    166582 2019-11-28       out     False       885876           False   \n",
       "5385    166582 2019-11-28       out     False       885876            True   \n",
       "22025   167200 2019-11-28        in     False       905862           False   \n",
       "...        ...        ...       ...       ...          ...             ...   \n",
       "5064    166582 2019-08-13        in     False       885890           False   \n",
       "5063    166582 2019-08-13        in     False       885890           False   \n",
       "5060    166582 2019-08-12       out     False       885890            True   \n",
       "5061    166582 2019-08-12        in     False       885890           False   \n",
       "5059    166582 2019-08-12        in     False       885876           False   \n",
       "\n",
       "       calls_count  call_duration  total_call_duration tariff_plan date_start  \\\n",
       "32654            2              0                   71           B 2019-10-08   \n",
       "5057             1             36                   43           A 2019-08-07   \n",
       "5384            34           5357                 5973           A 2019-08-09   \n",
       "5385            17              0                  504           A 2019-08-09   \n",
       "22025            3            218                  256           C 2019-09-06   \n",
       "...            ...            ...                  ...         ...        ...   \n",
       "5064             1              1                    9           A 2019-08-09   \n",
       "5063            15           1241                 1442           A 2019-08-09   \n",
       "5060           113              0                 3691           A 2019-08-09   \n",
       "5061             5            532                  570           A 2019-08-09   \n",
       "5059             9            387                  473           A 2019-08-09   \n",
       "\n",
       "       wait_time   avg_callt  avg_waittm  lvt_oper_id   type  \n",
       "32654         71    0.000000          35           51  прием  \n",
       "5057           7   36.000000           7          113  прием  \n",
       "5384         616  157.558824          18          111  прием  \n",
       "5385         504    0.000000          29          111  прием  \n",
       "22025         38   72.666667          12           83  прием  \n",
       "...          ...         ...         ...          ...    ...  \n",
       "5064           8    1.000000           8            4  прием  \n",
       "5063         201   82.733333          13            4  прием  \n",
       "5060        3691    0.000000          32            3  прием  \n",
       "5061          38  106.400000           7            3  прием  \n",
       "5059          86   43.000000           9            3  прием  \n",
       "\n",
       "[1282 rows x 16 columns]"
      ]
     },
     "execution_count": 95,
     "metadata": {},
     "output_type": "execute_result"
    }
   ],
   "source": [
    "list_ineff_missed_call = df_in.query('operator_id in @list_ineff_missed_call').sort_values(by=['date'], ascending=False)\n",
    "list_ineff_missed_call"
   ]
  },
  {
   "cell_type": "code",
   "execution_count": 96,
   "metadata": {},
   "outputs": [
    {
     "data": {
      "text/html": [
       "<div>\n",
       "<style scoped>\n",
       "    .dataframe tbody tr th:only-of-type {\n",
       "        vertical-align: middle;\n",
       "    }\n",
       "\n",
       "    .dataframe tbody tr th {\n",
       "        vertical-align: top;\n",
       "    }\n",
       "\n",
       "    .dataframe thead th {\n",
       "        text-align: right;\n",
       "    }\n",
       "</style>\n",
       "<table border=\"1\" class=\"dataframe\">\n",
       "  <thead>\n",
       "    <tr style=\"text-align: right;\">\n",
       "      <th></th>\n",
       "      <th>user_id</th>\n",
       "      <th>operator_id</th>\n",
       "      <th>lvt_oper_id</th>\n",
       "    </tr>\n",
       "  </thead>\n",
       "  <tbody>\n",
       "    <tr>\n",
       "      <th>0</th>\n",
       "      <td>166541</td>\n",
       "      <td>908960</td>\n",
       "      <td>113</td>\n",
       "    </tr>\n",
       "    <tr>\n",
       "      <th>1</th>\n",
       "      <td>166582</td>\n",
       "      <td>885876</td>\n",
       "      <td>111</td>\n",
       "    </tr>\n",
       "    <tr>\n",
       "      <th>2</th>\n",
       "      <td>166582</td>\n",
       "      <td>885890</td>\n",
       "      <td>82</td>\n",
       "    </tr>\n",
       "    <tr>\n",
       "      <th>3</th>\n",
       "      <td>166582</td>\n",
       "      <td>925922</td>\n",
       "      <td>79</td>\n",
       "    </tr>\n",
       "    <tr>\n",
       "      <th>4</th>\n",
       "      <td>167071</td>\n",
       "      <td>913938</td>\n",
       "      <td>90</td>\n",
       "    </tr>\n",
       "    <tr>\n",
       "      <th>5</th>\n",
       "      <td>167071</td>\n",
       "      <td>913942</td>\n",
       "      <td>90</td>\n",
       "    </tr>\n",
       "    <tr>\n",
       "      <th>6</th>\n",
       "      <td>167162</td>\n",
       "      <td>905300</td>\n",
       "      <td>69</td>\n",
       "    </tr>\n",
       "    <tr>\n",
       "      <th>7</th>\n",
       "      <td>167200</td>\n",
       "      <td>905862</td>\n",
       "      <td>83</td>\n",
       "    </tr>\n",
       "    <tr>\n",
       "      <th>8</th>\n",
       "      <td>167977</td>\n",
       "      <td>944216</td>\n",
       "      <td>51</td>\n",
       "    </tr>\n",
       "    <tr>\n",
       "      <th>9</th>\n",
       "      <td>167977</td>\n",
       "      <td>944218</td>\n",
       "      <td>51</td>\n",
       "    </tr>\n",
       "    <tr>\n",
       "      <th>10</th>\n",
       "      <td>167977</td>\n",
       "      <td>944220</td>\n",
       "      <td>51</td>\n",
       "    </tr>\n",
       "    <tr>\n",
       "      <th>11</th>\n",
       "      <td>167977</td>\n",
       "      <td>944222</td>\n",
       "      <td>51</td>\n",
       "    </tr>\n",
       "    <tr>\n",
       "      <th>12</th>\n",
       "      <td>167977</td>\n",
       "      <td>944226</td>\n",
       "      <td>51</td>\n",
       "    </tr>\n",
       "  </tbody>\n",
       "</table>\n",
       "</div>"
      ],
      "text/plain": [
       "    user_id  operator_id  lvt_oper_id\n",
       "0    166541       908960          113\n",
       "1    166582       885876          111\n",
       "2    166582       885890           82\n",
       "3    166582       925922           79\n",
       "4    167071       913938           90\n",
       "5    167071       913942           90\n",
       "6    167162       905300           69\n",
       "7    167200       905862           83\n",
       "8    167977       944216           51\n",
       "9    167977       944218           51\n",
       "10   167977       944220           51\n",
       "11   167977       944222           51\n",
       "12   167977       944226           51"
      ]
     },
     "execution_count": 96,
     "metadata": {},
     "output_type": "execute_result"
    }
   ],
   "source": [
    "# Сгруппируем \n",
    "ineff_missed_call_graf = list_ineff_missed_call.groupby(['user_id', 'operator_id'])['lvt_oper_id'].first().reset_index()\n",
    "ineff_missed_call_graf"
   ]
  },
  {
   "cell_type": "code",
   "execution_count": 97,
   "metadata": {},
   "outputs": [
    {
     "data": {
      "text/html": [
       "<div>\n",
       "<style scoped>\n",
       "    .dataframe tbody tr th:only-of-type {\n",
       "        vertical-align: middle;\n",
       "    }\n",
       "\n",
       "    .dataframe tbody tr th {\n",
       "        vertical-align: top;\n",
       "    }\n",
       "\n",
       "    .dataframe thead th {\n",
       "        text-align: right;\n",
       "    }\n",
       "</style>\n",
       "<table border=\"1\" class=\"dataframe\">\n",
       "  <thead>\n",
       "    <tr style=\"text-align: right;\">\n",
       "      <th></th>\n",
       "      <th>user_id</th>\n",
       "      <th>operator_id</th>\n",
       "      <th>lvt_oper_id</th>\n",
       "      <th>count_missed</th>\n",
       "    </tr>\n",
       "  </thead>\n",
       "  <tbody>\n",
       "    <tr>\n",
       "      <th>0</th>\n",
       "      <td>166541</td>\n",
       "      <td>908960</td>\n",
       "      <td>113</td>\n",
       "      <td>8</td>\n",
       "    </tr>\n",
       "    <tr>\n",
       "      <th>1</th>\n",
       "      <td>166582</td>\n",
       "      <td>885876</td>\n",
       "      <td>111</td>\n",
       "      <td>14</td>\n",
       "    </tr>\n",
       "    <tr>\n",
       "      <th>2</th>\n",
       "      <td>166582</td>\n",
       "      <td>885890</td>\n",
       "      <td>82</td>\n",
       "      <td>21</td>\n",
       "    </tr>\n",
       "    <tr>\n",
       "      <th>3</th>\n",
       "      <td>166582</td>\n",
       "      <td>925922</td>\n",
       "      <td>79</td>\n",
       "      <td>6</td>\n",
       "    </tr>\n",
       "    <tr>\n",
       "      <th>4</th>\n",
       "      <td>167071</td>\n",
       "      <td>913938</td>\n",
       "      <td>90</td>\n",
       "      <td>13</td>\n",
       "    </tr>\n",
       "    <tr>\n",
       "      <th>5</th>\n",
       "      <td>167071</td>\n",
       "      <td>913942</td>\n",
       "      <td>90</td>\n",
       "      <td>11</td>\n",
       "    </tr>\n",
       "    <tr>\n",
       "      <th>6</th>\n",
       "      <td>167162</td>\n",
       "      <td>905300</td>\n",
       "      <td>69</td>\n",
       "      <td>6</td>\n",
       "    </tr>\n",
       "    <tr>\n",
       "      <th>7</th>\n",
       "      <td>167200</td>\n",
       "      <td>905862</td>\n",
       "      <td>83</td>\n",
       "      <td>15</td>\n",
       "    </tr>\n",
       "    <tr>\n",
       "      <th>8</th>\n",
       "      <td>167977</td>\n",
       "      <td>944216</td>\n",
       "      <td>51</td>\n",
       "      <td>16</td>\n",
       "    </tr>\n",
       "    <tr>\n",
       "      <th>9</th>\n",
       "      <td>167977</td>\n",
       "      <td>944218</td>\n",
       "      <td>51</td>\n",
       "      <td>14</td>\n",
       "    </tr>\n",
       "    <tr>\n",
       "      <th>10</th>\n",
       "      <td>167977</td>\n",
       "      <td>944220</td>\n",
       "      <td>51</td>\n",
       "      <td>17</td>\n",
       "    </tr>\n",
       "    <tr>\n",
       "      <th>11</th>\n",
       "      <td>167977</td>\n",
       "      <td>944222</td>\n",
       "      <td>51</td>\n",
       "      <td>15</td>\n",
       "    </tr>\n",
       "    <tr>\n",
       "      <th>12</th>\n",
       "      <td>167977</td>\n",
       "      <td>944226</td>\n",
       "      <td>51</td>\n",
       "      <td>28</td>\n",
       "    </tr>\n",
       "  </tbody>\n",
       "</table>\n",
       "</div>"
      ],
      "text/plain": [
       "    user_id  operator_id  lvt_oper_id  count_missed\n",
       "0    166541       908960          113             8\n",
       "1    166582       885876          111            14\n",
       "2    166582       885890           82            21\n",
       "3    166582       925922           79             6\n",
       "4    167071       913938           90            13\n",
       "5    167071       913942           90            11\n",
       "6    167162       905300           69             6\n",
       "7    167200       905862           83            15\n",
       "8    167977       944216           51            16\n",
       "9    167977       944218           51            14\n",
       "10   167977       944220           51            17\n",
       "11   167977       944222           51            15\n",
       "12   167977       944226           51            28"
      ]
     },
     "execution_count": 97,
     "metadata": {},
     "output_type": "execute_result"
    }
   ],
   "source": [
    "ineff_missed_call = ineff_missed_call[['operator_id', 'count_missed']]\n",
    "ineff_missed_call_graf = ineff_missed_call_graf.merge(ineff_missed_call, on='operator_id', how='left')\n",
    "ineff_missed_call_graf"
   ]
  },
  {
   "cell_type": "code",
   "execution_count": 98,
   "metadata": {},
   "outputs": [
    {
     "data": {
      "text/html": [
       "<div>\n",
       "<style scoped>\n",
       "    .dataframe tbody tr th:only-of-type {\n",
       "        vertical-align: middle;\n",
       "    }\n",
       "\n",
       "    .dataframe tbody tr th {\n",
       "        vertical-align: top;\n",
       "    }\n",
       "\n",
       "    .dataframe thead th {\n",
       "        text-align: right;\n",
       "    }\n",
       "</style>\n",
       "<table border=\"1\" class=\"dataframe\">\n",
       "  <thead>\n",
       "    <tr style=\"text-align: right;\">\n",
       "      <th></th>\n",
       "      <th>user_id</th>\n",
       "      <th>operator_id</th>\n",
       "      <th>lvt_oper_id</th>\n",
       "      <th>count_missed</th>\n",
       "      <th>пропущенные_относительно_лайфтайма</th>\n",
       "    </tr>\n",
       "  </thead>\n",
       "  <tbody>\n",
       "    <tr>\n",
       "      <th>12</th>\n",
       "      <td>167977</td>\n",
       "      <td>944226</td>\n",
       "      <td>51</td>\n",
       "      <td>28</td>\n",
       "      <td>54.9</td>\n",
       "    </tr>\n",
       "    <tr>\n",
       "      <th>10</th>\n",
       "      <td>167977</td>\n",
       "      <td>944220</td>\n",
       "      <td>51</td>\n",
       "      <td>17</td>\n",
       "      <td>33.3</td>\n",
       "    </tr>\n",
       "    <tr>\n",
       "      <th>8</th>\n",
       "      <td>167977</td>\n",
       "      <td>944216</td>\n",
       "      <td>51</td>\n",
       "      <td>16</td>\n",
       "      <td>31.4</td>\n",
       "    </tr>\n",
       "    <tr>\n",
       "      <th>11</th>\n",
       "      <td>167977</td>\n",
       "      <td>944222</td>\n",
       "      <td>51</td>\n",
       "      <td>15</td>\n",
       "      <td>29.4</td>\n",
       "    </tr>\n",
       "    <tr>\n",
       "      <th>9</th>\n",
       "      <td>167977</td>\n",
       "      <td>944218</td>\n",
       "      <td>51</td>\n",
       "      <td>14</td>\n",
       "      <td>27.5</td>\n",
       "    </tr>\n",
       "    <tr>\n",
       "      <th>2</th>\n",
       "      <td>166582</td>\n",
       "      <td>885890</td>\n",
       "      <td>82</td>\n",
       "      <td>21</td>\n",
       "      <td>25.6</td>\n",
       "    </tr>\n",
       "    <tr>\n",
       "      <th>7</th>\n",
       "      <td>167200</td>\n",
       "      <td>905862</td>\n",
       "      <td>83</td>\n",
       "      <td>15</td>\n",
       "      <td>18.1</td>\n",
       "    </tr>\n",
       "    <tr>\n",
       "      <th>4</th>\n",
       "      <td>167071</td>\n",
       "      <td>913938</td>\n",
       "      <td>90</td>\n",
       "      <td>13</td>\n",
       "      <td>14.4</td>\n",
       "    </tr>\n",
       "    <tr>\n",
       "      <th>1</th>\n",
       "      <td>166582</td>\n",
       "      <td>885876</td>\n",
       "      <td>111</td>\n",
       "      <td>14</td>\n",
       "      <td>12.6</td>\n",
       "    </tr>\n",
       "    <tr>\n",
       "      <th>5</th>\n",
       "      <td>167071</td>\n",
       "      <td>913942</td>\n",
       "      <td>90</td>\n",
       "      <td>11</td>\n",
       "      <td>12.2</td>\n",
       "    </tr>\n",
       "    <tr>\n",
       "      <th>6</th>\n",
       "      <td>167162</td>\n",
       "      <td>905300</td>\n",
       "      <td>69</td>\n",
       "      <td>6</td>\n",
       "      <td>8.7</td>\n",
       "    </tr>\n",
       "    <tr>\n",
       "      <th>3</th>\n",
       "      <td>166582</td>\n",
       "      <td>925922</td>\n",
       "      <td>79</td>\n",
       "      <td>6</td>\n",
       "      <td>7.6</td>\n",
       "    </tr>\n",
       "    <tr>\n",
       "      <th>0</th>\n",
       "      <td>166541</td>\n",
       "      <td>908960</td>\n",
       "      <td>113</td>\n",
       "      <td>8</td>\n",
       "      <td>7.1</td>\n",
       "    </tr>\n",
       "  </tbody>\n",
       "</table>\n",
       "</div>"
      ],
      "text/plain": [
       "    user_id  operator_id  lvt_oper_id  count_missed  \\\n",
       "12   167977       944226           51            28   \n",
       "10   167977       944220           51            17   \n",
       "8    167977       944216           51            16   \n",
       "11   167977       944222           51            15   \n",
       "9    167977       944218           51            14   \n",
       "2    166582       885890           82            21   \n",
       "7    167200       905862           83            15   \n",
       "4    167071       913938           90            13   \n",
       "1    166582       885876          111            14   \n",
       "5    167071       913942           90            11   \n",
       "6    167162       905300           69             6   \n",
       "3    166582       925922           79             6   \n",
       "0    166541       908960          113             8   \n",
       "\n",
       "    пропущенные_относительно_лайфтайма  \n",
       "12                                54.9  \n",
       "10                                33.3  \n",
       "8                                 31.4  \n",
       "11                                29.4  \n",
       "9                                 27.5  \n",
       "2                                 25.6  \n",
       "7                                 18.1  \n",
       "4                                 14.4  \n",
       "1                                 12.6  \n",
       "5                                 12.2  \n",
       "6                                  8.7  \n",
       "3                                  7.6  \n",
       "0                                  7.1  "
      ]
     },
     "execution_count": 98,
     "metadata": {},
     "output_type": "execute_result"
    }
   ],
   "source": [
    "ineff_missed_call_graf['пропущенные_относительно_лайфтайма'] = round(((ineff_missed_call_graf['count_missed'] / ineff_missed_call_graf['lvt_oper_id'])*100),1)\n",
    "ineff_missed_call_graf.sort_values(by=['пропущенные_относительно_лайфтайма'], ascending=False)\n"
   ]
  },
  {
   "cell_type": "code",
   "execution_count": 99,
   "metadata": {},
   "outputs": [],
   "source": [
    "list_mse = mse['operator_id']"
   ]
  },
  {
   "cell_type": "code",
   "execution_count": 100,
   "metadata": {},
   "outputs": [
    {
     "data": {
      "text/html": [
       "<div>\n",
       "<style scoped>\n",
       "    .dataframe tbody tr th:only-of-type {\n",
       "        vertical-align: middle;\n",
       "    }\n",
       "\n",
       "    .dataframe tbody tr th {\n",
       "        vertical-align: top;\n",
       "    }\n",
       "\n",
       "    .dataframe thead th {\n",
       "        text-align: right;\n",
       "    }\n",
       "</style>\n",
       "<table border=\"1\" class=\"dataframe\">\n",
       "  <thead>\n",
       "    <tr style=\"text-align: right;\">\n",
       "      <th></th>\n",
       "      <th>user_id</th>\n",
       "      <th>date</th>\n",
       "      <th>direction</th>\n",
       "      <th>internal</th>\n",
       "      <th>operator_id</th>\n",
       "      <th>is_missed_call</th>\n",
       "      <th>calls_count</th>\n",
       "      <th>call_duration</th>\n",
       "      <th>total_call_duration</th>\n",
       "      <th>tariff_plan</th>\n",
       "      <th>date_start</th>\n",
       "      <th>wait_time</th>\n",
       "      <th>avg_callt</th>\n",
       "      <th>avg_waittm</th>\n",
       "      <th>lvt_oper_id</th>\n",
       "      <th>type</th>\n",
       "    </tr>\n",
       "  </thead>\n",
       "  <tbody>\n",
       "    <tr>\n",
       "      <th>16746</th>\n",
       "      <td>167059</td>\n",
       "      <td>2019-11-28</td>\n",
       "      <td>in</td>\n",
       "      <td>False</td>\n",
       "      <td>911142</td>\n",
       "      <td>False</td>\n",
       "      <td>1</td>\n",
       "      <td>20</td>\n",
       "      <td>75</td>\n",
       "      <td>C</td>\n",
       "      <td>2019-08-29</td>\n",
       "      <td>55</td>\n",
       "      <td>20.00</td>\n",
       "      <td>55</td>\n",
       "      <td>91</td>\n",
       "      <td>прием</td>\n",
       "    </tr>\n",
       "    <tr>\n",
       "      <th>5707</th>\n",
       "      <td>166636</td>\n",
       "      <td>2019-11-28</td>\n",
       "      <td>out</td>\n",
       "      <td>False</td>\n",
       "      <td>890582</td>\n",
       "      <td>False</td>\n",
       "      <td>4</td>\n",
       "      <td>426</td>\n",
       "      <td>480</td>\n",
       "      <td>C</td>\n",
       "      <td>2019-08-12</td>\n",
       "      <td>54</td>\n",
       "      <td>106.50</td>\n",
       "      <td>13</td>\n",
       "      <td>108</td>\n",
       "      <td>прием</td>\n",
       "    </tr>\n",
       "    <tr>\n",
       "      <th>31257</th>\n",
       "      <td>167852</td>\n",
       "      <td>2019-11-28</td>\n",
       "      <td>in</td>\n",
       "      <td>False</td>\n",
       "      <td>932798</td>\n",
       "      <td>False</td>\n",
       "      <td>1</td>\n",
       "      <td>59</td>\n",
       "      <td>64</td>\n",
       "      <td>C</td>\n",
       "      <td>2019-10-02</td>\n",
       "      <td>5</td>\n",
       "      <td>59.00</td>\n",
       "      <td>5</td>\n",
       "      <td>57</td>\n",
       "      <td>прием</td>\n",
       "    </tr>\n",
       "    <tr>\n",
       "      <th>5581</th>\n",
       "      <td>166604</td>\n",
       "      <td>2019-11-28</td>\n",
       "      <td>in</td>\n",
       "      <td>False</td>\n",
       "      <td>893402</td>\n",
       "      <td>False</td>\n",
       "      <td>50</td>\n",
       "      <td>1013</td>\n",
       "      <td>2437</td>\n",
       "      <td>C</td>\n",
       "      <td>2019-08-12</td>\n",
       "      <td>1424</td>\n",
       "      <td>20.26</td>\n",
       "      <td>28</td>\n",
       "      <td>108</td>\n",
       "      <td>прием</td>\n",
       "    </tr>\n",
       "    <tr>\n",
       "      <th>5055</th>\n",
       "      <td>166541</td>\n",
       "      <td>2019-11-28</td>\n",
       "      <td>out</td>\n",
       "      <td>False</td>\n",
       "      <td>908960</td>\n",
       "      <td>True</td>\n",
       "      <td>1</td>\n",
       "      <td>0</td>\n",
       "      <td>7</td>\n",
       "      <td>A</td>\n",
       "      <td>2019-08-07</td>\n",
       "      <td>7</td>\n",
       "      <td>0.00</td>\n",
       "      <td>7</td>\n",
       "      <td>113</td>\n",
       "      <td>прием</td>\n",
       "    </tr>\n",
       "  </tbody>\n",
       "</table>\n",
       "</div>"
      ],
      "text/plain": [
       "       user_id       date direction  internal  operator_id  is_missed_call  \\\n",
       "16746   167059 2019-11-28        in     False       911142           False   \n",
       "5707    166636 2019-11-28       out     False       890582           False   \n",
       "31257   167852 2019-11-28        in     False       932798           False   \n",
       "5581    166604 2019-11-28        in     False       893402           False   \n",
       "5055    166541 2019-11-28       out     False       908960            True   \n",
       "\n",
       "       calls_count  call_duration  total_call_duration tariff_plan date_start  \\\n",
       "16746            1             20                   75           C 2019-08-29   \n",
       "5707             4            426                  480           C 2019-08-12   \n",
       "31257            1             59                   64           C 2019-10-02   \n",
       "5581            50           1013                 2437           C 2019-08-12   \n",
       "5055             1              0                    7           A 2019-08-07   \n",
       "\n",
       "       wait_time  avg_callt  avg_waittm  lvt_oper_id   type  \n",
       "16746         55      20.00          55           91  прием  \n",
       "5707          54     106.50          13          108  прием  \n",
       "31257          5      59.00           5           57  прием  \n",
       "5581        1424      20.26          28          108  прием  \n",
       "5055           7       0.00           7          113  прием  "
      ]
     },
     "execution_count": 100,
     "metadata": {},
     "output_type": "execute_result"
    }
   ],
   "source": [
    "list_mse = df_in.query('operator_id in @list_mse').sort_values(by=['date'], ascending=False)\n",
    "list_mse.head()"
   ]
  },
  {
   "cell_type": "code",
   "execution_count": 101,
   "metadata": {
    "scrolled": true
   },
   "outputs": [
    {
     "data": {
      "text/html": [
       "<div>\n",
       "<style scoped>\n",
       "    .dataframe tbody tr th:only-of-type {\n",
       "        vertical-align: middle;\n",
       "    }\n",
       "\n",
       "    .dataframe tbody tr th {\n",
       "        vertical-align: top;\n",
       "    }\n",
       "\n",
       "    .dataframe thead th {\n",
       "        text-align: right;\n",
       "    }\n",
       "</style>\n",
       "<table border=\"1\" class=\"dataframe\">\n",
       "  <thead>\n",
       "    <tr style=\"text-align: right;\">\n",
       "      <th></th>\n",
       "      <th>user_id</th>\n",
       "      <th>operator_id</th>\n",
       "      <th>lvt_oper_id</th>\n",
       "    </tr>\n",
       "  </thead>\n",
       "  <tbody>\n",
       "    <tr>\n",
       "      <th>0</th>\n",
       "      <td>166428</td>\n",
       "      <td>882680</td>\n",
       "      <td>118</td>\n",
       "    </tr>\n",
       "    <tr>\n",
       "      <th>1</th>\n",
       "      <td>166482</td>\n",
       "      <td>934076</td>\n",
       "      <td>104</td>\n",
       "    </tr>\n",
       "    <tr>\n",
       "      <th>2</th>\n",
       "      <td>166541</td>\n",
       "      <td>908960</td>\n",
       "      <td>113</td>\n",
       "    </tr>\n",
       "    <tr>\n",
       "      <th>3</th>\n",
       "      <td>166582</td>\n",
       "      <td>885876</td>\n",
       "      <td>111</td>\n",
       "    </tr>\n",
       "    <tr>\n",
       "      <th>4</th>\n",
       "      <td>166582</td>\n",
       "      <td>885890</td>\n",
       "      <td>82</td>\n",
       "    </tr>\n",
       "    <tr>\n",
       "      <th>5</th>\n",
       "      <td>166582</td>\n",
       "      <td>925922</td>\n",
       "      <td>79</td>\n",
       "    </tr>\n",
       "    <tr>\n",
       "      <th>6</th>\n",
       "      <td>166604</td>\n",
       "      <td>893402</td>\n",
       "      <td>108</td>\n",
       "    </tr>\n",
       "    <tr>\n",
       "      <th>7</th>\n",
       "      <td>166604</td>\n",
       "      <td>893420</td>\n",
       "      <td>108</td>\n",
       "    </tr>\n",
       "    <tr>\n",
       "      <th>8</th>\n",
       "      <td>166636</td>\n",
       "      <td>890582</td>\n",
       "      <td>108</td>\n",
       "    </tr>\n",
       "    <tr>\n",
       "      <th>9</th>\n",
       "      <td>166669</td>\n",
       "      <td>888406</td>\n",
       "      <td>94</td>\n",
       "    </tr>\n",
       "  </tbody>\n",
       "</table>\n",
       "</div>"
      ],
      "text/plain": [
       "   user_id  operator_id  lvt_oper_id\n",
       "0   166428       882680          118\n",
       "1   166482       934076          104\n",
       "2   166541       908960          113\n",
       "3   166582       885876          111\n",
       "4   166582       885890           82\n",
       "5   166582       925922           79\n",
       "6   166604       893402          108\n",
       "7   166604       893420          108\n",
       "8   166636       890582          108\n",
       "9   166669       888406           94"
      ]
     },
     "execution_count": 101,
     "metadata": {},
     "output_type": "execute_result"
    }
   ],
   "source": [
    "# Сгруппируем \n",
    "list_mse_graf = list_mse.groupby(['user_id', 'operator_id'])['lvt_oper_id'].max().reset_index()\n",
    "list_mse_graf.head(10)"
   ]
  },
  {
   "cell_type": "code",
   "execution_count": 102,
   "metadata": {},
   "outputs": [
    {
     "data": {
      "text/html": [
       "<div>\n",
       "<style scoped>\n",
       "    .dataframe tbody tr th:only-of-type {\n",
       "        vertical-align: middle;\n",
       "    }\n",
       "\n",
       "    .dataframe tbody tr th {\n",
       "        vertical-align: top;\n",
       "    }\n",
       "\n",
       "    .dataframe thead th {\n",
       "        text-align: right;\n",
       "    }\n",
       "</style>\n",
       "<table border=\"1\" class=\"dataframe\">\n",
       "  <thead>\n",
       "    <tr style=\"text-align: right;\">\n",
       "      <th></th>\n",
       "      <th>user_id</th>\n",
       "      <th>operator_id</th>\n",
       "      <th>lvt_oper_id</th>\n",
       "      <th>count_missed</th>\n",
       "    </tr>\n",
       "  </thead>\n",
       "  <tbody>\n",
       "    <tr>\n",
       "      <th>0</th>\n",
       "      <td>166428</td>\n",
       "      <td>882680</td>\n",
       "      <td>118</td>\n",
       "      <td>3</td>\n",
       "    </tr>\n",
       "    <tr>\n",
       "      <th>1</th>\n",
       "      <td>166482</td>\n",
       "      <td>934076</td>\n",
       "      <td>104</td>\n",
       "      <td>1</td>\n",
       "    </tr>\n",
       "    <tr>\n",
       "      <th>2</th>\n",
       "      <td>166541</td>\n",
       "      <td>908960</td>\n",
       "      <td>113</td>\n",
       "      <td>8</td>\n",
       "    </tr>\n",
       "    <tr>\n",
       "      <th>3</th>\n",
       "      <td>166582</td>\n",
       "      <td>885876</td>\n",
       "      <td>111</td>\n",
       "      <td>14</td>\n",
       "    </tr>\n",
       "    <tr>\n",
       "      <th>4</th>\n",
       "      <td>166582</td>\n",
       "      <td>885890</td>\n",
       "      <td>82</td>\n",
       "      <td>21</td>\n",
       "    </tr>\n",
       "  </tbody>\n",
       "</table>\n",
       "</div>"
      ],
      "text/plain": [
       "   user_id  operator_id  lvt_oper_id  count_missed\n",
       "0   166428       882680          118             3\n",
       "1   166482       934076          104             1\n",
       "2   166541       908960          113             8\n",
       "3   166582       885876          111            14\n",
       "4   166582       885890           82            21"
      ]
     },
     "execution_count": 102,
     "metadata": {},
     "output_type": "execute_result"
    }
   ],
   "source": [
    "mse = mse[['operator_id', 'count_missed']]\n",
    "list_mse_graf = list_mse_graf.merge(mse, on='operator_id', how='left')\n",
    "list_mse_graf.head()"
   ]
  },
  {
   "cell_type": "code",
   "execution_count": 103,
   "metadata": {
    "scrolled": true
   },
   "outputs": [
    {
     "data": {
      "text/html": [
       "<div>\n",
       "<style scoped>\n",
       "    .dataframe tbody tr th:only-of-type {\n",
       "        vertical-align: middle;\n",
       "    }\n",
       "\n",
       "    .dataframe tbody tr th {\n",
       "        vertical-align: top;\n",
       "    }\n",
       "\n",
       "    .dataframe thead th {\n",
       "        text-align: right;\n",
       "    }\n",
       "</style>\n",
       "<table border=\"1\" class=\"dataframe\">\n",
       "  <thead>\n",
       "    <tr style=\"text-align: right;\">\n",
       "      <th></th>\n",
       "      <th>user_id</th>\n",
       "      <th>operator_id</th>\n",
       "      <th>lvt_oper_id</th>\n",
       "      <th>count_missed</th>\n",
       "      <th>процент_пропущенных_относительно_лайфтайма</th>\n",
       "    </tr>\n",
       "  </thead>\n",
       "  <tbody>\n",
       "    <tr>\n",
       "      <th>46</th>\n",
       "      <td>167977</td>\n",
       "      <td>944226</td>\n",
       "      <td>51</td>\n",
       "      <td>28</td>\n",
       "      <td>54.9</td>\n",
       "    </tr>\n",
       "    <tr>\n",
       "      <th>44</th>\n",
       "      <td>167977</td>\n",
       "      <td>944220</td>\n",
       "      <td>51</td>\n",
       "      <td>17</td>\n",
       "      <td>33.3</td>\n",
       "    </tr>\n",
       "    <tr>\n",
       "      <th>42</th>\n",
       "      <td>167977</td>\n",
       "      <td>944216</td>\n",
       "      <td>51</td>\n",
       "      <td>16</td>\n",
       "      <td>31.4</td>\n",
       "    </tr>\n",
       "    <tr>\n",
       "      <th>45</th>\n",
       "      <td>167977</td>\n",
       "      <td>944222</td>\n",
       "      <td>51</td>\n",
       "      <td>15</td>\n",
       "      <td>29.4</td>\n",
       "    </tr>\n",
       "    <tr>\n",
       "      <th>43</th>\n",
       "      <td>167977</td>\n",
       "      <td>944218</td>\n",
       "      <td>51</td>\n",
       "      <td>14</td>\n",
       "      <td>27.5</td>\n",
       "    </tr>\n",
       "    <tr>\n",
       "      <th>4</th>\n",
       "      <td>166582</td>\n",
       "      <td>885890</td>\n",
       "      <td>82</td>\n",
       "      <td>21</td>\n",
       "      <td>25.6</td>\n",
       "    </tr>\n",
       "    <tr>\n",
       "      <th>49</th>\n",
       "      <td>168307</td>\n",
       "      <td>945046</td>\n",
       "      <td>11</td>\n",
       "      <td>2</td>\n",
       "      <td>18.2</td>\n",
       "    </tr>\n",
       "    <tr>\n",
       "      <th>31</th>\n",
       "      <td>167200</td>\n",
       "      <td>905862</td>\n",
       "      <td>83</td>\n",
       "      <td>15</td>\n",
       "      <td>18.1</td>\n",
       "    </tr>\n",
       "    <tr>\n",
       "      <th>22</th>\n",
       "      <td>167071</td>\n",
       "      <td>913938</td>\n",
       "      <td>90</td>\n",
       "      <td>13</td>\n",
       "      <td>14.4</td>\n",
       "    </tr>\n",
       "    <tr>\n",
       "      <th>3</th>\n",
       "      <td>166582</td>\n",
       "      <td>885876</td>\n",
       "      <td>111</td>\n",
       "      <td>14</td>\n",
       "      <td>12.6</td>\n",
       "    </tr>\n",
       "  </tbody>\n",
       "</table>\n",
       "</div>"
      ],
      "text/plain": [
       "    user_id  operator_id  lvt_oper_id  count_missed  \\\n",
       "46   167977       944226           51            28   \n",
       "44   167977       944220           51            17   \n",
       "42   167977       944216           51            16   \n",
       "45   167977       944222           51            15   \n",
       "43   167977       944218           51            14   \n",
       "4    166582       885890           82            21   \n",
       "49   168307       945046           11             2   \n",
       "31   167200       905862           83            15   \n",
       "22   167071       913938           90            13   \n",
       "3    166582       885876          111            14   \n",
       "\n",
       "    процент_пропущенных_относительно_лайфтайма  \n",
       "46                                        54.9  \n",
       "44                                        33.3  \n",
       "42                                        31.4  \n",
       "45                                        29.4  \n",
       "43                                        27.5  \n",
       "4                                         25.6  \n",
       "49                                        18.2  \n",
       "31                                        18.1  \n",
       "22                                        14.4  \n",
       "3                                         12.6  "
      ]
     },
     "execution_count": 103,
     "metadata": {},
     "output_type": "execute_result"
    }
   ],
   "source": [
    "list_mse_graf['процент_пропущенных_относительно_лайфтайма'] = round(((list_mse_graf['count_missed'] / list_mse_graf['lvt_oper_id'])*100),1)\n",
    "list_mse_graf = list_mse_graf.sort_values(by=['процент_пропущенных_относительно_лайфтайма'], ascending=False)\n",
    "list_mse_graf.head(10)"
   ]
  },
  {
   "cell_type": "markdown",
   "metadata": {},
   "source": [
    "Топ 10 с самой высокой долей внешних пропущенных вызовов"
   ]
  },
  {
   "cell_type": "code",
   "execution_count": 104,
   "metadata": {},
   "outputs": [
    {
     "data": {
      "text/html": [
       "<div>\n",
       "<style scoped>\n",
       "    .dataframe tbody tr th:only-of-type {\n",
       "        vertical-align: middle;\n",
       "    }\n",
       "\n",
       "    .dataframe tbody tr th {\n",
       "        vertical-align: top;\n",
       "    }\n",
       "\n",
       "    .dataframe thead th {\n",
       "        text-align: right;\n",
       "    }\n",
       "</style>\n",
       "<table border=\"1\" class=\"dataframe\">\n",
       "  <thead>\n",
       "    <tr style=\"text-align: right;\">\n",
       "      <th></th>\n",
       "      <th>процент_пропущенных_относительно_лайфтайма</th>\n",
       "      <th>operator_id</th>\n",
       "    </tr>\n",
       "  </thead>\n",
       "  <tbody>\n",
       "    <tr>\n",
       "      <th>46</th>\n",
       "      <td>54.9</td>\n",
       "      <td>944226</td>\n",
       "    </tr>\n",
       "    <tr>\n",
       "      <th>44</th>\n",
       "      <td>33.3</td>\n",
       "      <td>944220</td>\n",
       "    </tr>\n",
       "    <tr>\n",
       "      <th>42</th>\n",
       "      <td>31.4</td>\n",
       "      <td>944216</td>\n",
       "    </tr>\n",
       "    <tr>\n",
       "      <th>45</th>\n",
       "      <td>29.4</td>\n",
       "      <td>944222</td>\n",
       "    </tr>\n",
       "    <tr>\n",
       "      <th>43</th>\n",
       "      <td>27.5</td>\n",
       "      <td>944218</td>\n",
       "    </tr>\n",
       "    <tr>\n",
       "      <th>4</th>\n",
       "      <td>25.6</td>\n",
       "      <td>885890</td>\n",
       "    </tr>\n",
       "    <tr>\n",
       "      <th>49</th>\n",
       "      <td>18.2</td>\n",
       "      <td>945046</td>\n",
       "    </tr>\n",
       "    <tr>\n",
       "      <th>31</th>\n",
       "      <td>18.1</td>\n",
       "      <td>905862</td>\n",
       "    </tr>\n",
       "    <tr>\n",
       "      <th>22</th>\n",
       "      <td>14.4</td>\n",
       "      <td>913938</td>\n",
       "    </tr>\n",
       "    <tr>\n",
       "      <th>3</th>\n",
       "      <td>12.6</td>\n",
       "      <td>885876</td>\n",
       "    </tr>\n",
       "  </tbody>\n",
       "</table>\n",
       "</div>"
      ],
      "text/plain": [
       "    процент_пропущенных_относительно_лайфтайма  operator_id\n",
       "46                                        54.9       944226\n",
       "44                                        33.3       944220\n",
       "42                                        31.4       944216\n",
       "45                                        29.4       944222\n",
       "43                                        27.5       944218\n",
       "4                                         25.6       885890\n",
       "49                                        18.2       945046\n",
       "31                                        18.1       905862\n",
       "22                                        14.4       913938\n",
       "3                                         12.6       885876"
      ]
     },
     "execution_count": 104,
     "metadata": {},
     "output_type": "execute_result"
    }
   ],
   "source": [
    "list_mse_graf = list_mse_graf.head(10)\n",
    "list_mse_graf = list_mse_graf[['процент_пропущенных_относительно_лайфтайма', 'operator_id']]\n",
    "list_mse_graf"
   ]
  },
  {
   "cell_type": "code",
   "execution_count": 105,
   "metadata": {},
   "outputs": [
    {
     "data": {
      "image/png": "[encoded data removed]",
      "text/plain": [
       "<Figure size 1080x360 with 1 Axes>"
      ]
     },
     "metadata": {
      "needs_background": "light"
     },
     "output_type": "display_data"
    }
   ],
   "source": [
    "plt.figure(figsize=(15,5))\n",
    "sns.barplot(data=list_mse_graf, y='процент_пропущенных_относительно_лайфтайма', \n",
    "            x=\"operator_id\", \n",
    "            palette=sns.color_palette(\"BuGn_r\", n_colors=len(list_mse_graf)),\n",
    "           order=list_mse_graf.groupby('operator_id')['процент_пропущенных_относительно_лайфтайма'].agg('mean').sort_values(ascending=False).index)\n",
    "plt.title('Топ 10 операторов с самой высокой долей внешних пропущенных вызовов')\n",
    "plt.xlabel('operator_id')\n",
    "plt.ylabel('процент_пропущенных_относительно_лайфтайма')\n",
    "plt.show()"
   ]
  },
  {
   "cell_type": "markdown",
   "metadata": {},
   "source": [
    "<a id='5-1-2'></a>\n",
    "\n",
    "<font color='crimson'>\n",
    "\n",
    "#### по длительности ожидания ответа\n",
    "\n",
    "</font>\n"
   ]
  },
  {
   "cell_type": "code",
   "execution_count": 106,
   "metadata": {},
   "outputs": [
    {
     "name": "stdout",
     "output_type": "stream",
     "text": [
      "    eff_wait_time - граница по среднему времени ожидания = 39 секунд\n"
     ]
    },
    {
     "data": {
      "text/html": [
       "<div>\n",
       "<style scoped>\n",
       "    .dataframe tbody tr th:only-of-type {\n",
       "        vertical-align: middle;\n",
       "    }\n",
       "\n",
       "    .dataframe tbody tr th {\n",
       "        vertical-align: top;\n",
       "    }\n",
       "\n",
       "    .dataframe thead th {\n",
       "        text-align: right;\n",
       "    }\n",
       "</style>\n",
       "<table border=\"1\" class=\"dataframe\">\n",
       "  <thead>\n",
       "    <tr style=\"text-align: right;\">\n",
       "      <th></th>\n",
       "      <th>user_id</th>\n",
       "      <th>operator_id</th>\n",
       "      <th>avg_waittm</th>\n",
       "    </tr>\n",
       "  </thead>\n",
       "  <tbody>\n",
       "    <tr>\n",
       "      <th>43</th>\n",
       "      <td>166879.0</td>\n",
       "      <td>896538</td>\n",
       "      <td>48.000000</td>\n",
       "    </tr>\n",
       "    <tr>\n",
       "      <th>50</th>\n",
       "      <td>166975.0</td>\n",
       "      <td>899900</td>\n",
       "      <td>58.000000</td>\n",
       "    </tr>\n",
       "    <tr>\n",
       "      <th>59</th>\n",
       "      <td>167003.0</td>\n",
       "      <td>901498</td>\n",
       "      <td>51.000000</td>\n",
       "    </tr>\n",
       "    <tr>\n",
       "      <th>63</th>\n",
       "      <td>166879.0</td>\n",
       "      <td>903512</td>\n",
       "      <td>42.750000</td>\n",
       "    </tr>\n",
       "    <tr>\n",
       "      <th>95</th>\n",
       "      <td>166541.0</td>\n",
       "      <td>908834</td>\n",
       "      <td>43.500000</td>\n",
       "    </tr>\n",
       "    <tr>\n",
       "      <th>99</th>\n",
       "      <td>167286.0</td>\n",
       "      <td>909768</td>\n",
       "      <td>42.000000</td>\n",
       "    </tr>\n",
       "    <tr>\n",
       "      <th>109</th>\n",
       "      <td>166541.0</td>\n",
       "      <td>910958</td>\n",
       "      <td>59.777778</td>\n",
       "    </tr>\n",
       "    <tr>\n",
       "      <th>115</th>\n",
       "      <td>167059.0</td>\n",
       "      <td>911142</td>\n",
       "      <td>46.384615</td>\n",
       "    </tr>\n",
       "    <tr>\n",
       "      <th>120</th>\n",
       "      <td>167272.0</td>\n",
       "      <td>912684</td>\n",
       "      <td>42.821429</td>\n",
       "    </tr>\n",
       "    <tr>\n",
       "      <th>152</th>\n",
       "      <td>166879.0</td>\n",
       "      <td>927070</td>\n",
       "      <td>44.250000</td>\n",
       "    </tr>\n",
       "    <tr>\n",
       "      <th>159</th>\n",
       "      <td>167534.0</td>\n",
       "      <td>929340</td>\n",
       "      <td>44.666667</td>\n",
       "    </tr>\n",
       "    <tr>\n",
       "      <th>206</th>\n",
       "      <td>167521.0</td>\n",
       "      <td>944228</td>\n",
       "      <td>41.283333</td>\n",
       "    </tr>\n",
       "    <tr>\n",
       "      <th>236</th>\n",
       "      <td>168221.0</td>\n",
       "      <td>952292</td>\n",
       "      <td>40.000000</td>\n",
       "    </tr>\n",
       "    <tr>\n",
       "      <th>271</th>\n",
       "      <td>168579.0</td>\n",
       "      <td>973286</td>\n",
       "      <td>44.000000</td>\n",
       "    </tr>\n",
       "  </tbody>\n",
       "</table>\n",
       "</div>"
      ],
      "text/plain": [
       "      user_id  operator_id  avg_waittm\n",
       "43   166879.0       896538   48.000000\n",
       "50   166975.0       899900   58.000000\n",
       "59   167003.0       901498   51.000000\n",
       "63   166879.0       903512   42.750000\n",
       "95   166541.0       908834   43.500000\n",
       "99   167286.0       909768   42.000000\n",
       "109  166541.0       910958   59.777778\n",
       "115  167059.0       911142   46.384615\n",
       "120  167272.0       912684   42.821429\n",
       "152  166879.0       927070   44.250000\n",
       "159  167534.0       929340   44.666667\n",
       "206  167521.0       944228   41.283333\n",
       "236  168221.0       952292   40.000000\n",
       "271  168579.0       973286   44.000000"
      ]
     },
     "execution_count": 106,
     "metadata": {},
     "output_type": "execute_result"
    }
   ],
   "source": [
    "print(f'    eff_wait_time - граница по среднему времени ожидания = {eff_wait_time} секунд')\n",
    "\n",
    "# Найдем среднее время ожидания вызова для каждого опеартора\n",
    "ineff_wait_time = avg_wait_call.groupby('operator_id').mean().reset_index()\n",
    "# Отсортируем их по границе эффективности\n",
    "ineff_wait_time = ineff_wait_time.query('avg_waittm > @eff_wait_time')\n",
    "ineff_wait_time=ineff_wait_time[['user_id', 'operator_id', 'avg_waittm']]\n",
    "ineff_wait_time "
   ]
  },
  {
   "cell_type": "markdown",
   "metadata": {},
   "source": [
    "Для арезентации оставим только 10 самых самых:"
   ]
  },
  {
   "cell_type": "code",
   "execution_count": 107,
   "metadata": {},
   "outputs": [],
   "source": [
    "ineff_wait_time_graf = ineff_wait_time.sort_values(by=['avg_waittm'], ascending=False).head(10)"
   ]
  },
  {
   "cell_type": "code",
   "execution_count": 108,
   "metadata": {},
   "outputs": [
    {
     "data": {
      "image/png": "[encoded data removed]",
      "text/plain": [
       "<Figure size 1152x360 with 1 Axes>"
      ]
     },
     "metadata": {
      "needs_background": "light"
     },
     "output_type": "display_data"
    }
   ],
   "source": [
    "plt.figure(figsize=(16,5))\n",
    "sns.barplot(data=ineff_wait_time_graf, y='avg_waittm', \n",
    "            x=\"operator_id\", \n",
    "            palette=sns.color_palette(\"BuGn_r\", n_colors=len(ineff_wait_time_graf)), \n",
    "            order=ineff_wait_time_graf.groupby('operator_id')['avg_waittm'].agg('mean').sort_values(ascending=False).index)\n",
    "plt.title('Топ 10 операторов с самой большой средней \\n продолжительностью ожидания ответа на внешний входящий звонок')\n",
    "plt.xlabel('operator_id')\n",
    "plt.ylabel('время ожидания ответа \\n на внешний входящий звонок, сек')\n",
    "plt.show()"
   ]
  },
  {
   "cell_type": "markdown",
   "metadata": {},
   "source": [
    "<a id='5-1-3'></a>\n",
    "\n",
    "<font color='crimson'>\n",
    "\n",
    "#### по длительности ответа\n",
    "</font>\n"
   ]
  },
  {
   "cell_type": "code",
   "execution_count": 109,
   "metadata": {
    "scrolled": false
   },
   "outputs": [
    {
     "name": "stdout",
     "output_type": "stream",
     "text": [
      "    lower_eff_resp - нижняя граница по среднему времени ответа = 4 секунд\n"
     ]
    },
    {
     "data": {
      "text/html": [
       "<div>\n",
       "<style scoped>\n",
       "    .dataframe tbody tr th:only-of-type {\n",
       "        vertical-align: middle;\n",
       "    }\n",
       "\n",
       "    .dataframe tbody tr th {\n",
       "        vertical-align: top;\n",
       "    }\n",
       "\n",
       "    .dataframe thead th {\n",
       "        text-align: right;\n",
       "    }\n",
       "</style>\n",
       "<table border=\"1\" class=\"dataframe\">\n",
       "  <thead>\n",
       "    <tr style=\"text-align: right;\">\n",
       "      <th></th>\n",
       "      <th>user_id</th>\n",
       "      <th>operator_id</th>\n",
       "      <th>avg_callt</th>\n",
       "    </tr>\n",
       "  </thead>\n",
       "  <tbody>\n",
       "    <tr>\n",
       "      <th>0</th>\n",
       "      <td>167144.0</td>\n",
       "      <td>905082</td>\n",
       "      <td>2.5</td>\n",
       "    </tr>\n",
       "    <tr>\n",
       "      <th>1</th>\n",
       "      <td>167176.0</td>\n",
       "      <td>905308</td>\n",
       "      <td>0.0</td>\n",
       "    </tr>\n",
       "    <tr>\n",
       "      <th>2</th>\n",
       "      <td>167176.0</td>\n",
       "      <td>905480</td>\n",
       "      <td>0.0</td>\n",
       "    </tr>\n",
       "    <tr>\n",
       "      <th>3</th>\n",
       "      <td>167998.0</td>\n",
       "      <td>944908</td>\n",
       "      <td>1.5</td>\n",
       "    </tr>\n",
       "    <tr>\n",
       "      <th>4</th>\n",
       "      <td>166939.0</td>\n",
       "      <td>955068</td>\n",
       "      <td>0.0</td>\n",
       "    </tr>\n",
       "  </tbody>\n",
       "</table>\n",
       "</div>"
      ],
      "text/plain": [
       "    user_id  operator_id  avg_callt\n",
       "0  167144.0       905082        2.5\n",
       "1  167176.0       905308        0.0\n",
       "2  167176.0       905480        0.0\n",
       "3  167998.0       944908        1.5\n",
       "4  166939.0       955068        0.0"
      ]
     },
     "execution_count": 109,
     "metadata": {},
     "output_type": "execute_result"
    }
   ],
   "source": [
    "print(f'    lower_eff_resp - нижняя граница по среднему времени ответа = {round(lower_eff_resp,0)} секунд')\n",
    "# Найдем среднее время ответа для каждого опеартора\n",
    "ineff_dur_resp  = dur_resp.groupby('operator_id').mean()\n",
    "# Отсортируем их по нижней границе эффективности\n",
    "ineff_lower_resp = ineff_dur_resp.query('avg_callt < @lower_eff_resp').reset_index() \n",
    "ineff_lower_resp = ineff_lower_resp[['user_id', 'operator_id', 'avg_callt']]\n",
    "ineff_lower_resp"
   ]
  },
  {
   "cell_type": "code",
   "execution_count": 110,
   "metadata": {},
   "outputs": [],
   "source": [
    "ineff_lower_resp = ineff_lower_resp.sort_values(by=['avg_callt'], ascending=False)"
   ]
  },
  {
   "cell_type": "code",
   "execution_count": 111,
   "metadata": {},
   "outputs": [
    {
     "data": {
      "image/png": "[encoded data removed]",
      "text/plain": [
       "<Figure size 504x288 with 1 Axes>"
      ]
     },
     "metadata": {
      "needs_background": "light"
     },
     "output_type": "display_data"
    }
   ],
   "source": [
    "plt.figure(figsize=(7,4))\n",
    "sns.barplot(data=ineff_lower_resp, y='avg_callt', \n",
    "            x=\"operator_id\", \n",
    "            palette=sns.color_palette(\"BuGn_r\", n_colors=len(ineff_lower_resp)), \n",
    "            order=ineff_lower_resp.groupby('operator_id')['avg_callt'].agg('mean').sort_values(ascending=False).index)\n",
    "plt.title('Операторы, средняя длительность ответа котроых \\n НИЖЕ границы эффективности')\n",
    "plt.xlabel('operator_id')\n",
    "plt.ylabel('средняя длительность ответа \\n на внешний входящий звонок, сек')\n",
    "plt.show()"
   ]
  },
  {
   "cell_type": "code",
   "execution_count": 112,
   "metadata": {},
   "outputs": [
    {
     "name": "stdout",
     "output_type": "stream",
     "text": [
      "    upper_eff_resp - верхняя граница по среднему времени ответа = 567 секунд\n"
     ]
    },
    {
     "data": {
      "text/html": [
       "<div>\n",
       "<style scoped>\n",
       "    .dataframe tbody tr th:only-of-type {\n",
       "        vertical-align: middle;\n",
       "    }\n",
       "\n",
       "    .dataframe tbody tr th {\n",
       "        vertical-align: top;\n",
       "    }\n",
       "\n",
       "    .dataframe thead th {\n",
       "        text-align: right;\n",
       "    }\n",
       "</style>\n",
       "<table border=\"1\" class=\"dataframe\">\n",
       "  <thead>\n",
       "    <tr style=\"text-align: right;\">\n",
       "      <th></th>\n",
       "      <th>user_id</th>\n",
       "      <th>operator_id</th>\n",
       "      <th>avg_callt</th>\n",
       "    </tr>\n",
       "  </thead>\n",
       "  <tbody>\n",
       "    <tr>\n",
       "      <th>1</th>\n",
       "      <td>166975.0</td>\n",
       "      <td>899906</td>\n",
       "      <td>626.0</td>\n",
       "    </tr>\n",
       "    <tr>\n",
       "      <th>0</th>\n",
       "      <td>166975.0</td>\n",
       "      <td>899898</td>\n",
       "      <td>590.0</td>\n",
       "    </tr>\n",
       "  </tbody>\n",
       "</table>\n",
       "</div>"
      ],
      "text/plain": [
       "    user_id  operator_id  avg_callt\n",
       "1  166975.0       899906      626.0\n",
       "0  166975.0       899898      590.0"
      ]
     },
     "execution_count": 112,
     "metadata": {},
     "output_type": "execute_result"
    }
   ],
   "source": [
    "print(f'    upper_eff_resp - верхняя граница по среднему времени ответа = {round(upper_eff_resp,0)} секунд')\n",
    "\n",
    "# Отсортируем их по верхней границе эффективности\n",
    "ineff_upper_resp = ineff_dur_resp.query('avg_callt > @upper_eff_resp').reset_index() \n",
    "ineff_upper_resp = ineff_upper_resp[['user_id', 'operator_id', 'avg_callt']].sort_values(by=['avg_callt'], ascending=False)\n",
    "ineff_upper_resp "
   ]
  },
  {
   "cell_type": "code",
   "execution_count": 113,
   "metadata": {},
   "outputs": [
    {
     "data": {
      "image/png": "[encoded data removed]",
      "text/plain": [
       "<Figure size 504x288 with 1 Axes>"
      ]
     },
     "metadata": {
      "needs_background": "light"
     },
     "output_type": "display_data"
    }
   ],
   "source": [
    "plt.figure(figsize=(7,4))\n",
    "sns.barplot(data=ineff_upper_resp, y='avg_callt', \n",
    "            x=\"operator_id\", \n",
    "            palette=sns.color_palette(\"BuGn_r\", n_colors=len(ineff_upper_resp)), \n",
    "            order=ineff_upper_resp.groupby('operator_id')['avg_callt'].agg('mean').sort_values(ascending=False).index)\n",
    "plt.title('Операторы, средняя длительность ответа котроых \\n ВЫШЕ границы эффективности')\n",
    "plt.xlabel('operator_id')\n",
    "plt.ylabel('средняя длительность ответа \\n на внешний входящий звонок, сек')\n",
    "plt.show()"
   ]
  },
  {
   "cell_type": "markdown",
   "metadata": {},
   "source": [
    "<a id='5-2'></a>\n",
    "\n",
    "<font color='crimson'>\n",
    "\n",
    "### Определим неэффективных операторов в колл-центрах,<br> которые **специализируются на обзвонах**\n",
    "\n",
    "</font>\n",
    "\n",
    "[К началу раздела](#5)<br>\n",
    "[К соддержанию](#0)"
   ]
  },
  {
   "cell_type": "markdown",
   "metadata": {},
   "source": [
    "<a id='5-2-1'></a>\n",
    "\n",
    "<font color='crimson'>\n",
    "\n",
    "#### по количеству исходящих внешних звонков\n",
    "</font>\n"
   ]
  },
  {
   "cell_type": "code",
   "execution_count": 114,
   "metadata": {},
   "outputs": [
    {
     "data": {
      "text/html": [
       "<div>\n",
       "<style scoped>\n",
       "    .dataframe tbody tr th:only-of-type {\n",
       "        vertical-align: middle;\n",
       "    }\n",
       "\n",
       "    .dataframe tbody tr th {\n",
       "        vertical-align: top;\n",
       "    }\n",
       "\n",
       "    .dataframe thead th {\n",
       "        text-align: right;\n",
       "    }\n",
       "</style>\n",
       "<table border=\"1\" class=\"dataframe\">\n",
       "  <thead>\n",
       "    <tr style=\"text-align: right;\">\n",
       "      <th></th>\n",
       "      <th>operator_id</th>\n",
       "      <th>user_id</th>\n",
       "      <th>calls_count</th>\n",
       "    </tr>\n",
       "  </thead>\n",
       "  <tbody>\n",
       "    <tr>\n",
       "      <th>1</th>\n",
       "      <td>879898</td>\n",
       "      <td>166406</td>\n",
       "      <td>7191</td>\n",
       "    </tr>\n",
       "    <tr>\n",
       "      <th>566</th>\n",
       "      <td>945286</td>\n",
       "      <td>168361</td>\n",
       "      <td>5982</td>\n",
       "    </tr>\n",
       "    <tr>\n",
       "      <th>299</th>\n",
       "      <td>919364</td>\n",
       "      <td>167626</td>\n",
       "      <td>4820</td>\n",
       "    </tr>\n",
       "    <tr>\n",
       "      <th>158</th>\n",
       "      <td>904016</td>\n",
       "      <td>167112</td>\n",
       "      <td>4676</td>\n",
       "    </tr>\n",
       "    <tr>\n",
       "      <th>581</th>\n",
       "      <td>945322</td>\n",
       "      <td>168361</td>\n",
       "      <td>4069</td>\n",
       "    </tr>\n",
       "  </tbody>\n",
       "</table>\n",
       "</div>"
      ],
      "text/plain": [
       "     operator_id  user_id  calls_count\n",
       "1         879898   166406         7191\n",
       "566       945286   168361         5982\n",
       "299       919364   167626         4820\n",
       "158       904016   167112         4676\n",
       "581       945322   168361         4069"
      ]
     },
     "execution_count": 114,
     "metadata": {},
     "output_type": "execute_result"
    }
   ],
   "source": [
    "# Найдем кумулятивную сумму звонков на каждого опреатора за каждый день\n",
    "ish = dur_resp_out.groupby(['operator_id']).sum() \\\n",
    "  .groupby(level=0).cumsum().reset_index().sort_values(by=['calls_count'], ascending=False)\n",
    "ish.head()"
   ]
  },
  {
   "cell_type": "code",
   "execution_count": 115,
   "metadata": {},
   "outputs": [
    {
     "name": "stdout",
     "output_type": "stream",
     "text": [
      "    out_lower_eff - нижняя граница по количеству исходящих внешних звонков = 1 шт.\n"
     ]
    },
    {
     "data": {
      "text/html": [
       "<div>\n",
       "<style scoped>\n",
       "    .dataframe tbody tr th:only-of-type {\n",
       "        vertical-align: middle;\n",
       "    }\n",
       "\n",
       "    .dataframe tbody tr th {\n",
       "        vertical-align: top;\n",
       "    }\n",
       "\n",
       "    .dataframe thead th {\n",
       "        text-align: right;\n",
       "    }\n",
       "</style>\n",
       "<table border=\"1\" class=\"dataframe\">\n",
       "  <thead>\n",
       "    <tr style=\"text-align: right;\">\n",
       "      <th></th>\n",
       "      <th>user_id</th>\n",
       "      <th>operator_id</th>\n",
       "      <th>calls_count</th>\n",
       "    </tr>\n",
       "  </thead>\n",
       "  <tbody>\n",
       "  </tbody>\n",
       "</table>\n",
       "</div>"
      ],
      "text/plain": [
       "Empty DataFrame\n",
       "Columns: [user_id, operator_id, calls_count]\n",
       "Index: []"
      ]
     },
     "execution_count": 115,
     "metadata": {},
     "output_type": "execute_result"
    }
   ],
   "source": [
    "print(f'    out_lower_eff - нижняя граница по количеству исходящих внешних звонков = {round(out_lower_eff,0)} шт.')\n",
    "\n",
    "ineff_out_lower_resp = ish.loc[ish['calls_count'] < out_lower_eff, ['user_id', 'operator_id', 'calls_count']]\n",
    "ineff_out_lower_resp"
   ]
  },
  {
   "cell_type": "code",
   "execution_count": 116,
   "metadata": {
    "scrolled": true
   },
   "outputs": [
    {
     "name": "stdout",
     "output_type": "stream",
     "text": [
      "    out_upper_eff - верхняя граница по количеству исходящих внешних звонков = 2291 шт.\n"
     ]
    },
    {
     "data": {
      "text/html": [
       "<div>\n",
       "<style scoped>\n",
       "    .dataframe tbody tr th:only-of-type {\n",
       "        vertical-align: middle;\n",
       "    }\n",
       "\n",
       "    .dataframe tbody tr th {\n",
       "        vertical-align: top;\n",
       "    }\n",
       "\n",
       "    .dataframe thead th {\n",
       "        text-align: right;\n",
       "    }\n",
       "</style>\n",
       "<table border=\"1\" class=\"dataframe\">\n",
       "  <thead>\n",
       "    <tr style=\"text-align: right;\">\n",
       "      <th></th>\n",
       "      <th>user_id</th>\n",
       "      <th>operator_id</th>\n",
       "      <th>calls_count</th>\n",
       "    </tr>\n",
       "  </thead>\n",
       "  <tbody>\n",
       "    <tr>\n",
       "      <th>1</th>\n",
       "      <td>166406</td>\n",
       "      <td>879898</td>\n",
       "      <td>7191</td>\n",
       "    </tr>\n",
       "    <tr>\n",
       "      <th>566</th>\n",
       "      <td>168361</td>\n",
       "      <td>945286</td>\n",
       "      <td>5982</td>\n",
       "    </tr>\n",
       "    <tr>\n",
       "      <th>299</th>\n",
       "      <td>167626</td>\n",
       "      <td>919364</td>\n",
       "      <td>4820</td>\n",
       "    </tr>\n",
       "    <tr>\n",
       "      <th>158</th>\n",
       "      <td>167112</td>\n",
       "      <td>904016</td>\n",
       "      <td>4676</td>\n",
       "    </tr>\n",
       "    <tr>\n",
       "      <th>581</th>\n",
       "      <td>168361</td>\n",
       "      <td>945322</td>\n",
       "      <td>4069</td>\n",
       "    </tr>\n",
       "    <tr>\n",
       "      <th>572</th>\n",
       "      <td>168361</td>\n",
       "      <td>945302</td>\n",
       "      <td>3903</td>\n",
       "    </tr>\n",
       "    <tr>\n",
       "      <th>586</th>\n",
       "      <td>168018</td>\n",
       "      <td>945900</td>\n",
       "      <td>3812</td>\n",
       "    </tr>\n",
       "    <tr>\n",
       "      <th>80</th>\n",
       "      <td>166782</td>\n",
       "      <td>893804</td>\n",
       "      <td>3378</td>\n",
       "    </tr>\n",
       "    <tr>\n",
       "      <th>568</th>\n",
       "      <td>168361</td>\n",
       "      <td>945290</td>\n",
       "      <td>3373</td>\n",
       "    </tr>\n",
       "    <tr>\n",
       "      <th>81</th>\n",
       "      <td>166899</td>\n",
       "      <td>894656</td>\n",
       "      <td>3167</td>\n",
       "    </tr>\n",
       "    <tr>\n",
       "      <th>588</th>\n",
       "      <td>168018</td>\n",
       "      <td>945904</td>\n",
       "      <td>3150</td>\n",
       "    </tr>\n",
       "    <tr>\n",
       "      <th>146</th>\n",
       "      <td>167125</td>\n",
       "      <td>902744</td>\n",
       "      <td>3114</td>\n",
       "    </tr>\n",
       "    <tr>\n",
       "      <th>164</th>\n",
       "      <td>167150</td>\n",
       "      <td>905538</td>\n",
       "      <td>2930</td>\n",
       "    </tr>\n",
       "    <tr>\n",
       "      <th>587</th>\n",
       "      <td>168018</td>\n",
       "      <td>945902</td>\n",
       "      <td>2835</td>\n",
       "    </tr>\n",
       "    <tr>\n",
       "      <th>9</th>\n",
       "      <td>166405</td>\n",
       "      <td>882686</td>\n",
       "      <td>2783</td>\n",
       "    </tr>\n",
       "    <tr>\n",
       "      <th>390</th>\n",
       "      <td>167827</td>\n",
       "      <td>929428</td>\n",
       "      <td>2693</td>\n",
       "    </tr>\n",
       "    <tr>\n",
       "      <th>61</th>\n",
       "      <td>166511</td>\n",
       "      <td>891410</td>\n",
       "      <td>2660</td>\n",
       "    </tr>\n",
       "    <tr>\n",
       "      <th>612</th>\n",
       "      <td>168062</td>\n",
       "      <td>947648</td>\n",
       "      <td>2637</td>\n",
       "    </tr>\n",
       "    <tr>\n",
       "      <th>278</th>\n",
       "      <td>167626</td>\n",
       "      <td>919162</td>\n",
       "      <td>2621</td>\n",
       "    </tr>\n",
       "    <tr>\n",
       "      <th>285</th>\n",
       "      <td>167626</td>\n",
       "      <td>919196</td>\n",
       "      <td>2575</td>\n",
       "    </tr>\n",
       "    <tr>\n",
       "      <th>334</th>\n",
       "      <td>167650</td>\n",
       "      <td>921318</td>\n",
       "      <td>2548</td>\n",
       "    </tr>\n",
       "    <tr>\n",
       "      <th>148</th>\n",
       "      <td>167125</td>\n",
       "      <td>902748</td>\n",
       "      <td>2534</td>\n",
       "    </tr>\n",
       "    <tr>\n",
       "      <th>197</th>\n",
       "      <td>166485</td>\n",
       "      <td>907174</td>\n",
       "      <td>2515</td>\n",
       "    </tr>\n",
       "    <tr>\n",
       "      <th>5</th>\n",
       "      <td>166377</td>\n",
       "      <td>880028</td>\n",
       "      <td>2489</td>\n",
       "    </tr>\n",
       "    <tr>\n",
       "      <th>78</th>\n",
       "      <td>166520</td>\n",
       "      <td>893674</td>\n",
       "      <td>2463</td>\n",
       "    </tr>\n",
       "    <tr>\n",
       "      <th>562</th>\n",
       "      <td>168361</td>\n",
       "      <td>945278</td>\n",
       "      <td>2443</td>\n",
       "    </tr>\n",
       "    <tr>\n",
       "      <th>570</th>\n",
       "      <td>168361</td>\n",
       "      <td>945296</td>\n",
       "      <td>2432</td>\n",
       "    </tr>\n",
       "    <tr>\n",
       "      <th>147</th>\n",
       "      <td>167125</td>\n",
       "      <td>902746</td>\n",
       "      <td>2430</td>\n",
       "    </tr>\n",
       "    <tr>\n",
       "      <th>296</th>\n",
       "      <td>167626</td>\n",
       "      <td>919314</td>\n",
       "      <td>2415</td>\n",
       "    </tr>\n",
       "    <tr>\n",
       "      <th>62</th>\n",
       "      <td>166511</td>\n",
       "      <td>891414</td>\n",
       "      <td>2379</td>\n",
       "    </tr>\n",
       "    <tr>\n",
       "      <th>529</th>\n",
       "      <td>168252</td>\n",
       "      <td>940616</td>\n",
       "      <td>2360</td>\n",
       "    </tr>\n",
       "    <tr>\n",
       "      <th>407</th>\n",
       "      <td>167650</td>\n",
       "      <td>931458</td>\n",
       "      <td>2351</td>\n",
       "    </tr>\n",
       "    <tr>\n",
       "      <th>136</th>\n",
       "      <td>166983</td>\n",
       "      <td>901880</td>\n",
       "      <td>2324</td>\n",
       "    </tr>\n",
       "    <tr>\n",
       "      <th>578</th>\n",
       "      <td>168361</td>\n",
       "      <td>945316</td>\n",
       "      <td>2323</td>\n",
       "    </tr>\n",
       "    <tr>\n",
       "      <th>26</th>\n",
       "      <td>166485</td>\n",
       "      <td>887282</td>\n",
       "      <td>2322</td>\n",
       "    </tr>\n",
       "    <tr>\n",
       "      <th>616</th>\n",
       "      <td>168062</td>\n",
       "      <td>947658</td>\n",
       "      <td>2310</td>\n",
       "    </tr>\n",
       "    <tr>\n",
       "      <th>144</th>\n",
       "      <td>166839</td>\n",
       "      <td>902720</td>\n",
       "      <td>2306</td>\n",
       "    </tr>\n",
       "  </tbody>\n",
       "</table>\n",
       "</div>"
      ],
      "text/plain": [
       "     user_id  operator_id  calls_count\n",
       "1     166406       879898         7191\n",
       "566   168361       945286         5982\n",
       "299   167626       919364         4820\n",
       "158   167112       904016         4676\n",
       "581   168361       945322         4069\n",
       "572   168361       945302         3903\n",
       "586   168018       945900         3812\n",
       "80    166782       893804         3378\n",
       "568   168361       945290         3373\n",
       "81    166899       894656         3167\n",
       "588   168018       945904         3150\n",
       "146   167125       902744         3114\n",
       "164   167150       905538         2930\n",
       "587   168018       945902         2835\n",
       "9     166405       882686         2783\n",
       "390   167827       929428         2693\n",
       "61    166511       891410         2660\n",
       "612   168062       947648         2637\n",
       "278   167626       919162         2621\n",
       "285   167626       919196         2575\n",
       "334   167650       921318         2548\n",
       "148   167125       902748         2534\n",
       "197   166485       907174         2515\n",
       "5     166377       880028         2489\n",
       "78    166520       893674         2463\n",
       "562   168361       945278         2443\n",
       "570   168361       945296         2432\n",
       "147   167125       902746         2430\n",
       "296   167626       919314         2415\n",
       "62    166511       891414         2379\n",
       "529   168252       940616         2360\n",
       "407   167650       931458         2351\n",
       "136   166983       901880         2324\n",
       "578   168361       945316         2323\n",
       "26    166485       887282         2322\n",
       "616   168062       947658         2310\n",
       "144   166839       902720         2306"
      ]
     },
     "execution_count": 116,
     "metadata": {},
     "output_type": "execute_result"
    }
   ],
   "source": [
    "print(f'    out_upper_eff - верхняя граница по количеству исходящих внешних звонков = {round(out_upper_eff,0)} шт.')\n",
    "\n",
    "ineff_out_dur_resp = ish.loc[ish['calls_count'] > out_upper_eff, ['user_id', 'operator_id', 'calls_count']]\n",
    "ineff_out_dur_resp"
   ]
  },
  {
   "cell_type": "markdown",
   "metadata": {},
   "source": [
    "Меньше одного исходящего не совершал ни один оператор.\n",
    "Посмотрим на всем датасете:"
   ]
  },
  {
   "cell_type": "code",
   "execution_count": 117,
   "metadata": {},
   "outputs": [],
   "source": [
    "list_ish = ish['operator_id']"
   ]
  },
  {
   "cell_type": "code",
   "execution_count": 118,
   "metadata": {},
   "outputs": [
    {
     "data": {
      "text/html": [
       "<div>\n",
       "<style scoped>\n",
       "    .dataframe tbody tr th:only-of-type {\n",
       "        vertical-align: middle;\n",
       "    }\n",
       "\n",
       "    .dataframe tbody tr th {\n",
       "        vertical-align: top;\n",
       "    }\n",
       "\n",
       "    .dataframe thead th {\n",
       "        text-align: right;\n",
       "    }\n",
       "</style>\n",
       "<table border=\"1\" class=\"dataframe\">\n",
       "  <thead>\n",
       "    <tr style=\"text-align: right;\">\n",
       "      <th></th>\n",
       "      <th>user_id</th>\n",
       "      <th>date</th>\n",
       "      <th>direction</th>\n",
       "      <th>internal</th>\n",
       "      <th>operator_id</th>\n",
       "      <th>is_missed_call</th>\n",
       "      <th>calls_count</th>\n",
       "      <th>call_duration</th>\n",
       "      <th>total_call_duration</th>\n",
       "      <th>tariff_plan</th>\n",
       "      <th>date_start</th>\n",
       "      <th>wait_time</th>\n",
       "      <th>avg_callt</th>\n",
       "      <th>avg_waittm</th>\n",
       "      <th>lvt_oper_id</th>\n",
       "      <th>type</th>\n",
       "    </tr>\n",
       "  </thead>\n",
       "  <tbody>\n",
       "    <tr>\n",
       "      <th>29590</th>\n",
       "      <td>167654</td>\n",
       "      <td>2019-11-28</td>\n",
       "      <td>out</td>\n",
       "      <td>False</td>\n",
       "      <td>918986</td>\n",
       "      <td>False</td>\n",
       "      <td>23</td>\n",
       "      <td>2399</td>\n",
       "      <td>2819</td>\n",
       "      <td>B</td>\n",
       "      <td>2019-09-24</td>\n",
       "      <td>420</td>\n",
       "      <td>104.304348</td>\n",
       "      <td>18</td>\n",
       "      <td>65</td>\n",
       "      <td>обзвон</td>\n",
       "    </tr>\n",
       "    <tr>\n",
       "      <th>31161</th>\n",
       "      <td>167828</td>\n",
       "      <td>2019-11-28</td>\n",
       "      <td>in</td>\n",
       "      <td>False</td>\n",
       "      <td>940436</td>\n",
       "      <td>False</td>\n",
       "      <td>2</td>\n",
       "      <td>158</td>\n",
       "      <td>181</td>\n",
       "      <td>A</td>\n",
       "      <td>2019-10-02</td>\n",
       "      <td>23</td>\n",
       "      <td>79.000000</td>\n",
       "      <td>11</td>\n",
       "      <td>57</td>\n",
       "      <td>обзвон</td>\n",
       "    </tr>\n",
       "    <tr>\n",
       "      <th>39105</th>\n",
       "      <td>168291</td>\n",
       "      <td>2019-11-28</td>\n",
       "      <td>out</td>\n",
       "      <td>False</td>\n",
       "      <td>946454</td>\n",
       "      <td>True</td>\n",
       "      <td>5</td>\n",
       "      <td>0</td>\n",
       "      <td>0</td>\n",
       "      <td>B</td>\n",
       "      <td>2019-10-21</td>\n",
       "      <td>0</td>\n",
       "      <td>0.000000</td>\n",
       "      <td>0</td>\n",
       "      <td>38</td>\n",
       "      <td>обзвон</td>\n",
       "    </tr>\n",
       "    <tr>\n",
       "      <th>31163</th>\n",
       "      <td>167828</td>\n",
       "      <td>2019-11-28</td>\n",
       "      <td>in</td>\n",
       "      <td>False</td>\n",
       "      <td>940438</td>\n",
       "      <td>False</td>\n",
       "      <td>3</td>\n",
       "      <td>309</td>\n",
       "      <td>324</td>\n",
       "      <td>A</td>\n",
       "      <td>2019-10-02</td>\n",
       "      <td>15</td>\n",
       "      <td>103.000000</td>\n",
       "      <td>5</td>\n",
       "      <td>57</td>\n",
       "      <td>обзвон</td>\n",
       "    </tr>\n",
       "    <tr>\n",
       "      <th>31164</th>\n",
       "      <td>167828</td>\n",
       "      <td>2019-11-28</td>\n",
       "      <td>out</td>\n",
       "      <td>False</td>\n",
       "      <td>938612</td>\n",
       "      <td>False</td>\n",
       "      <td>12</td>\n",
       "      <td>1663</td>\n",
       "      <td>1768</td>\n",
       "      <td>A</td>\n",
       "      <td>2019-10-02</td>\n",
       "      <td>105</td>\n",
       "      <td>138.583333</td>\n",
       "      <td>8</td>\n",
       "      <td>57</td>\n",
       "      <td>обзвон</td>\n",
       "    </tr>\n",
       "  </tbody>\n",
       "</table>\n",
       "</div>"
      ],
      "text/plain": [
       "       user_id       date direction  internal  operator_id  is_missed_call  \\\n",
       "29590   167654 2019-11-28       out     False       918986           False   \n",
       "31161   167828 2019-11-28        in     False       940436           False   \n",
       "39105   168291 2019-11-28       out     False       946454            True   \n",
       "31163   167828 2019-11-28        in     False       940438           False   \n",
       "31164   167828 2019-11-28       out     False       938612           False   \n",
       "\n",
       "       calls_count  call_duration  total_call_duration tariff_plan date_start  \\\n",
       "29590           23           2399                 2819           B 2019-09-24   \n",
       "31161            2            158                  181           A 2019-10-02   \n",
       "39105            5              0                    0           B 2019-10-21   \n",
       "31163            3            309                  324           A 2019-10-02   \n",
       "31164           12           1663                 1768           A 2019-10-02   \n",
       "\n",
       "       wait_time   avg_callt  avg_waittm  lvt_oper_id    type  \n",
       "29590        420  104.304348          18           65  обзвон  \n",
       "31161         23   79.000000          11           57  обзвон  \n",
       "39105          0    0.000000           0           38  обзвон  \n",
       "31163         15  103.000000           5           57  обзвон  \n",
       "31164        105  138.583333           8           57  обзвон  "
      ]
     },
     "execution_count": 118,
     "metadata": {},
     "output_type": "execute_result"
    }
   ],
   "source": [
    "list_ish = df_out.query('operator_id in @list_ish').sort_values(by=['date'], ascending=False)\n",
    "list_ish.head()"
   ]
  },
  {
   "cell_type": "code",
   "execution_count": 119,
   "metadata": {
    "scrolled": true
   },
   "outputs": [
    {
     "data": {
      "text/html": [
       "<div>\n",
       "<style scoped>\n",
       "    .dataframe tbody tr th:only-of-type {\n",
       "        vertical-align: middle;\n",
       "    }\n",
       "\n",
       "    .dataframe tbody tr th {\n",
       "        vertical-align: top;\n",
       "    }\n",
       "\n",
       "    .dataframe thead th {\n",
       "        text-align: right;\n",
       "    }\n",
       "</style>\n",
       "<table border=\"1\" class=\"dataframe\">\n",
       "  <thead>\n",
       "    <tr style=\"text-align: right;\">\n",
       "      <th></th>\n",
       "      <th>user_id</th>\n",
       "      <th>operator_id</th>\n",
       "      <th>lvt_oper_id</th>\n",
       "    </tr>\n",
       "  </thead>\n",
       "  <tbody>\n",
       "    <tr>\n",
       "      <th>0</th>\n",
       "      <td>166377</td>\n",
       "      <td>880020</td>\n",
       "      <td>63</td>\n",
       "    </tr>\n",
       "    <tr>\n",
       "      <th>1</th>\n",
       "      <td>166377</td>\n",
       "      <td>880022</td>\n",
       "      <td>119</td>\n",
       "    </tr>\n",
       "    <tr>\n",
       "      <th>2</th>\n",
       "      <td>166377</td>\n",
       "      <td>880026</td>\n",
       "      <td>119</td>\n",
       "    </tr>\n",
       "    <tr>\n",
       "      <th>3</th>\n",
       "      <td>166377</td>\n",
       "      <td>880028</td>\n",
       "      <td>119</td>\n",
       "    </tr>\n",
       "    <tr>\n",
       "      <th>4</th>\n",
       "      <td>166377</td>\n",
       "      <td>881278</td>\n",
       "      <td>116</td>\n",
       "    </tr>\n",
       "    <tr>\n",
       "      <th>5</th>\n",
       "      <td>166405</td>\n",
       "      <td>882684</td>\n",
       "      <td>88</td>\n",
       "    </tr>\n",
       "    <tr>\n",
       "      <th>6</th>\n",
       "      <td>166405</td>\n",
       "      <td>882686</td>\n",
       "      <td>118</td>\n",
       "    </tr>\n",
       "    <tr>\n",
       "      <th>7</th>\n",
       "      <td>166405</td>\n",
       "      <td>882688</td>\n",
       "      <td>76</td>\n",
       "    </tr>\n",
       "    <tr>\n",
       "      <th>8</th>\n",
       "      <td>166405</td>\n",
       "      <td>882690</td>\n",
       "      <td>118</td>\n",
       "    </tr>\n",
       "    <tr>\n",
       "      <th>9</th>\n",
       "      <td>166405</td>\n",
       "      <td>902510</td>\n",
       "      <td>118</td>\n",
       "    </tr>\n",
       "  </tbody>\n",
       "</table>\n",
       "</div>"
      ],
      "text/plain": [
       "   user_id  operator_id  lvt_oper_id\n",
       "0   166377       880020           63\n",
       "1   166377       880022          119\n",
       "2   166377       880026          119\n",
       "3   166377       880028          119\n",
       "4   166377       881278          116\n",
       "5   166405       882684           88\n",
       "6   166405       882686          118\n",
       "7   166405       882688           76\n",
       "8   166405       882690          118\n",
       "9   166405       902510          118"
      ]
     },
     "execution_count": 119,
     "metadata": {},
     "output_type": "execute_result"
    }
   ],
   "source": [
    "# Сгруппируем \n",
    "list_ish_graf = list_ish.groupby(['user_id', 'operator_id'])['lvt_oper_id'].max().reset_index()\n",
    "list_ish_graf.head(10)"
   ]
  },
  {
   "cell_type": "code",
   "execution_count": 120,
   "metadata": {},
   "outputs": [
    {
     "data": {
      "text/html": [
       "<div>\n",
       "<style scoped>\n",
       "    .dataframe tbody tr th:only-of-type {\n",
       "        vertical-align: middle;\n",
       "    }\n",
       "\n",
       "    .dataframe tbody tr th {\n",
       "        vertical-align: top;\n",
       "    }\n",
       "\n",
       "    .dataframe thead th {\n",
       "        text-align: right;\n",
       "    }\n",
       "</style>\n",
       "<table border=\"1\" class=\"dataframe\">\n",
       "  <thead>\n",
       "    <tr style=\"text-align: right;\">\n",
       "      <th></th>\n",
       "      <th>user_id</th>\n",
       "      <th>operator_id</th>\n",
       "      <th>lvt_oper_id</th>\n",
       "      <th>calls_count</th>\n",
       "    </tr>\n",
       "  </thead>\n",
       "  <tbody>\n",
       "    <tr>\n",
       "      <th>0</th>\n",
       "      <td>166377</td>\n",
       "      <td>880020</td>\n",
       "      <td>63</td>\n",
       "      <td>34</td>\n",
       "    </tr>\n",
       "    <tr>\n",
       "      <th>1</th>\n",
       "      <td>166377</td>\n",
       "      <td>880022</td>\n",
       "      <td>119</td>\n",
       "      <td>174</td>\n",
       "    </tr>\n",
       "    <tr>\n",
       "      <th>2</th>\n",
       "      <td>166377</td>\n",
       "      <td>880026</td>\n",
       "      <td>119</td>\n",
       "      <td>2188</td>\n",
       "    </tr>\n",
       "    <tr>\n",
       "      <th>3</th>\n",
       "      <td>166377</td>\n",
       "      <td>880028</td>\n",
       "      <td>119</td>\n",
       "      <td>2489</td>\n",
       "    </tr>\n",
       "    <tr>\n",
       "      <th>4</th>\n",
       "      <td>166377</td>\n",
       "      <td>881278</td>\n",
       "      <td>116</td>\n",
       "      <td>12</td>\n",
       "    </tr>\n",
       "  </tbody>\n",
       "</table>\n",
       "</div>"
      ],
      "text/plain": [
       "   user_id  operator_id  lvt_oper_id  calls_count\n",
       "0   166377       880020           63           34\n",
       "1   166377       880022          119          174\n",
       "2   166377       880026          119         2188\n",
       "3   166377       880028          119         2489\n",
       "4   166377       881278          116           12"
      ]
     },
     "execution_count": 120,
     "metadata": {},
     "output_type": "execute_result"
    }
   ],
   "source": [
    "# Итоговая таблица\n",
    "ish = ish[['operator_id', 'calls_count']]\n",
    "list_ish_graf = list_ish_graf.merge(ish, on='operator_id', how='left')\n",
    "list_ish_graf = list_ish_graf.query('lvt_oper_id > 0')\n",
    "list_ish_graf.head()"
   ]
  },
  {
   "cell_type": "code",
   "execution_count": 121,
   "metadata": {
    "scrolled": true
   },
   "outputs": [
    {
     "data": {
      "text/html": [
       "<div>\n",
       "<style scoped>\n",
       "    .dataframe tbody tr th:only-of-type {\n",
       "        vertical-align: middle;\n",
       "    }\n",
       "\n",
       "    .dataframe tbody tr th {\n",
       "        vertical-align: top;\n",
       "    }\n",
       "\n",
       "    .dataframe thead th {\n",
       "        text-align: right;\n",
       "    }\n",
       "</style>\n",
       "<table border=\"1\" class=\"dataframe\">\n",
       "  <thead>\n",
       "    <tr style=\"text-align: right;\">\n",
       "      <th></th>\n",
       "      <th>user_id</th>\n",
       "      <th>operator_id</th>\n",
       "      <th>lvt_oper_id</th>\n",
       "      <th>calls_count</th>\n",
       "      <th>исходящих_внешних_средн_в_день</th>\n",
       "    </tr>\n",
       "  </thead>\n",
       "  <tbody>\n",
       "    <tr>\n",
       "      <th>413</th>\n",
       "      <td>167626</td>\n",
       "      <td>919364</td>\n",
       "      <td>23</td>\n",
       "      <td>4820</td>\n",
       "      <td>210.0</td>\n",
       "    </tr>\n",
       "    <tr>\n",
       "      <th>687</th>\n",
       "      <td>168361</td>\n",
       "      <td>945286</td>\n",
       "      <td>36</td>\n",
       "      <td>5982</td>\n",
       "      <td>166.0</td>\n",
       "    </tr>\n",
       "    <tr>\n",
       "      <th>401</th>\n",
       "      <td>167626</td>\n",
       "      <td>919196</td>\n",
       "      <td>21</td>\n",
       "      <td>2575</td>\n",
       "      <td>123.0</td>\n",
       "    </tr>\n",
       "    <tr>\n",
       "      <th>394</th>\n",
       "      <td>167626</td>\n",
       "      <td>919162</td>\n",
       "      <td>22</td>\n",
       "      <td>2621</td>\n",
       "      <td>119.0</td>\n",
       "    </tr>\n",
       "    <tr>\n",
       "      <th>702</th>\n",
       "      <td>168361</td>\n",
       "      <td>945322</td>\n",
       "      <td>36</td>\n",
       "      <td>4069</td>\n",
       "      <td>113.0</td>\n",
       "    </tr>\n",
       "    <tr>\n",
       "      <th>693</th>\n",
       "      <td>168361</td>\n",
       "      <td>945302</td>\n",
       "      <td>36</td>\n",
       "      <td>3903</td>\n",
       "      <td>108.0</td>\n",
       "    </tr>\n",
       "    <tr>\n",
       "      <th>410</th>\n",
       "      <td>167626</td>\n",
       "      <td>919314</td>\n",
       "      <td>23</td>\n",
       "      <td>2415</td>\n",
       "      <td>105.0</td>\n",
       "    </tr>\n",
       "    <tr>\n",
       "      <th>426</th>\n",
       "      <td>167626</td>\n",
       "      <td>919504</td>\n",
       "      <td>19</td>\n",
       "      <td>1971</td>\n",
       "      <td>104.0</td>\n",
       "    </tr>\n",
       "    <tr>\n",
       "      <th>412</th>\n",
       "      <td>167626</td>\n",
       "      <td>919362</td>\n",
       "      <td>20</td>\n",
       "      <td>1983</td>\n",
       "      <td>99.0</td>\n",
       "    </tr>\n",
       "    <tr>\n",
       "      <th>404</th>\n",
       "      <td>167626</td>\n",
       "      <td>919202</td>\n",
       "      <td>20</td>\n",
       "      <td>1930</td>\n",
       "      <td>96.0</td>\n",
       "    </tr>\n",
       "  </tbody>\n",
       "</table>\n",
       "</div>"
      ],
      "text/plain": [
       "     user_id  operator_id  lvt_oper_id  calls_count  \\\n",
       "413   167626       919364           23         4820   \n",
       "687   168361       945286           36         5982   \n",
       "401   167626       919196           21         2575   \n",
       "394   167626       919162           22         2621   \n",
       "702   168361       945322           36         4069   \n",
       "693   168361       945302           36         3903   \n",
       "410   167626       919314           23         2415   \n",
       "426   167626       919504           19         1971   \n",
       "412   167626       919362           20         1983   \n",
       "404   167626       919202           20         1930   \n",
       "\n",
       "     исходящих_внешних_средн_в_день  \n",
       "413                           210.0  \n",
       "687                           166.0  \n",
       "401                           123.0  \n",
       "394                           119.0  \n",
       "702                           113.0  \n",
       "693                           108.0  \n",
       "410                           105.0  \n",
       "426                           104.0  \n",
       "412                            99.0  \n",
       "404                            96.0  "
      ]
     },
     "execution_count": 121,
     "metadata": {},
     "output_type": "execute_result"
    }
   ],
   "source": [
    "list_ish_graf['исходящих_внешних_средн_в_день'] = round(((list_ish_graf['calls_count'] / list_ish_graf['lvt_oper_id'])),0)\n",
    "list_ish_graf = list_ish_graf.sort_values(by=['исходящих_внешних_средн_в_день'], ascending=False)\n",
    "list_ish_graf.head(10)"
   ]
  },
  {
   "cell_type": "markdown",
   "metadata": {},
   "source": [
    "Топ 10 операторов с самой высокой частотой исходящих внешних в среднем в день "
   ]
  },
  {
   "cell_type": "code",
   "execution_count": 122,
   "metadata": {},
   "outputs": [
    {
     "data": {
      "text/html": [
       "<div>\n",
       "<style scoped>\n",
       "    .dataframe tbody tr th:only-of-type {\n",
       "        vertical-align: middle;\n",
       "    }\n",
       "\n",
       "    .dataframe tbody tr th {\n",
       "        vertical-align: top;\n",
       "    }\n",
       "\n",
       "    .dataframe thead th {\n",
       "        text-align: right;\n",
       "    }\n",
       "</style>\n",
       "<table border=\"1\" class=\"dataframe\">\n",
       "  <thead>\n",
       "    <tr style=\"text-align: right;\">\n",
       "      <th></th>\n",
       "      <th>исходящих_внешних_средн_в_день</th>\n",
       "      <th>operator_id</th>\n",
       "    </tr>\n",
       "  </thead>\n",
       "  <tbody>\n",
       "    <tr>\n",
       "      <th>413</th>\n",
       "      <td>210.0</td>\n",
       "      <td>919364</td>\n",
       "    </tr>\n",
       "    <tr>\n",
       "      <th>687</th>\n",
       "      <td>166.0</td>\n",
       "      <td>945286</td>\n",
       "    </tr>\n",
       "    <tr>\n",
       "      <th>401</th>\n",
       "      <td>123.0</td>\n",
       "      <td>919196</td>\n",
       "    </tr>\n",
       "    <tr>\n",
       "      <th>394</th>\n",
       "      <td>119.0</td>\n",
       "      <td>919162</td>\n",
       "    </tr>\n",
       "    <tr>\n",
       "      <th>702</th>\n",
       "      <td>113.0</td>\n",
       "      <td>945322</td>\n",
       "    </tr>\n",
       "    <tr>\n",
       "      <th>693</th>\n",
       "      <td>108.0</td>\n",
       "      <td>945302</td>\n",
       "    </tr>\n",
       "    <tr>\n",
       "      <th>410</th>\n",
       "      <td>105.0</td>\n",
       "      <td>919314</td>\n",
       "    </tr>\n",
       "    <tr>\n",
       "      <th>426</th>\n",
       "      <td>104.0</td>\n",
       "      <td>919504</td>\n",
       "    </tr>\n",
       "    <tr>\n",
       "      <th>412</th>\n",
       "      <td>99.0</td>\n",
       "      <td>919362</td>\n",
       "    </tr>\n",
       "    <tr>\n",
       "      <th>404</th>\n",
       "      <td>96.0</td>\n",
       "      <td>919202</td>\n",
       "    </tr>\n",
       "  </tbody>\n",
       "</table>\n",
       "</div>"
      ],
      "text/plain": [
       "     исходящих_внешних_средн_в_день  operator_id\n",
       "413                           210.0       919364\n",
       "687                           166.0       945286\n",
       "401                           123.0       919196\n",
       "394                           119.0       919162\n",
       "702                           113.0       945322\n",
       "693                           108.0       945302\n",
       "410                           105.0       919314\n",
       "426                           104.0       919504\n",
       "412                            99.0       919362\n",
       "404                            96.0       919202"
      ]
     },
     "execution_count": 122,
     "metadata": {},
     "output_type": "execute_result"
    }
   ],
   "source": [
    "list_ish_graf = list_ish_graf.head(10)\n",
    "list_ish_graf = list_ish_graf[['исходящих_внешних_средн_в_день', 'operator_id']]\n",
    "list_ish_graf"
   ]
  },
  {
   "cell_type": "code",
   "execution_count": 123,
   "metadata": {},
   "outputs": [
    {
     "data": {
      "image/png": "[encoded data removed]",
      "text/plain": [
       "<Figure size 1080x360 with 1 Axes>"
      ]
     },
     "metadata": {
      "needs_background": "light"
     },
     "output_type": "display_data"
    }
   ],
   "source": [
    "plt.figure(figsize=(15,5))\n",
    "sns.barplot(data=list_ish_graf, y='исходящих_внешних_средн_в_день', \n",
    "            x=\"operator_id\", \n",
    "            palette=sns.color_palette(\"BuGn_r\", n_colors=len(list_ish_graf)),\n",
    "           order=list_ish_graf.groupby('operator_id')['исходящих_внешних_средн_в_день'].agg('mean').sort_values(ascending=False).index)\n",
    "plt.title('Топ 10 операторов с самой высокой средней частотой исходящих внешних звонков в день')\n",
    "plt.xlabel('operator_id')\n",
    "plt.ylabel('средняя частота внешних \\nисходящих звонков в день, шт.')\n",
    "plt.show()"
   ]
  },
  {
   "cell_type": "markdown",
   "metadata": {},
   "source": [
    "<a id='5-2-2'></a>\n",
    "\n",
    "<font color='crimson'>\n",
    "\n",
    "#### по продолжительности звонка\n",
    "</font>\n"
   ]
  },
  {
   "cell_type": "code",
   "execution_count": 124,
   "metadata": {},
   "outputs": [],
   "source": [
    "# Найдем среднее время длительности одного звонка для каждого опеартора\n",
    "ineff_out_dur_resp  = wait_call.groupby('operator_id').mean()"
   ]
  },
  {
   "cell_type": "code",
   "execution_count": 125,
   "metadata": {
    "scrolled": true
   },
   "outputs": [
    {
     "name": "stdout",
     "output_type": "stream",
     "text": [
      "    out_lower_call - нижняя граница по средней длительности общения исходящего внешнего звонка = 11 секунд\n"
     ]
    },
    {
     "data": {
      "text/html": [
       "<div>\n",
       "<style scoped>\n",
       "    .dataframe tbody tr th:only-of-type {\n",
       "        vertical-align: middle;\n",
       "    }\n",
       "\n",
       "    .dataframe tbody tr th {\n",
       "        vertical-align: top;\n",
       "    }\n",
       "\n",
       "    .dataframe thead th {\n",
       "        text-align: right;\n",
       "    }\n",
       "</style>\n",
       "<table border=\"1\" class=\"dataframe\">\n",
       "  <thead>\n",
       "    <tr style=\"text-align: right;\">\n",
       "      <th></th>\n",
       "      <th>user_id</th>\n",
       "      <th>operator_id</th>\n",
       "      <th>avg_callt</th>\n",
       "    </tr>\n",
       "  </thead>\n",
       "  <tbody>\n",
       "    <tr>\n",
       "      <th>47</th>\n",
       "      <td>167995.0</td>\n",
       "      <td>941838</td>\n",
       "      <td>10.266667</td>\n",
       "    </tr>\n",
       "    <tr>\n",
       "      <th>54</th>\n",
       "      <td>168018.0</td>\n",
       "      <td>945902</td>\n",
       "      <td>10.259485</td>\n",
       "    </tr>\n",
       "    <tr>\n",
       "      <th>70</th>\n",
       "      <td>168225.0</td>\n",
       "      <td>970240</td>\n",
       "      <td>10.000000</td>\n",
       "    </tr>\n",
       "    <tr>\n",
       "      <th>55</th>\n",
       "      <td>168018.0</td>\n",
       "      <td>945904</td>\n",
       "      <td>9.918788</td>\n",
       "    </tr>\n",
       "    <tr>\n",
       "      <th>15</th>\n",
       "      <td>167436.0</td>\n",
       "      <td>914266</td>\n",
       "      <td>9.750000</td>\n",
       "    </tr>\n",
       "    <tr>\n",
       "      <th>50</th>\n",
       "      <td>168361.0</td>\n",
       "      <td>945294</td>\n",
       "      <td>9.406656</td>\n",
       "    </tr>\n",
       "    <tr>\n",
       "      <th>11</th>\n",
       "      <td>167188.0</td>\n",
       "      <td>908300</td>\n",
       "      <td>9.250000</td>\n",
       "    </tr>\n",
       "    <tr>\n",
       "      <th>34</th>\n",
       "      <td>168187.0</td>\n",
       "      <td>937720</td>\n",
       "      <td>9.000000</td>\n",
       "    </tr>\n",
       "    <tr>\n",
       "      <th>20</th>\n",
       "      <td>167626.0</td>\n",
       "      <td>919302</td>\n",
       "      <td>8.747666</td>\n",
       "    </tr>\n",
       "    <tr>\n",
       "      <th>29</th>\n",
       "      <td>168064.0</td>\n",
       "      <td>934476</td>\n",
       "      <td>8.666667</td>\n",
       "    </tr>\n",
       "  </tbody>\n",
       "</table>\n",
       "</div>"
      ],
      "text/plain": [
       "     user_id  operator_id  avg_callt\n",
       "47  167995.0       941838  10.266667\n",
       "54  168018.0       945902  10.259485\n",
       "70  168225.0       970240  10.000000\n",
       "55  168018.0       945904   9.918788\n",
       "15  167436.0       914266   9.750000\n",
       "50  168361.0       945294   9.406656\n",
       "11  167188.0       908300   9.250000\n",
       "34  168187.0       937720   9.000000\n",
       "20  167626.0       919302   8.747666\n",
       "29  168064.0       934476   8.666667"
      ]
     },
     "execution_count": 125,
     "metadata": {},
     "output_type": "execute_result"
    }
   ],
   "source": [
    "print(f'    out_lower_call - нижняя граница по средней длительности общения исходящего внешнего звонка = {round(out_lower_call,0)} секунд')\n",
    "\n",
    "# Отсортируем их по нижней границе эффективности\n",
    "ineff_out_lower_call = ineff_out_dur_resp.query('avg_callt < @out_lower_call').reset_index() \n",
    "ineff_out_lower_call = ineff_out_lower_call[['user_id', 'operator_id', 'avg_callt']]\n",
    "ineff_out_lower_call = ineff_out_lower_call.sort_values(by='avg_callt', ascending=False).head(10)\n",
    "ineff_out_lower_call"
   ]
  },
  {
   "cell_type": "code",
   "execution_count": 126,
   "metadata": {},
   "outputs": [
    {
     "data": {
      "image/png": "[encoded data removed]",
      "text/plain": [
       "<Figure size 1080x360 with 1 Axes>"
      ]
     },
     "metadata": {
      "needs_background": "light"
     },
     "output_type": "display_data"
    }
   ],
   "source": [
    "plt.figure(figsize=(15,5))\n",
    "sns.barplot(data=ineff_out_lower_call, y='avg_callt', \n",
    "            x=\"operator_id\", \n",
    "            palette=sns.color_palette(\"BuGn_r\", n_colors=len(ineff_out_lower_call)),\n",
    "           order=ineff_out_lower_call.groupby('operator_id')['avg_callt'].agg('mean').sort_values(ascending=False).index)\n",
    "plt.title('Топ 10 операторов, средняя продолжительность звонка котроых \\n НИЖЕ границы эффективности')\n",
    "plt.xlabel('operator_id')\n",
    "plt.ylabel('средняя продолжительность \\n исходящих внешнего звонка, сек')\n",
    "plt.show()"
   ]
  },
  {
   "cell_type": "code",
   "execution_count": 127,
   "metadata": {},
   "outputs": [
    {
     "name": "stdout",
     "output_type": "stream",
     "text": [
      "    out_upper_call - верхняя граница по средней длительности общения исходящего внешнего звонка = 591 секунд\n"
     ]
    },
    {
     "data": {
      "text/html": [
       "<div>\n",
       "<style scoped>\n",
       "    .dataframe tbody tr th:only-of-type {\n",
       "        vertical-align: middle;\n",
       "    }\n",
       "\n",
       "    .dataframe tbody tr th {\n",
       "        vertical-align: top;\n",
       "    }\n",
       "\n",
       "    .dataframe thead th {\n",
       "        text-align: right;\n",
       "    }\n",
       "</style>\n",
       "<table border=\"1\" class=\"dataframe\">\n",
       "  <thead>\n",
       "    <tr style=\"text-align: right;\">\n",
       "      <th></th>\n",
       "      <th>user_id</th>\n",
       "      <th>operator_id</th>\n",
       "      <th>avg_callt</th>\n",
       "    </tr>\n",
       "  </thead>\n",
       "  <tbody>\n",
       "    <tr>\n",
       "      <th>0</th>\n",
       "      <td>166520.0</td>\n",
       "      <td>891192</td>\n",
       "      <td>1306.0</td>\n",
       "    </tr>\n",
       "    <tr>\n",
       "      <th>1</th>\n",
       "      <td>166884.0</td>\n",
       "      <td>917890</td>\n",
       "      <td>647.0</td>\n",
       "    </tr>\n",
       "  </tbody>\n",
       "</table>\n",
       "</div>"
      ],
      "text/plain": [
       "    user_id  operator_id  avg_callt\n",
       "0  166520.0       891192     1306.0\n",
       "1  166884.0       917890      647.0"
      ]
     },
     "execution_count": 127,
     "metadata": {},
     "output_type": "execute_result"
    }
   ],
   "source": [
    "print(f'    out_upper_call - верхняя граница по средней длительности общения исходящего внешнего звонка = {round(out_upper_call,0)} секунд')\n",
    "# Отсортируем их по верхней границе эффективности\n",
    "ineff_out_upper_call = ineff_out_dur_resp.query('avg_callt > @out_upper_call').reset_index() \n",
    "ineff_out_upper_call = ineff_out_upper_call[['user_id', 'operator_id', 'avg_callt']]\n",
    "ineff_out_upper_call "
   ]
  },
  {
   "cell_type": "code",
   "execution_count": 128,
   "metadata": {},
   "outputs": [
    {
     "data": {
      "image/png": "[encoded data removed]",
      "text/plain": [
       "<Figure size 360x360 with 1 Axes>"
      ]
     },
     "metadata": {
      "needs_background": "light"
     },
     "output_type": "display_data"
    }
   ],
   "source": [
    "plt.figure(figsize=(5,5))\n",
    "sns.barplot(data=ineff_out_upper_call, y='avg_callt', \n",
    "            x=\"operator_id\", \n",
    "            palette=sns.color_palette(\"BuGn_r\", n_colors=len(ineff_out_upper_call)),\n",
    "           order=ineff_out_upper_call.groupby('operator_id')['avg_callt'].agg('mean').sort_values(ascending=False).index)\n",
    "plt.title('Операторы, средняя продолжительность звонка котроых \\n ВЫШЕ границы эффективности')\n",
    "plt.xlabel('operator_id')\n",
    "plt.ylabel('средняя продолжительность \\n исходящих внешнего звонка, сек')\n",
    "plt.show()"
   ]
  },
  {
   "cell_type": "markdown",
   "metadata": {},
   "source": [
    "<a id='6'></a>\n",
    "\n",
    "<font color='crimson'>\n",
    "<h2 align=\"center\"> Проверим гипотезы</h2>\n",
    "    \n",
    "</font>"
   ]
  },
  {
   "cell_type": "markdown",
   "metadata": {},
   "source": [
    "<a id='6-1'></a>\n",
    "\n",
    "<font color='crimson'>\n",
    "\n",
    "### Эффективность работы оперторов в выходные дни и в будни отличается\n",
    "\n",
    "</font>\n",
    "\n",
    "[К началу раздела](#6)<br>\n",
    "[К соддержанию](#0)"
   ]
  },
  {
   "cell_type": "markdown",
   "metadata": {},
   "source": [
    "Эффективность работы оперторов будем оценивать по количеству внешних не пропущенных звонков (исходящих/входящих не важно). Главное, что это - внешние звонки, т.е. связаные с работой с клиентами, а не внутренние - связанные с решением внутренних вопросов. Так как звонков в принципе больше в будние дни чем в выходные, мы будем руководтсвовоаться относительными значениями - будем смтреть количество только внешних непропущенных звонков относительно всех звонков.\n",
    "\n",
    "При проверке статистических гипотез будем использовать t-критерий Стьюдента, так как количество наблюдений достаточно много и в таком случае уже не важно будет ли распрделение нормальным. Так же в наших выборках есть совпадающие значения. "
   ]
  },
  {
   "cell_type": "markdown",
   "metadata": {},
   "source": [
    "**Сформулируем гипотезы:** \n",
    "\n",
    "**H_0**: Относительное количество внешних (internal==False) непропущенных(is_missed_call==False) звонков (calls_count) в **будние** дни<br> ***равно*** <br>относительному количеству внешних (internal==False) <br>непропущенных(is_missed_call==False) <br>звонков (calls_count) в **выходные** дни.<br>\n",
    "**H_1**: Относительное количество внешних (internal==False) непропущенных(is_missed_call==False) звонков (calls_count) в **будние** дни <br>***отличается*** от<br> относительного количества внешних (internal==False)непропущенных(is_missed_call==False) звонков (calls_count) в **выходные** дни.\n",
    "\n",
    "Значение уровня значимости зададим\n",
    "`alpha` = 0.05\n"
   ]
  },
  {
   "cell_type": "markdown",
   "metadata": {},
   "source": [
    "Для начала создадим вспомогательный столбец \"дни недели\":"
   ]
  },
  {
   "cell_type": "code",
   "execution_count": 129,
   "metadata": {},
   "outputs": [
    {
     "data": {
      "text/plain": [
       "array(['Monday', 'Tuesday', 'Wednesday', 'Thursday', 'Friday', 'Saturday',\n",
       "       'Sunday'], dtype=object)"
      ]
     },
     "execution_count": 129,
     "metadata": {},
     "output_type": "execute_result"
    }
   ],
   "source": [
    "df2['weekday'] = df2['date'].dt.day_name()\n",
    "df2['weekday'].unique()"
   ]
  },
  {
   "cell_type": "markdown",
   "metadata": {},
   "source": [
    "Сделаем выборки:"
   ]
  },
  {
   "cell_type": "code",
   "execution_count": 130,
   "metadata": {},
   "outputs": [],
   "source": [
    "weekdays = df2.query('weekday != \"Sunday\" and  weekday != \"Saturday\" and internal==False and is_missed_call==False')['calls_count']\n",
    "weekdays_total = df2.query('weekday != \"Sunday\" and  weekday != \"Saturday\"')['calls_count']"
   ]
  },
  {
   "cell_type": "code",
   "execution_count": 131,
   "metadata": {},
   "outputs": [],
   "source": [
    "weekend = df2.query('weekday == \"Sunday\" or  weekday == \"Saturday\" and internal==False and is_missed_call==False')['calls_count']\n",
    "weekend_total = df2.query('weekday == \"Sunday\" or  weekday == \"Saturday\"')['calls_count']"
   ]
  },
  {
   "cell_type": "code",
   "execution_count": 132,
   "metadata": {},
   "outputs": [
    {
     "name": "stdout",
     "output_type": "stream",
     "text": [
      "0    0.0\n",
      "1    0.0\n",
      "2    0.0\n",
      "3    0.0\n",
      "4    1.0\n",
      "Name: calls_count, dtype: float64 37053\n",
      "555    1.0\n",
      "556    0.0\n",
      "557    1.0\n",
      "558    1.0\n",
      "559    0.0\n",
      "Name: calls_count, dtype: float64 3805\n"
     ]
    }
   ],
   "source": [
    "# Процент пропущенных в будние дни\n",
    "perc_weekdays = (weekdays/weekdays_total).fillna(0)\n",
    "print(perc_weekdays.head(), len(perc_weekdays))\n",
    "# Процент пропущенных в выходные дни\n",
    "perc_weekend = (weekend/weekend_total).fillna(0)\n",
    "print(perc_weekend.head(), len(perc_weekend))"
   ]
  },
  {
   "cell_type": "code",
   "execution_count": 133,
   "metadata": {},
   "outputs": [
    {
     "name": "stdout",
     "output_type": "stream",
     "text": [
      "p-значение = 3.596162512664742e-187\n",
      "p-значение меньше уровня значимости, значит \n",
      "нулевую гипотезу о том, что относительное количество внешних звонков операторами \n",
      "в будни и в выходные дни одинаковое - отвергаем\n"
     ]
    }
   ],
   "source": [
    "# Зададим значение уровня значимости alpha\n",
    "alpha = 0.05\n",
    "\n",
    "# Вызовем метод для проверки гипотезы\n",
    "results = scipy.stats.ttest_ind(perc_weekdays, perc_weekend, equal_var=False)\n",
    "\n",
    "# вывод значения p-value на экран\n",
    "print('p-значение =', results.pvalue)\n",
    "\n",
    "if (results.pvalue < alpha):\n",
    "     print(\n",
    "        'p-значение меньше уровня значимости, значит \\n'+ \n",
    "        'нулевую гипотезу о том, что относительное количество внешних звонков операторами \\n'+\n",
    "        'в будни и в выходные дни одинаковое - отвергаем')\n",
    "else:\n",
    "    print('p-значение больше уровня значимости, значит \\n'+ \n",
    "        'нулевую гипотезу о том, что относительное количество внешних звонков операторами \\n'+\n",
    "        'в будни и в выходные дни одинаковое - отвергнуть не получится')\n"
   ]
  },
  {
   "cell_type": "markdown",
   "metadata": {},
   "source": [
    "<a id='6-2'></a>\n",
    "\n",
    "<font color='crimson'>\n",
    "\n",
    "### В выходные дни и в будни относительное количество пропущенных звонков одинаковое\n",
    "\n",
    "</font>\n",
    "\n",
    "[К началу раздела](#6)<br>\n",
    "[К соддержанию](#0)"
   ]
  },
  {
   "cell_type": "markdown",
   "metadata": {},
   "source": [
    "Пропущенные звонки будем считать относительно всех звонков в этот день.\n",
    "Будем как внешние тик и внутренние пропущенные.\n",
    "\n",
    "При проверке статистических гипотез так же будем использовать t-критерий Стьюдента, так как количество наблюдений достаточно много и в таком случае уже не важно будет ли распрделение нормальным. Так же в наших выборках есть совпадающие значения. "
   ]
  },
  {
   "cell_type": "markdown",
   "metadata": {},
   "source": [
    "**Сформулируем гипотезы:** \n",
    "\n",
    "**H_0**: Относительное количество пропущенных(is_missed_call==True) звонков (calls_count) в **будние** дни<br> ***равно*** <br>относительному количеству пропущенных(is_missed_call==True) звонков (calls_count) в **выходные** дни.<br>\n",
    "<br>\n",
    "**H_1**: Относительное количество пропущенных(is_missed_call==True) звонков (calls_count) в **будние** дни <br>***отличается*** от<br> относительного количества пропущенных(is_missed_call==True) звонков (calls_count) в **выходные** дни.\n",
    "\n",
    "Значение уровня значимости зададим\n",
    "`alpha` = 0.05\n"
   ]
  },
  {
   "cell_type": "code",
   "execution_count": 134,
   "metadata": {},
   "outputs": [],
   "source": [
    "# Найдем количество пропущенных в будние дни\n",
    "perc_weekdays_delimoe = df2.query('weekday != \"Sunday\" and  weekday != \"Saturday\" and is_missed_call==True')['calls_count']"
   ]
  },
  {
   "cell_type": "code",
   "execution_count": 135,
   "metadata": {},
   "outputs": [],
   "source": [
    "# Найдем количество пропущенных в выходные дни\n",
    "perc_weekend_delimoe = df2.query('weekday == \"Sunday\" or  weekday == \"Saturday\" and is_missed_call==True')['calls_count']"
   ]
  },
  {
   "cell_type": "code",
   "execution_count": 136,
   "metadata": {},
   "outputs": [
    {
     "name": "stdout",
     "output_type": "stream",
     "text": [
      "0    1.0\n",
      "1    1.0\n",
      "2    0.0\n",
      "3    1.0\n",
      "4    0.0\n",
      "Name: calls_count, dtype: float64 37053\n",
      "555    0.0\n",
      "556    1.0\n",
      "557    0.0\n",
      "558    0.0\n",
      "559    1.0\n",
      "Name: calls_count, dtype: float64 3805\n"
     ]
    }
   ],
   "source": [
    "# Процент пропущенных в будние дни\n",
    "perc_weekdays = (perc_weekdays_delimoe/weekdays_total).fillna(0)\n",
    "print(perc_weekdays.head(), len(perc_weekdays))\n",
    "# Процент пропущенных в выходные дни\n",
    "perc_weekend = (perc_weekend_delimoe/weekend_total).fillna(0)\n",
    "print(perc_weekend.head(), len(perc_weekend))"
   ]
  },
  {
   "cell_type": "code",
   "execution_count": 137,
   "metadata": {},
   "outputs": [
    {
     "data": {
      "text/plain": [
       "array([0., 1.])"
      ]
     },
     "execution_count": 137,
     "metadata": {},
     "output_type": "execute_result"
    }
   ],
   "source": [
    "perc_weekend.unique()"
   ]
  },
  {
   "cell_type": "code",
   "execution_count": 138,
   "metadata": {},
   "outputs": [
    {
     "name": "stdout",
     "output_type": "stream",
     "text": [
      "p-значение = 2.5370611257794904e-208\n",
      "p-значение меньше уровня значимости, значит \n",
      "нулевую гипотезу о том, что относительное количество пропущенных звонков операторами \n",
      "в будни и в выходные дни одинаковое - отвергаем\n"
     ]
    }
   ],
   "source": [
    "alpha = 0.05\n",
    "results = scipy.stats.ttest_ind(perc_weekdays, perc_weekend, equal_var=False)\n",
    "\n",
    "print('p-значение =', results.pvalue)\n",
    "\n",
    "if (results.pvalue < alpha):\n",
    "    print(\n",
    "        'p-значение меньше уровня значимости, значит \\n'+ \n",
    "        'нулевую гипотезу о том, что относительное количество пропущенных звонков операторами \\n'+\n",
    "        'в будни и в выходные дни одинаковое - отвергаем')\n",
    "else:\n",
    "    print('p-значение больше уровня значимости, значит \\n'+ \n",
    "        'нулевую гипотезу о том, что относительное количество пропущенных звонков операторами \\n'+\n",
    "        'в будни и в выходные дни одинаковое - отвергнуть не получится')"
   ]
  },
  {
   "cell_type": "markdown",
   "metadata": {},
   "source": [
    "<div style=\"border-radius: 22px; box-shadow: 4px 4px 4px; border: solid green 2px; padding: 16px\">\n",
    "\n",
    "**Выводы:**\n",
    "    \n",
    "Мы проверили две гипотезы статистичесчким методом."
   ]
  },
  {
   "cell_type": "markdown",
   "metadata": {},
   "source": [
    "<a id='7'></a>\n",
    "\n",
    "<font color='crimson'>\n",
    "<h2 align=\"center\"> Выводы</h2>\n",
    "    \n",
    "</font>"
   ]
  },
  {
   "cell_type": "markdown",
   "metadata": {},
   "source": [
    "В данном проекте\n",
    "* Мы выполнили предобработку:\n",
    "    * Объединили оба датафрейма, для удобства анализа тарифов и опыта операторов,\n",
    "    * Удалили дубликаты, так как данные агрегированные и дублей по агрегационным признакам быть не должно,\n",
    "    * Обработали пропуски в следующих столбцах:\n",
    "        * `operator_id` - выяснили, что пропуски могли возникнуть из-за того, что программа в некоторых случаях не успела назначить оператора для ответа, либо звонок был в нерабочее время, либо отвечат автоответчик,\n",
    "        * `internal` - природу возникновения пропусков выяснить не удалось - пропуски удалили,\n",
    "    * Обнаружили несоответствие данных в столбце `is_missed_call`, которое привели в порядок,\n",
    "    * Преобразовали типы данных,\n",
    "    * Убрали выбросы,\n",
    "    * Проверили на аномалии категориальные столбцы,\n",
    "    * Проверили корреляцию,\n",
    "    * Создали несколько вспомогательных столбцов, необходимых для анализа.\n",
    "* Выполнили исследовательский анализ, где\n",
    "    * Разделили колл-центры по специализации на те, которые специализируются на обработке входящих звонков и те, которые специализируются на обзвонах,\n",
    "    * Проверили связь специализации колл-центров с тарифными планами - связь не обнаружили.\n",
    "    * Оперделили границы эфеективности по различным признакам, отдельно дл колл-центров разной специализации:"
   ]
  },
  {
   "cell_type": "code",
   "execution_count": 139,
   "metadata": {},
   "outputs": [
    {
     "name": "stdout",
     "output_type": "stream",
     "text": [
      "Сводные данные по границам эффективности:\n",
      " для колл-центров, которые специализируются на обработке входящих звонков:\n",
      "    eff_missed_call - граница по количеству пропущенных внешних входящих в месяц = 5 шт.\n",
      "    eff_wait_time - граница по среднему времени ожидания = 39 секунд\n",
      "    lower_eff_resp - нижняя граница по среднему времени ответа = 4 секунд\n",
      "    upper_eff_resp - верхняя граница по среднему времени ответа = 567 секунд\n",
      " для колл-центров, которые специализируются на обзвонах:\n",
      "    out_lower_eff - нижняя граница по количеству исходящих внешних звонков = 1 шт.\n",
      "    out_upper_eff - верхняя граница по количеству исходящих внешних звонков = 2291 шт.\n",
      "    out_lower_call - нижняя граница по средней длительности общения исходящего внешнего звонка = 11 секунд\n",
      "    out_upper_call - верхняя граница по средней длительности общения исходящего внешнего звонка = 591 секунд\n"
     ]
    }
   ],
   "source": [
    "print('Сводные данные по границам эффективности:')\n",
    "print(' для колл-центров, которые специализируются на обработке входящих звонков:')\n",
    "print(f'    eff_missed_call - граница по количеству пропущенных внешних входящих в месяц = {round(eff_missed_call,0)} шт.')\n",
    "print(f'    eff_wait_time - граница по среднему времени ожидания = {round(eff_wait_time,0)} секунд')\n",
    "print(f'    lower_eff_resp - нижняя граница по среднему времени ответа = {round(lower_eff_resp,0)} секунд')\n",
    "print(f'    upper_eff_resp - верхняя граница по среднему времени ответа = {round(upper_eff_resp,0)} секунд')\n",
    "print(' для колл-центров, которые специализируются на обзвонах:')\n",
    "print(f'    out_lower_eff - нижняя граница по количеству исходящих внешних звонков = {round(out_lower_eff,0)} шт.')\n",
    "print(f'    out_upper_eff - верхняя граница по количеству исходящих внешних звонков = {round(out_upper_eff,0)} шт.')\n",
    "print(f'    out_lower_call - нижняя граница по средней длительности общения исходящего внешнего звонка = {round(out_lower_call,0)} секунд')\n",
    "print(f'    out_upper_call - верхняя граница по средней длительности общения исходящего внешнего звонка = {round(out_upper_call,0)} секунд')\n"
   ]
  },
  {
   "cell_type": "markdown",
   "metadata": {},
   "source": [
    "Далее мы нашли операторов по определенным выше границам эффективности, для соответсвующих колл-центров, которых оказалось не много.\n",
    "\n",
    "После проверили статистические гипотезы:\n",
    "* Отвергли гипотезу о том, что относительное количество внешних звонков операторами в будни и в выходные дни одинаковое,\n",
    "* Отвергли гипотезу о том, что относительное количество пропущенных звонков операторами в будни и в выходные дни одинаковое.\n",
    "\n",
    "**По разработаке методики, по которой можно будет определять неэффективных операторов автоматически, предлагаю определять неэффективных операторов отдельно исходя из специализации колл-центров и по каждому признаку отдельно.**"
   ]
  },
  {
   "cell_type": "markdown",
   "metadata": {},
   "source": [
    "Благодарю за внимание!<br>\n",
    "[В начало](#nachalo)"
   ]
  },
  {
   "cell_type": "markdown",
   "metadata": {},
   "source": [
    "Сохранение нужного файла для дашборда"
   ]
  },
  {
   "cell_type": "code",
   "execution_count": 144,
   "metadata": {},
   "outputs": [],
   "source": [
    "df2.to_csv('Telecom_final_base.csv')"
   ]
  }
 ],
 "metadata": {
  "kernelspec": {
   "display_name": "Python 3",
   "language": "python",
   "name": "python3"
  },
  "language_info": {
   "codemirror_mode": {
    "name": "ipython",
    "version": 3
   },
   "file_extension": ".py",
   "mimetype": "text/x-python",
   "name": "python",
   "nbconvert_exporter": "python",
   "pygments_lexer": "ipython3",
   "version": "3.7.3"
  }
 },
 "nbformat": 4,
 "nbformat_minor": 2
}
